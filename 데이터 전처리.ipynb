{
 "cells": [
  {
   "cell_type": "code",
   "execution_count": 1,
   "id": "0c22dfe8",
   "metadata": {},
   "outputs": [],
   "source": [
    "# pip install geopy\n",
    "\n",
    "import pandas as pd\n",
    "from geopy.geocoders import Nominatim"
   ]
  },
  {
   "cell_type": "code",
   "execution_count": 2,
   "id": "3e26a5a1",
   "metadata": {},
   "outputs": [],
   "source": [
    "unpreprocessed = pd.read_csv('신호위반_민원_단속카메라_위도경도_지역구분.csv', encoding='cp949')"
   ]
  },
  {
   "cell_type": "code",
   "execution_count": 3,
   "id": "216d778f",
   "metadata": {},
   "outputs": [
    {
     "data": {
      "text/html": [
       "<div>\n",
       "<style scoped>\n",
       "    .dataframe tbody tr th:only-of-type {\n",
       "        vertical-align: middle;\n",
       "    }\n",
       "\n",
       "    .dataframe tbody tr th {\n",
       "        vertical-align: top;\n",
       "    }\n",
       "\n",
       "    .dataframe thead th {\n",
       "        text-align: right;\n",
       "    }\n",
       "</style>\n",
       "<table border=\"1\" class=\"dataframe\">\n",
       "  <thead>\n",
       "    <tr style=\"text-align: right;\">\n",
       "      <th></th>\n",
       "      <th>위도</th>\n",
       "      <th>경도</th>\n",
       "      <th>구분</th>\n",
       "      <th>시도</th>\n",
       "      <th>시군구</th>\n",
       "    </tr>\n",
       "  </thead>\n",
       "  <tbody>\n",
       "    <tr>\n",
       "      <th>0</th>\n",
       "      <td>37.465612</td>\n",
       "      <td>127.974247</td>\n",
       "      <td>신호위반 단속카메라</td>\n",
       "      <td>강원특별자치도</td>\n",
       "      <td>횡성군</td>\n",
       "    </tr>\n",
       "    <tr>\n",
       "      <th>1</th>\n",
       "      <td>38.121015</td>\n",
       "      <td>128.208753</td>\n",
       "      <td>신호위반 단속카메라</td>\n",
       "      <td>강원특별자치도</td>\n",
       "      <td>인제군</td>\n",
       "    </tr>\n",
       "    <tr>\n",
       "      <th>2</th>\n",
       "      <td>38.148825</td>\n",
       "      <td>127.300836</td>\n",
       "      <td>신호위반 단속카메라</td>\n",
       "      <td>강원특별자치도</td>\n",
       "      <td>철원군</td>\n",
       "    </tr>\n",
       "    <tr>\n",
       "      <th>3</th>\n",
       "      <td>37.836160</td>\n",
       "      <td>128.844213</td>\n",
       "      <td>신호위반 단속카메라</td>\n",
       "      <td>강원특별자치도</td>\n",
       "      <td>강릉시</td>\n",
       "    </tr>\n",
       "    <tr>\n",
       "      <th>4</th>\n",
       "      <td>38.064880</td>\n",
       "      <td>128.175403</td>\n",
       "      <td>신호위반 단속카메라</td>\n",
       "      <td>강원특별자치도</td>\n",
       "      <td>인제군</td>\n",
       "    </tr>\n",
       "    <tr>\n",
       "      <th>...</th>\n",
       "      <td>...</td>\n",
       "      <td>...</td>\n",
       "      <td>...</td>\n",
       "      <td>...</td>\n",
       "      <td>...</td>\n",
       "    </tr>\n",
       "    <tr>\n",
       "      <th>79939</th>\n",
       "      <td>38.191803</td>\n",
       "      <td>128.579178</td>\n",
       "      <td>신호위반 민원</td>\n",
       "      <td>강원특별자치도</td>\n",
       "      <td>속초시</td>\n",
       "    </tr>\n",
       "    <tr>\n",
       "      <th>79940</th>\n",
       "      <td>35.126899</td>\n",
       "      <td>126.789615</td>\n",
       "      <td>신호위반 민원</td>\n",
       "      <td>광주</td>\n",
       "      <td>광산구</td>\n",
       "    </tr>\n",
       "    <tr>\n",
       "      <th>79941</th>\n",
       "      <td>37.259304</td>\n",
       "      <td>127.104538</td>\n",
       "      <td>신호위반 민원</td>\n",
       "      <td>경기도</td>\n",
       "      <td>용인시</td>\n",
       "    </tr>\n",
       "    <tr>\n",
       "      <th>79942</th>\n",
       "      <td>37.466927</td>\n",
       "      <td>126.896164</td>\n",
       "      <td>신호위반 민원</td>\n",
       "      <td>서울</td>\n",
       "      <td>금천구</td>\n",
       "    </tr>\n",
       "    <tr>\n",
       "      <th>79943</th>\n",
       "      <td>35.163863</td>\n",
       "      <td>128.126226</td>\n",
       "      <td>신호위반 민원</td>\n",
       "      <td>경상남도</td>\n",
       "      <td>진주시</td>\n",
       "    </tr>\n",
       "  </tbody>\n",
       "</table>\n",
       "<p>79944 rows × 5 columns</p>\n",
       "</div>"
      ],
      "text/plain": [
       "              위도          경도          구분       시도  시군구\n",
       "0      37.465612  127.974247  신호위반 단속카메라  강원특별자치도  횡성군\n",
       "1      38.121015  128.208753  신호위반 단속카메라  강원특별자치도  인제군\n",
       "2      38.148825  127.300836  신호위반 단속카메라  강원특별자치도  철원군\n",
       "3      37.836160  128.844213  신호위반 단속카메라  강원특별자치도  강릉시\n",
       "4      38.064880  128.175403  신호위반 단속카메라  강원특별자치도  인제군\n",
       "...          ...         ...         ...      ...  ...\n",
       "79939  38.191803  128.579178     신호위반 민원  강원특별자치도  속초시\n",
       "79940  35.126899  126.789615     신호위반 민원       광주  광산구\n",
       "79941  37.259304  127.104538     신호위반 민원      경기도  용인시\n",
       "79942  37.466927  126.896164     신호위반 민원       서울  금천구\n",
       "79943  35.163863  128.126226     신호위반 민원     경상남도  진주시\n",
       "\n",
       "[79944 rows x 5 columns]"
      ]
     },
     "execution_count": 3,
     "metadata": {},
     "output_type": "execute_result"
    }
   ],
   "source": [
    "unpreprocessed"
   ]
  },
  {
   "cell_type": "markdown",
   "id": "638d487c",
   "metadata": {},
   "source": [
    "위 데이터는 데이터 전처리가 되지 않은 상태(이상값, 결측치 존재)"
   ]
  },
  {
   "cell_type": "code",
   "execution_count": 4,
   "id": "43f66cae",
   "metadata": {
    "scrolled": true
   },
   "outputs": [
    {
     "data": {
      "text/plain": [
       "array(['강원특별자치도', '서울', '경기도', '광주', '대전', '전라남도', '경상북도', '인천', '영등포동7가',\n",
       "       '충청남도', '전라북도', '순천시', '여수시', '대구', '청도군', '칠곡군', '부산', '경상남도',\n",
       "       '충청북도', '창원시', '통영시', '제주특별자치도', '서귀포시', '제주시', '파주시', '달성군',\n",
       "       '수성구', '청주시', '신평군', '남양주시', '울산', '남구', '중구', '강서구', '부평구', '세종',\n",
       "       '서구', '태안군', '보령시', '천안시', '광주시', '화성시', '군산시', '부안군', '구례군',\n",
       "       '나주시', '화순군', '영암군', '장성군', '김천시', '포천시', '의정부시', '안산시', '아산시',\n",
       "       '김포시', '영도구', '가평군', '성남시', '구리시', '평택시', '계양구', '청양군', '동구',\n",
       "       '당진시', '무안군', '창녕군', '진주시', '중랑구', '동작구', '수원시', '고양시', '성북구',\n",
       "       '신안군', '강남구', '담양군', '서초구', '경산시', '포항시'], dtype=object)"
      ]
     },
     "execution_count": 4,
     "metadata": {},
     "output_type": "execute_result"
    }
   ],
   "source": [
    "unpreprocessed['시도'].unique()"
   ]
  },
  {
   "cell_type": "markdown",
   "id": "8cc89378",
   "metadata": {},
   "source": [
    "시도 컬럼에 영등포동7가, 순천시, 여수시, 청도군, 칠곡군, 창원시, 통영시, 서귀포시, 제주시, 파주시, 달성군, 수성구, 청주시, 신평군, 남양주시,\n",
    "남구, 중구, 강서구, 부평구, 서구, 태안군, 보령시, 천안시, 광주시, 화성시, 군산시, 부안군, 구례군, 나주시, 화순군, 영암군, 장성군, 김천시,\n",
    "포천시, 의정부시, 안산시, 아산시, 김포시, 영도구, 가평군, 성남시, 구리시, 평택시, 계양구, 청양군, 동구, 당진시, 무안군, 창녕군, 진주시,\n",
    "중랑구, 동작구, 수원시, 고양시, 성북구, 신안군, 강남구, 담양군, 서초구, 경산시, 포항시가 포함되어 있음."
   ]
  },
  {
   "cell_type": "code",
   "execution_count": 5,
   "id": "42c4693a",
   "metadata": {},
   "outputs": [
    {
     "data": {
      "text/plain": [
       "array(['횡성군', '인제군', '철원군', '강릉시', '원주시', '홍천군', '성동구', '중랑구', '관악구',\n",
       "       '서초구', '노원구', '성북구', '서울', '하남시', '중구', '종로구', '서대문구', '송파구',\n",
       "       '금천구', '영등포구', '강동구', '은평구', '서구', '남구', '북구', '유성구', '화순군', '구로구',\n",
       "       '삼척시', '부천시', '용산구', '도봉구', '강서구', '동작구', '광진구', '가평군', '남양주시',\n",
       "       '구리시', '김천시', '이천시', '음성군', '마포구', '강남구', '강북구', '동대문구', '양주시',\n",
       "       '의정부시', '포천시', '양천구', '성남시', '수원시', '안양시', '안산시', '광명시', '과천시',\n",
       "       '평택시', '김포시', '여주시', '오산시', '화성시', '시흥시', '용인시', '남동구', '미추홀구',\n",
       "       '부평구', '동구', '연수구', '강화군', '광주시', '의왕시', '군포시', '양평군', '강진군',\n",
       "       '완도군', '목포시', '무안군', '장성군', '나주시', '영암군', '광산구', '해남군', '순천시',\n",
       "       '여수시', '서산시', '장수군', '광양시', '학구리', '고흥군', '영광군', '진도군', '곡성군',\n",
       "       '함평군', '구례군', '장흥군', '동두천시', '고양시', '연천군', '파주시', '춘천시', '문경시',\n",
       "       '보성군', '남산동', '경주시', '경산시', '성주군', '울진군', '포항시', '구미시', '칠곡군',\n",
       "       '안동시', '영천시', '고령군', '의성군', '영덕군', '담양군', '군위군', '상주시', '영주시',\n",
       "       '예천군', '영양군', '금천면', '청송군', '청도군', '봉화군', '석적읍', '금정구', '사상구',\n",
       "       '함양군', '괴산군', '양산시', '진주시', '안성시', '창원시', '김해시', '거제시', '고성군',\n",
       "       '산청군', '의령군', '거창군', '사천시', '함안군', '통영시', '창녕군', '하동군', '밀양시',\n",
       "       '남해군', '합천군', '성산구', '계양구', '인천', '아산시', '사하구', '동래구', '부산진구',\n",
       "       '연제구', nan, '서귀포시', '제주시', '수성구', '대덕구', '신흥로', '비자림로', '서귀동',\n",
       "       '달성군', '달서구', '속초시', '금촌1동', '기장군', '현풍읍', '대구', '고산1동', '청주시',\n",
       "       '충주시', '제천시', '영동군', '증평군', '옥천군', '단양군', '진천군', '청원구', '보은군',\n",
       "       '태안군', '논산시', '예산군', '보령시', '금산군', '신평읍', '수동면', '25105', '홍성군',\n",
       "       '공주시', '천안시', '동해시', '양양군', '양구군', '평창군', '태백시', '울주군', '영월군',\n",
       "       '정선군', '선암동', '용유동', '화곡3동', '삼산동', '영도구', '종촌동', '다정동', '전동면',\n",
       "       '조치원읍', '봉안리', '장재리', 'Bangok-dong', '누리동', '아름동', '연기면', '전의면',\n",
       "       '부강면', '도담동', '용포리', '장군면', '연동면', '고운동', '새롬동', '나성동', '한솔동',\n",
       "       '연서면', '소정면', '금정동', '연기리', '호탄리', '청라2동', '부산', '명동', '해운대구',\n",
       "       '수영구', '산본동', '익산시', '부안군', '김제시', '전주시', '임실군', '무주군', '부여군',\n",
       "       '고창군', '순창군', '군산시', '남원시', '완주군', '정읍시', '26150', '계룡시', '서천군',\n",
       "       '당진시', '청양군', '화천군', '모항리', '서북구', '오포1동', '이화리', '옥도면', '안중읍',\n",
       "       '백련리', '진안군', '창기리', '비응도동', '성북동', '가도로', '새만금북로', '앵남리', '삼호읍',\n",
       "       '신안군', '용흥리', '오식도동', '산울동', '송곡리', '신복로터리', '신팔리', '동장산로', '진월동',\n",
       "       '의정부2동', '상록구', '공수리', '동탄7동', '고촌읍', '해밀동', '신정1동', '오전동', '영선2동',\n",
       "       '수정구', '다리 아래 쉼터', '소사동', '작전서운동', '신촌리', '번영로', '필동', '충장동',\n",
       "       '석문면', '성덕리', '일로읍', '일주동로', '산단로', '세종', '마산리', '금남면', '창녕읍',\n",
       "       '옹진군', '일심리', '망우본동', '상도1동', '광주', '당정동', '검단동', '서해로', '영통구',\n",
       "       '동탄5동', '죽포리', '일산동구', '정릉3동', '송공리', '역삼2동', '명지동', '장고항리', '파도리',\n",
       "       '왕숙길벚교 쉼터', '화순읍', '권선구', '양곡리', '향교리', '수망리', '상삼리', '가도안1길',\n",
       "       '안골', '진량읍', '매향리', '오류왕길동'], dtype=object)"
      ]
     },
     "execution_count": 5,
     "metadata": {},
     "output_type": "execute_result"
    }
   ],
   "source": [
    "unpreprocessed['시군구'].unique()"
   ]
  },
  {
   "cell_type": "markdown",
   "id": "8f1725cb",
   "metadata": {},
   "source": [
    "'서울', '남산동', '석적읍' 등 이상치 존재"
   ]
  },
  {
   "cell_type": "code",
   "execution_count": 6,
   "id": "5d669cf1",
   "metadata": {},
   "outputs": [],
   "source": [
    "# 역지오코딩 하는 함수\n",
    "\n",
    "def geocoding_reverse(lat_lng_str): \n",
    "    geolocoder = Nominatim(user_agent = 'South Korea', timeout=None)\n",
    "    address = geolocoder.reverse(lat_lng_str)\n",
    "\n",
    "    return address"
   ]
  },
  {
   "cell_type": "code",
   "execution_count": 7,
   "id": "3be618cf",
   "metadata": {
    "scrolled": true
   },
   "outputs": [
    {
     "name": "stdout",
     "output_type": "stream",
     "text": [
      "['횡성로', '묵계리', '횡성읍', '횡성군', '강원특별자치도', '25241', '대한민국']\n"
     ]
    }
   ],
   "source": [
    "# 함수 사용 예\n",
    "addr_list = []\n",
    "address = geocoding_reverse('37.465612, 127.974247')\n",
    "\n",
    "addr_list = str(address).split(', ')\n",
    "\n",
    "print(addr_list)"
   ]
  },
  {
   "cell_type": "markdown",
   "id": "4738bf18",
   "metadata": {},
   "source": [
    "-1 인덱스 : 국가  \n",
    "-2 인덱스 : 우편번호  \n",
    "-3 인덱스 : 시도  \n",
    "-4 인덱스 : 시군구  \n",
    "(근데 항상 이 형식으로 리턴하지 않음)"
   ]
  },
  {
   "cell_type": "code",
   "execution_count": 8,
   "id": "fb63958e",
   "metadata": {},
   "outputs": [
    {
     "name": "stdout",
     "output_type": "stream",
     "text": [
      "['통영시', '경상남도', '대한민국']\n"
     ]
    }
   ],
   "source": [
    "addr_list = []\n",
    "address = geocoding_reverse('34.534616, 128.385622')\n",
    "\n",
    "addr_list = str(address).split(', ')\n",
    "\n",
    "print(addr_list)"
   ]
  },
  {
   "cell_type": "markdown",
   "id": "dcc4b751",
   "metadata": {},
   "source": [
    "이런식으로 나오기도 한다. 그래서 데이터 저장 과정에서 이상치 발생"
   ]
  },
  {
   "cell_type": "code",
   "execution_count": 9,
   "id": "c1c3b12d",
   "metadata": {
    "scrolled": false
   },
   "outputs": [
    {
     "data": {
      "text/html": [
       "<div>\n",
       "<style scoped>\n",
       "    .dataframe tbody tr th:only-of-type {\n",
       "        vertical-align: middle;\n",
       "    }\n",
       "\n",
       "    .dataframe tbody tr th {\n",
       "        vertical-align: top;\n",
       "    }\n",
       "\n",
       "    .dataframe thead th {\n",
       "        text-align: right;\n",
       "    }\n",
       "</style>\n",
       "<table border=\"1\" class=\"dataframe\">\n",
       "  <thead>\n",
       "    <tr style=\"text-align: right;\">\n",
       "      <th></th>\n",
       "      <th>위도</th>\n",
       "      <th>경도</th>\n",
       "      <th>구분</th>\n",
       "      <th>시도</th>\n",
       "      <th>시군구</th>\n",
       "    </tr>\n",
       "  </thead>\n",
       "  <tbody>\n",
       "    <tr>\n",
       "      <th>639</th>\n",
       "      <td>37.522935</td>\n",
       "      <td>126.904977</td>\n",
       "      <td>신호위반 단속카메라</td>\n",
       "      <td>영등포동7가</td>\n",
       "      <td>영등포구</td>\n",
       "    </tr>\n",
       "    <tr>\n",
       "      <th>16201</th>\n",
       "      <td>37.525579</td>\n",
       "      <td>126.911050</td>\n",
       "      <td>신호위반 민원</td>\n",
       "      <td>영등포동7가</td>\n",
       "      <td>영등포구</td>\n",
       "    </tr>\n",
       "    <tr>\n",
       "      <th>23976</th>\n",
       "      <td>37.525064</td>\n",
       "      <td>126.909658</td>\n",
       "      <td>신호위반 민원</td>\n",
       "      <td>영등포동7가</td>\n",
       "      <td>영등포구</td>\n",
       "    </tr>\n",
       "    <tr>\n",
       "      <th>28934</th>\n",
       "      <td>37.525168</td>\n",
       "      <td>126.909665</td>\n",
       "      <td>신호위반 민원</td>\n",
       "      <td>영등포동7가</td>\n",
       "      <td>영등포구</td>\n",
       "    </tr>\n",
       "    <tr>\n",
       "      <th>29074</th>\n",
       "      <td>37.525069</td>\n",
       "      <td>126.909617</td>\n",
       "      <td>신호위반 민원</td>\n",
       "      <td>영등포동7가</td>\n",
       "      <td>영등포구</td>\n",
       "    </tr>\n",
       "    <tr>\n",
       "      <th>30668</th>\n",
       "      <td>37.524982</td>\n",
       "      <td>126.909468</td>\n",
       "      <td>신호위반 민원</td>\n",
       "      <td>영등포동7가</td>\n",
       "      <td>영등포구</td>\n",
       "    </tr>\n",
       "    <tr>\n",
       "      <th>32654</th>\n",
       "      <td>37.524398</td>\n",
       "      <td>126.907808</td>\n",
       "      <td>신호위반 민원</td>\n",
       "      <td>영등포동7가</td>\n",
       "      <td>영등포구</td>\n",
       "    </tr>\n",
       "    <tr>\n",
       "      <th>39901</th>\n",
       "      <td>37.522896</td>\n",
       "      <td>126.905202</td>\n",
       "      <td>신호위반 민원</td>\n",
       "      <td>영등포동7가</td>\n",
       "      <td>영등포구</td>\n",
       "    </tr>\n",
       "    <tr>\n",
       "      <th>43710</th>\n",
       "      <td>37.522909</td>\n",
       "      <td>126.903842</td>\n",
       "      <td>신호위반 민원</td>\n",
       "      <td>영등포동7가</td>\n",
       "      <td>영등포구</td>\n",
       "    </tr>\n",
       "    <tr>\n",
       "      <th>44920</th>\n",
       "      <td>37.525369</td>\n",
       "      <td>126.911028</td>\n",
       "      <td>신호위반 민원</td>\n",
       "      <td>영등포동7가</td>\n",
       "      <td>영등포구</td>\n",
       "    </tr>\n",
       "    <tr>\n",
       "      <th>54909</th>\n",
       "      <td>37.523150</td>\n",
       "      <td>126.901853</td>\n",
       "      <td>신호위반 민원</td>\n",
       "      <td>영등포동7가</td>\n",
       "      <td>영등포구</td>\n",
       "    </tr>\n",
       "    <tr>\n",
       "      <th>60706</th>\n",
       "      <td>37.525437</td>\n",
       "      <td>126.906115</td>\n",
       "      <td>신호위반 민원</td>\n",
       "      <td>영등포동7가</td>\n",
       "      <td>영등포구</td>\n",
       "    </tr>\n",
       "    <tr>\n",
       "      <th>63938</th>\n",
       "      <td>37.525605</td>\n",
       "      <td>126.910872</td>\n",
       "      <td>신호위반 민원</td>\n",
       "      <td>영등포동7가</td>\n",
       "      <td>영등포구</td>\n",
       "    </tr>\n",
       "    <tr>\n",
       "      <th>68622</th>\n",
       "      <td>37.522795</td>\n",
       "      <td>126.903831</td>\n",
       "      <td>신호위반 민원</td>\n",
       "      <td>영등포동7가</td>\n",
       "      <td>영등포구</td>\n",
       "    </tr>\n",
       "    <tr>\n",
       "      <th>68789</th>\n",
       "      <td>37.523481</td>\n",
       "      <td>126.906963</td>\n",
       "      <td>신호위반 민원</td>\n",
       "      <td>영등포동7가</td>\n",
       "      <td>영등포구</td>\n",
       "    </tr>\n",
       "    <tr>\n",
       "      <th>69418</th>\n",
       "      <td>37.522559</td>\n",
       "      <td>126.906594</td>\n",
       "      <td>신호위반 민원</td>\n",
       "      <td>영등포동7가</td>\n",
       "      <td>영등포구</td>\n",
       "    </tr>\n",
       "    <tr>\n",
       "      <th>69420</th>\n",
       "      <td>37.522982</td>\n",
       "      <td>126.905281</td>\n",
       "      <td>신호위반 민원</td>\n",
       "      <td>영등포동7가</td>\n",
       "      <td>영등포구</td>\n",
       "    </tr>\n",
       "    <tr>\n",
       "      <th>69834</th>\n",
       "      <td>37.522909</td>\n",
       "      <td>126.905259</td>\n",
       "      <td>신호위반 민원</td>\n",
       "      <td>영등포동7가</td>\n",
       "      <td>영등포구</td>\n",
       "    </tr>\n",
       "    <tr>\n",
       "      <th>71978</th>\n",
       "      <td>37.524223</td>\n",
       "      <td>126.908203</td>\n",
       "      <td>신호위반 민원</td>\n",
       "      <td>영등포동7가</td>\n",
       "      <td>영등포구</td>\n",
       "    </tr>\n",
       "    <tr>\n",
       "      <th>74570</th>\n",
       "      <td>37.524854</td>\n",
       "      <td>126.909466</td>\n",
       "      <td>신호위반 민원</td>\n",
       "      <td>영등포동7가</td>\n",
       "      <td>영등포구</td>\n",
       "    </tr>\n",
       "    <tr>\n",
       "      <th>74891</th>\n",
       "      <td>37.525487</td>\n",
       "      <td>126.905515</td>\n",
       "      <td>신호위반 민원</td>\n",
       "      <td>영등포동7가</td>\n",
       "      <td>영등포구</td>\n",
       "    </tr>\n",
       "    <tr>\n",
       "      <th>75747</th>\n",
       "      <td>37.525349</td>\n",
       "      <td>126.906649</td>\n",
       "      <td>신호위반 민원</td>\n",
       "      <td>영등포동7가</td>\n",
       "      <td>영등포구</td>\n",
       "    </tr>\n",
       "    <tr>\n",
       "      <th>76725</th>\n",
       "      <td>37.522938</td>\n",
       "      <td>126.905897</td>\n",
       "      <td>신호위반 민원</td>\n",
       "      <td>영등포동7가</td>\n",
       "      <td>영등포구</td>\n",
       "    </tr>\n",
       "  </tbody>\n",
       "</table>\n",
       "</div>"
      ],
      "text/plain": [
       "              위도          경도          구분      시도   시군구\n",
       "639    37.522935  126.904977  신호위반 단속카메라  영등포동7가  영등포구\n",
       "16201  37.525579  126.911050     신호위반 민원  영등포동7가  영등포구\n",
       "23976  37.525064  126.909658     신호위반 민원  영등포동7가  영등포구\n",
       "28934  37.525168  126.909665     신호위반 민원  영등포동7가  영등포구\n",
       "29074  37.525069  126.909617     신호위반 민원  영등포동7가  영등포구\n",
       "30668  37.524982  126.909468     신호위반 민원  영등포동7가  영등포구\n",
       "32654  37.524398  126.907808     신호위반 민원  영등포동7가  영등포구\n",
       "39901  37.522896  126.905202     신호위반 민원  영등포동7가  영등포구\n",
       "43710  37.522909  126.903842     신호위반 민원  영등포동7가  영등포구\n",
       "44920  37.525369  126.911028     신호위반 민원  영등포동7가  영등포구\n",
       "54909  37.523150  126.901853     신호위반 민원  영등포동7가  영등포구\n",
       "60706  37.525437  126.906115     신호위반 민원  영등포동7가  영등포구\n",
       "63938  37.525605  126.910872     신호위반 민원  영등포동7가  영등포구\n",
       "68622  37.522795  126.903831     신호위반 민원  영등포동7가  영등포구\n",
       "68789  37.523481  126.906963     신호위반 민원  영등포동7가  영등포구\n",
       "69418  37.522559  126.906594     신호위반 민원  영등포동7가  영등포구\n",
       "69420  37.522982  126.905281     신호위반 민원  영등포동7가  영등포구\n",
       "69834  37.522909  126.905259     신호위반 민원  영등포동7가  영등포구\n",
       "71978  37.524223  126.908203     신호위반 민원  영등포동7가  영등포구\n",
       "74570  37.524854  126.909466     신호위반 민원  영등포동7가  영등포구\n",
       "74891  37.525487  126.905515     신호위반 민원  영등포동7가  영등포구\n",
       "75747  37.525349  126.906649     신호위반 민원  영등포동7가  영등포구\n",
       "76725  37.522938  126.905897     신호위반 민원  영등포동7가  영등포구"
      ]
     },
     "execution_count": 9,
     "metadata": {},
     "output_type": "execute_result"
    }
   ],
   "source": [
    "# 이상치데이터 예시 1\n",
    "unpreprocessed[unpreprocessed['시도']=='영등포동7가']"
   ]
  },
  {
   "cell_type": "markdown",
   "id": "ab3d1dd5",
   "metadata": {},
   "source": [
    "시도가 '영등포동7가'로 되어있는 데이터를 조회결과  \n",
    "시군구는 '영등포구'로 다 들어가 있기 때문에  \n",
    "'영등포동7가'를 서울로 바꿔야 한다."
   ]
  },
  {
   "cell_type": "code",
   "execution_count": 10,
   "id": "9ba0afd5",
   "metadata": {},
   "outputs": [
    {
     "name": "stdout",
     "output_type": "stream",
     "text": [
      "['75', '영중로', '영등포동', '영등포구', '영등포동7가', '07245', '대한민국']\n"
     ]
    }
   ],
   "source": [
    "addr_list = []\n",
    "address = geocoding_reverse('37.522935, 126.904977')\n",
    "\n",
    "addr_list = str(address).split(', ')\n",
    "\n",
    "print(addr_list)"
   ]
  },
  {
   "cell_type": "code",
   "execution_count": 11,
   "id": "8dca0b31",
   "metadata": {},
   "outputs": [],
   "source": [
    "index = unpreprocessed[unpreprocessed['시도']=='영등포동7가'].index"
   ]
  },
  {
   "cell_type": "code",
   "execution_count": 12,
   "id": "18f0e5ef",
   "metadata": {},
   "outputs": [
    {
     "name": "stderr",
     "output_type": "stream",
     "text": [
      "/var/folders/lm/0qgrycpj4y52760rt_gw40q00000gn/T/ipykernel_7240/3355148287.py:2: SettingWithCopyWarning: \n",
      "A value is trying to be set on a copy of a slice from a DataFrame\n",
      "\n",
      "See the caveats in the documentation: https://pandas.pydata.org/pandas-docs/stable/user_guide/indexing.html#returning-a-view-versus-a-copy\n",
      "  unpreprocessed['시도'][i] = '서울'\n"
     ]
    }
   ],
   "source": [
    "for i in index:\n",
    "    unpreprocessed['시도'][i] = '서울'"
   ]
  },
  {
   "cell_type": "code",
   "execution_count": 13,
   "id": "62dd87cb",
   "metadata": {},
   "outputs": [
    {
     "data": {
      "text/html": [
       "<div>\n",
       "<style scoped>\n",
       "    .dataframe tbody tr th:only-of-type {\n",
       "        vertical-align: middle;\n",
       "    }\n",
       "\n",
       "    .dataframe tbody tr th {\n",
       "        vertical-align: top;\n",
       "    }\n",
       "\n",
       "    .dataframe thead th {\n",
       "        text-align: right;\n",
       "    }\n",
       "</style>\n",
       "<table border=\"1\" class=\"dataframe\">\n",
       "  <thead>\n",
       "    <tr style=\"text-align: right;\">\n",
       "      <th></th>\n",
       "      <th>위도</th>\n",
       "      <th>경도</th>\n",
       "      <th>구분</th>\n",
       "      <th>시도</th>\n",
       "      <th>시군구</th>\n",
       "    </tr>\n",
       "  </thead>\n",
       "  <tbody>\n",
       "    <tr>\n",
       "      <th>639</th>\n",
       "      <td>37.522935</td>\n",
       "      <td>126.904977</td>\n",
       "      <td>신호위반 단속카메라</td>\n",
       "      <td>서울</td>\n",
       "      <td>영등포구</td>\n",
       "    </tr>\n",
       "    <tr>\n",
       "      <th>16201</th>\n",
       "      <td>37.525579</td>\n",
       "      <td>126.911050</td>\n",
       "      <td>신호위반 민원</td>\n",
       "      <td>서울</td>\n",
       "      <td>영등포구</td>\n",
       "    </tr>\n",
       "  </tbody>\n",
       "</table>\n",
       "</div>"
      ],
      "text/plain": [
       "              위도          경도          구분  시도   시군구\n",
       "639    37.522935  126.904977  신호위반 단속카메라  서울  영등포구\n",
       "16201  37.525579  126.911050     신호위반 민원  서울  영등포구"
      ]
     },
     "execution_count": 13,
     "metadata": {},
     "output_type": "execute_result"
    }
   ],
   "source": [
    "unpreprocessed.iloc[[639, 16201]]"
   ]
  },
  {
   "cell_type": "markdown",
   "id": "3b79807d",
   "metadata": {},
   "source": [
    "'영등포동7가'였던 데이터가 '서울'로 변경되었다.  \n",
    "이런식으로 수정 필요하고 NULL값도 찾아서 수정해야한다."
   ]
  },
  {
   "cell_type": "code",
   "execution_count": 24,
   "id": "d3c76b6c",
   "metadata": {},
   "outputs": [],
   "source": [
    "unpreprocessed = unpreprocessed.iloc[60000: ]"
   ]
  },
  {
   "cell_type": "code",
   "execution_count": 26,
   "id": "dbf0cb58",
   "metadata": {},
   "outputs": [
    {
     "data": {
      "text/html": [
       "<div>\n",
       "<style scoped>\n",
       "    .dataframe tbody tr th:only-of-type {\n",
       "        vertical-align: middle;\n",
       "    }\n",
       "\n",
       "    .dataframe tbody tr th {\n",
       "        vertical-align: top;\n",
       "    }\n",
       "\n",
       "    .dataframe thead th {\n",
       "        text-align: right;\n",
       "    }\n",
       "</style>\n",
       "<table border=\"1\" class=\"dataframe\">\n",
       "  <thead>\n",
       "    <tr style=\"text-align: right;\">\n",
       "      <th></th>\n",
       "      <th>위도</th>\n",
       "      <th>경도</th>\n",
       "      <th>구분</th>\n",
       "      <th>시도</th>\n",
       "      <th>시군구</th>\n",
       "    </tr>\n",
       "  </thead>\n",
       "  <tbody>\n",
       "    <tr>\n",
       "      <th>60000</th>\n",
       "      <td>37.303383</td>\n",
       "      <td>126.847034</td>\n",
       "      <td>신호위반 민원</td>\n",
       "      <td>경기도</td>\n",
       "      <td>안산시</td>\n",
       "    </tr>\n",
       "    <tr>\n",
       "      <th>60001</th>\n",
       "      <td>35.113312</td>\n",
       "      <td>129.038866</td>\n",
       "      <td>신호위반 민원</td>\n",
       "      <td>부산</td>\n",
       "      <td>동구</td>\n",
       "    </tr>\n",
       "    <tr>\n",
       "      <th>60002</th>\n",
       "      <td>35.178600</td>\n",
       "      <td>126.929212</td>\n",
       "      <td>신호위반 민원</td>\n",
       "      <td>광주</td>\n",
       "      <td>북구</td>\n",
       "    </tr>\n",
       "    <tr>\n",
       "      <th>60003</th>\n",
       "      <td>37.604431</td>\n",
       "      <td>127.133162</td>\n",
       "      <td>신호위반 민원</td>\n",
       "      <td>경기도</td>\n",
       "      <td>구리시</td>\n",
       "    </tr>\n",
       "    <tr>\n",
       "      <th>60004</th>\n",
       "      <td>37.466625</td>\n",
       "      <td>126.891544</td>\n",
       "      <td>신호위반 민원</td>\n",
       "      <td>서울</td>\n",
       "      <td>금천구</td>\n",
       "    </tr>\n",
       "    <tr>\n",
       "      <th>...</th>\n",
       "      <td>...</td>\n",
       "      <td>...</td>\n",
       "      <td>...</td>\n",
       "      <td>...</td>\n",
       "      <td>...</td>\n",
       "    </tr>\n",
       "    <tr>\n",
       "      <th>79939</th>\n",
       "      <td>38.191803</td>\n",
       "      <td>128.579178</td>\n",
       "      <td>신호위반 민원</td>\n",
       "      <td>강원특별자치도</td>\n",
       "      <td>속초시</td>\n",
       "    </tr>\n",
       "    <tr>\n",
       "      <th>79940</th>\n",
       "      <td>35.126899</td>\n",
       "      <td>126.789615</td>\n",
       "      <td>신호위반 민원</td>\n",
       "      <td>광주</td>\n",
       "      <td>광산구</td>\n",
       "    </tr>\n",
       "    <tr>\n",
       "      <th>79941</th>\n",
       "      <td>37.259304</td>\n",
       "      <td>127.104538</td>\n",
       "      <td>신호위반 민원</td>\n",
       "      <td>경기도</td>\n",
       "      <td>용인시</td>\n",
       "    </tr>\n",
       "    <tr>\n",
       "      <th>79942</th>\n",
       "      <td>37.466927</td>\n",
       "      <td>126.896164</td>\n",
       "      <td>신호위반 민원</td>\n",
       "      <td>서울</td>\n",
       "      <td>금천구</td>\n",
       "    </tr>\n",
       "    <tr>\n",
       "      <th>79943</th>\n",
       "      <td>35.163863</td>\n",
       "      <td>128.126226</td>\n",
       "      <td>신호위반 민원</td>\n",
       "      <td>경상남도</td>\n",
       "      <td>진주시</td>\n",
       "    </tr>\n",
       "  </tbody>\n",
       "</table>\n",
       "<p>19944 rows × 5 columns</p>\n",
       "</div>"
      ],
      "text/plain": [
       "              위도          경도       구분       시도  시군구\n",
       "60000  37.303383  126.847034  신호위반 민원      경기도  안산시\n",
       "60001  35.113312  129.038866  신호위반 민원       부산   동구\n",
       "60002  35.178600  126.929212  신호위반 민원       광주   북구\n",
       "60003  37.604431  127.133162  신호위반 민원      경기도  구리시\n",
       "60004  37.466625  126.891544  신호위반 민원       서울  금천구\n",
       "...          ...         ...      ...      ...  ...\n",
       "79939  38.191803  128.579178  신호위반 민원  강원특별자치도  속초시\n",
       "79940  35.126899  126.789615  신호위반 민원       광주  광산구\n",
       "79941  37.259304  127.104538  신호위반 민원      경기도  용인시\n",
       "79942  37.466927  126.896164  신호위반 민원       서울  금천구\n",
       "79943  35.163863  128.126226  신호위반 민원     경상남도  진주시\n",
       "\n",
       "[19944 rows x 5 columns]"
      ]
     },
     "execution_count": 26,
     "metadata": {},
     "output_type": "execute_result"
    }
   ],
   "source": [
    "unpreprocessed"
   ]
  },
  {
   "cell_type": "code",
   "execution_count": 27,
   "id": "f3dea633",
   "metadata": {},
   "outputs": [
    {
     "data": {
      "text/plain": [
       "array(['경기도', '부산', '광주', '서울', '인천', '경상남도', '전라남도', '대전', '경상북도', '울산',\n",
       "       '제주특별자치도', '충청북도', '충청남도', '대구', '전라북도', '세종', '군산시', '강원특별자치도',\n",
       "       '강남구', '영등포동7가', '강서구', '제주시', '서구', '당진시', '태안군', '구리시', '화순군',\n",
       "       '수원시', '무안군', '김포시', '남구', '담양군', '안산시', '남양주시', '순천시', '천안시',\n",
       "       '청주시', '서초구', '경산시', '여수시', '화성시', '포항시'], dtype=object)"
      ]
     },
     "execution_count": 27,
     "metadata": {},
     "output_type": "execute_result"
    }
   ],
   "source": [
    "unpreprocessed['시도'].unique()"
   ]
  },
  {
   "cell_type": "code",
   "execution_count": 28,
   "id": "7254fb19",
   "metadata": {
    "scrolled": true
   },
   "outputs": [
    {
     "data": {
      "text/html": [
       "<div>\n",
       "<style scoped>\n",
       "    .dataframe tbody tr th:only-of-type {\n",
       "        vertical-align: middle;\n",
       "    }\n",
       "\n",
       "    .dataframe tbody tr th {\n",
       "        vertical-align: top;\n",
       "    }\n",
       "\n",
       "    .dataframe thead th {\n",
       "        text-align: right;\n",
       "    }\n",
       "</style>\n",
       "<table border=\"1\" class=\"dataframe\">\n",
       "  <thead>\n",
       "    <tr style=\"text-align: right;\">\n",
       "      <th></th>\n",
       "      <th>위도</th>\n",
       "      <th>경도</th>\n",
       "      <th>구분</th>\n",
       "      <th>시도</th>\n",
       "      <th>시군구</th>\n",
       "    </tr>\n",
       "  </thead>\n",
       "  <tbody>\n",
       "    <tr>\n",
       "      <th>60138</th>\n",
       "      <td>35.947872</td>\n",
       "      <td>126.583007</td>\n",
       "      <td>신호위반 민원</td>\n",
       "      <td>군산시</td>\n",
       "      <td>산단로</td>\n",
       "    </tr>\n",
       "    <tr>\n",
       "      <th>60914</th>\n",
       "      <td>35.960558</td>\n",
       "      <td>126.561695</td>\n",
       "      <td>신호위반 민원</td>\n",
       "      <td>군산시</td>\n",
       "      <td>오식도동</td>\n",
       "    </tr>\n",
       "    <tr>\n",
       "      <th>62855</th>\n",
       "      <td>35.961943</td>\n",
       "      <td>126.586375</td>\n",
       "      <td>신호위반 민원</td>\n",
       "      <td>군산시</td>\n",
       "      <td>오식도동</td>\n",
       "    </tr>\n",
       "    <tr>\n",
       "      <th>72479</th>\n",
       "      <td>35.946289</td>\n",
       "      <td>126.561295</td>\n",
       "      <td>신호위반 민원</td>\n",
       "      <td>군산시</td>\n",
       "      <td>가도안1길</td>\n",
       "    </tr>\n",
       "    <tr>\n",
       "      <th>73224</th>\n",
       "      <td>35.947549</td>\n",
       "      <td>126.583452</td>\n",
       "      <td>신호위반 민원</td>\n",
       "      <td>군산시</td>\n",
       "      <td>새만금북로</td>\n",
       "    </tr>\n",
       "    <tr>\n",
       "      <th>73462</th>\n",
       "      <td>35.946946</td>\n",
       "      <td>126.575879</td>\n",
       "      <td>신호위반 민원</td>\n",
       "      <td>군산시</td>\n",
       "      <td>새만금북로</td>\n",
       "    </tr>\n",
       "    <tr>\n",
       "      <th>74001</th>\n",
       "      <td>35.960321</td>\n",
       "      <td>126.561086</td>\n",
       "      <td>신호위반 민원</td>\n",
       "      <td>군산시</td>\n",
       "      <td>오식도동</td>\n",
       "    </tr>\n",
       "    <tr>\n",
       "      <th>75195</th>\n",
       "      <td>35.973837</td>\n",
       "      <td>126.585681</td>\n",
       "      <td>신호위반 민원</td>\n",
       "      <td>군산시</td>\n",
       "      <td>동장산로</td>\n",
       "    </tr>\n",
       "  </tbody>\n",
       "</table>\n",
       "</div>"
      ],
      "text/plain": [
       "              위도          경도       구분   시도    시군구\n",
       "60138  35.947872  126.583007  신호위반 민원  군산시    산단로\n",
       "60914  35.960558  126.561695  신호위반 민원  군산시   오식도동\n",
       "62855  35.961943  126.586375  신호위반 민원  군산시   오식도동\n",
       "72479  35.946289  126.561295  신호위반 민원  군산시  가도안1길\n",
       "73224  35.947549  126.583452  신호위반 민원  군산시  새만금북로\n",
       "73462  35.946946  126.575879  신호위반 민원  군산시  새만금북로\n",
       "74001  35.960321  126.561086  신호위반 민원  군산시   오식도동\n",
       "75195  35.973837  126.585681  신호위반 민원  군산시   동장산로"
      ]
     },
     "execution_count": 28,
     "metadata": {},
     "output_type": "execute_result"
    }
   ],
   "source": [
    "unpreprocessed[unpreprocessed['시도']=='군산시']"
   ]
  },
  {
   "cell_type": "code",
   "execution_count": 29,
   "id": "26c18929",
   "metadata": {},
   "outputs": [
    {
     "name": "stdout",
     "output_type": "stream",
     "text": [
      "['산단로', '군산시', '전라북도', '대한민국']\n"
     ]
    }
   ],
   "source": [
    "addr_list = []\n",
    "address = geocoding_reverse('35.947872, 126.583007')\n",
    "\n",
    "addr_list = str(address).split(', ')\n",
    "\n",
    "print(addr_list)"
   ]
  },
  {
   "cell_type": "code",
   "execution_count": 30,
   "id": "1bb790b2",
   "metadata": {},
   "outputs": [],
   "source": [
    "index = unpreprocessed[unpreprocessed['시도']=='군산시'].index"
   ]
  },
  {
   "cell_type": "code",
   "execution_count": 31,
   "id": "611c7bf5",
   "metadata": {
    "scrolled": true
   },
   "outputs": [
    {
     "name": "stderr",
     "output_type": "stream",
     "text": [
      "C:\\Users\\82107\\AppData\\Local\\Temp\\ipykernel_11724\\3989557645.py:2: SettingWithCopyWarning: \n",
      "A value is trying to be set on a copy of a slice from a DataFrame\n",
      "\n",
      "See the caveats in the documentation: https://pandas.pydata.org/pandas-docs/stable/user_guide/indexing.html#returning-a-view-versus-a-copy\n",
      "  unpreprocessed['시도'][i] = '전라북도'\n",
      "C:\\Users\\82107\\AppData\\Local\\Temp\\ipykernel_11724\\3989557645.py:3: SettingWithCopyWarning: \n",
      "A value is trying to be set on a copy of a slice from a DataFrame\n",
      "\n",
      "See the caveats in the documentation: https://pandas.pydata.org/pandas-docs/stable/user_guide/indexing.html#returning-a-view-versus-a-copy\n",
      "  unpreprocessed['시군구'][i] = '군산시'\n"
     ]
    }
   ],
   "source": [
    "for i in index:\n",
    "    unpreprocessed['시도'][i] = '전라북도'\n",
    "    unpreprocessed['시군구'][i] = '군산시'"
   ]
  },
  {
   "cell_type": "code",
   "execution_count": 33,
   "id": "f2a6e5b7",
   "metadata": {
    "scrolled": true
   },
   "outputs": [
    {
     "data": {
      "text/html": [
       "<div>\n",
       "<style scoped>\n",
       "    .dataframe tbody tr th:only-of-type {\n",
       "        vertical-align: middle;\n",
       "    }\n",
       "\n",
       "    .dataframe tbody tr th {\n",
       "        vertical-align: top;\n",
       "    }\n",
       "\n",
       "    .dataframe thead th {\n",
       "        text-align: right;\n",
       "    }\n",
       "</style>\n",
       "<table border=\"1\" class=\"dataframe\">\n",
       "  <thead>\n",
       "    <tr style=\"text-align: right;\">\n",
       "      <th></th>\n",
       "      <th>위도</th>\n",
       "      <th>경도</th>\n",
       "      <th>구분</th>\n",
       "      <th>시도</th>\n",
       "      <th>시군구</th>\n",
       "    </tr>\n",
       "  </thead>\n",
       "  <tbody>\n",
       "    <tr>\n",
       "      <th>60084</th>\n",
       "      <td>35.956662</td>\n",
       "      <td>126.703574</td>\n",
       "      <td>신호위반 민원</td>\n",
       "      <td>전라북도</td>\n",
       "      <td>군산시</td>\n",
       "    </tr>\n",
       "    <tr>\n",
       "      <th>60138</th>\n",
       "      <td>35.947872</td>\n",
       "      <td>126.583007</td>\n",
       "      <td>신호위반 민원</td>\n",
       "      <td>전라북도</td>\n",
       "      <td>군산시</td>\n",
       "    </tr>\n",
       "    <tr>\n",
       "      <th>60338</th>\n",
       "      <td>35.961571</td>\n",
       "      <td>126.621179</td>\n",
       "      <td>신호위반 민원</td>\n",
       "      <td>전라북도</td>\n",
       "      <td>군산시</td>\n",
       "    </tr>\n",
       "    <tr>\n",
       "      <th>60339</th>\n",
       "      <td>35.961684</td>\n",
       "      <td>126.621135</td>\n",
       "      <td>신호위반 민원</td>\n",
       "      <td>전라북도</td>\n",
       "      <td>군산시</td>\n",
       "    </tr>\n",
       "    <tr>\n",
       "      <th>60342</th>\n",
       "      <td>35.975666</td>\n",
       "      <td>126.741300</td>\n",
       "      <td>신호위반 민원</td>\n",
       "      <td>전라북도</td>\n",
       "      <td>군산시</td>\n",
       "    </tr>\n",
       "    <tr>\n",
       "      <th>...</th>\n",
       "      <td>...</td>\n",
       "      <td>...</td>\n",
       "      <td>...</td>\n",
       "      <td>...</td>\n",
       "      <td>...</td>\n",
       "    </tr>\n",
       "    <tr>\n",
       "      <th>78290</th>\n",
       "      <td>35.965837</td>\n",
       "      <td>126.622229</td>\n",
       "      <td>신호위반 민원</td>\n",
       "      <td>전라북도</td>\n",
       "      <td>군산시</td>\n",
       "    </tr>\n",
       "    <tr>\n",
       "      <th>78412</th>\n",
       "      <td>35.968532</td>\n",
       "      <td>126.705764</td>\n",
       "      <td>신호위반 민원</td>\n",
       "      <td>전라북도</td>\n",
       "      <td>군산시</td>\n",
       "    </tr>\n",
       "    <tr>\n",
       "      <th>78570</th>\n",
       "      <td>35.963099</td>\n",
       "      <td>126.719730</td>\n",
       "      <td>신호위반 민원</td>\n",
       "      <td>전라북도</td>\n",
       "      <td>군산시</td>\n",
       "    </tr>\n",
       "    <tr>\n",
       "      <th>78578</th>\n",
       "      <td>35.969073</td>\n",
       "      <td>126.715093</td>\n",
       "      <td>신호위반 민원</td>\n",
       "      <td>전라북도</td>\n",
       "      <td>군산시</td>\n",
       "    </tr>\n",
       "    <tr>\n",
       "      <th>78762</th>\n",
       "      <td>35.987447</td>\n",
       "      <td>126.743509</td>\n",
       "      <td>신호위반 민원</td>\n",
       "      <td>전라북도</td>\n",
       "      <td>군산시</td>\n",
       "    </tr>\n",
       "  </tbody>\n",
       "</table>\n",
       "<p>99 rows × 5 columns</p>\n",
       "</div>"
      ],
      "text/plain": [
       "              위도          경도       구분    시도  시군구\n",
       "60084  35.956662  126.703574  신호위반 민원  전라북도  군산시\n",
       "60138  35.947872  126.583007  신호위반 민원  전라북도  군산시\n",
       "60338  35.961571  126.621179  신호위반 민원  전라북도  군산시\n",
       "60339  35.961684  126.621135  신호위반 민원  전라북도  군산시\n",
       "60342  35.975666  126.741300  신호위반 민원  전라북도  군산시\n",
       "...          ...         ...      ...   ...  ...\n",
       "78290  35.965837  126.622229  신호위반 민원  전라북도  군산시\n",
       "78412  35.968532  126.705764  신호위반 민원  전라북도  군산시\n",
       "78570  35.963099  126.719730  신호위반 민원  전라북도  군산시\n",
       "78578  35.969073  126.715093  신호위반 민원  전라북도  군산시\n",
       "78762  35.987447  126.743509  신호위반 민원  전라북도  군산시\n",
       "\n",
       "[99 rows x 5 columns]"
      ]
     },
     "execution_count": 33,
     "metadata": {},
     "output_type": "execute_result"
    }
   ],
   "source": [
    "unpreprocessed[unpreprocessed['시군구']=='군산시']"
   ]
  },
  {
   "cell_type": "code",
   "execution_count": 35,
   "id": "77b6eca5",
   "metadata": {
    "scrolled": true
   },
   "outputs": [
    {
     "data": {
      "text/html": [
       "<div>\n",
       "<style scoped>\n",
       "    .dataframe tbody tr th:only-of-type {\n",
       "        vertical-align: middle;\n",
       "    }\n",
       "\n",
       "    .dataframe tbody tr th {\n",
       "        vertical-align: top;\n",
       "    }\n",
       "\n",
       "    .dataframe thead th {\n",
       "        text-align: right;\n",
       "    }\n",
       "</style>\n",
       "<table border=\"1\" class=\"dataframe\">\n",
       "  <thead>\n",
       "    <tr style=\"text-align: right;\">\n",
       "      <th></th>\n",
       "      <th>위도</th>\n",
       "      <th>경도</th>\n",
       "      <th>구분</th>\n",
       "      <th>시도</th>\n",
       "      <th>시군구</th>\n",
       "    </tr>\n",
       "  </thead>\n",
       "  <tbody>\n",
       "    <tr>\n",
       "      <th>60138</th>\n",
       "      <td>35.947872</td>\n",
       "      <td>126.583007</td>\n",
       "      <td>신호위반 민원</td>\n",
       "      <td>전라북도</td>\n",
       "      <td>군산시</td>\n",
       "    </tr>\n",
       "    <tr>\n",
       "      <th>62855</th>\n",
       "      <td>35.961943</td>\n",
       "      <td>126.586375</td>\n",
       "      <td>신호위반 민원</td>\n",
       "      <td>전라북도</td>\n",
       "      <td>군산시</td>\n",
       "    </tr>\n",
       "  </tbody>\n",
       "</table>\n",
       "</div>"
      ],
      "text/plain": [
       "              위도          경도       구분    시도  시군구\n",
       "60138  35.947872  126.583007  신호위반 민원  전라북도  군산시\n",
       "62855  35.961943  126.586375  신호위반 민원  전라북도  군산시"
      ]
     },
     "execution_count": 35,
     "metadata": {},
     "output_type": "execute_result"
    }
   ],
   "source": [
    "unpreprocessed.loc[[60138, 62855]]"
   ]
  },
  {
   "cell_type": "code",
   "execution_count": 36,
   "id": "d48e15d8",
   "metadata": {
    "scrolled": true
   },
   "outputs": [
    {
     "data": {
      "text/html": [
       "<div>\n",
       "<style scoped>\n",
       "    .dataframe tbody tr th:only-of-type {\n",
       "        vertical-align: middle;\n",
       "    }\n",
       "\n",
       "    .dataframe tbody tr th {\n",
       "        vertical-align: top;\n",
       "    }\n",
       "\n",
       "    .dataframe thead th {\n",
       "        text-align: right;\n",
       "    }\n",
       "</style>\n",
       "<table border=\"1\" class=\"dataframe\">\n",
       "  <thead>\n",
       "    <tr style=\"text-align: right;\">\n",
       "      <th></th>\n",
       "      <th>위도</th>\n",
       "      <th>경도</th>\n",
       "      <th>구분</th>\n",
       "      <th>시도</th>\n",
       "      <th>시군구</th>\n",
       "    </tr>\n",
       "  </thead>\n",
       "  <tbody>\n",
       "    <tr>\n",
       "      <th>60517</th>\n",
       "      <td>37.502347</td>\n",
       "      <td>127.04297</td>\n",
       "      <td>신호위반 민원</td>\n",
       "      <td>강남구</td>\n",
       "      <td>역삼2동</td>\n",
       "    </tr>\n",
       "  </tbody>\n",
       "</table>\n",
       "</div>"
      ],
      "text/plain": [
       "              위도         경도       구분   시도   시군구\n",
       "60517  37.502347  127.04297  신호위반 민원  강남구  역삼2동"
      ]
     },
     "execution_count": 36,
     "metadata": {},
     "output_type": "execute_result"
    }
   ],
   "source": [
    "unpreprocessed[unpreprocessed['시도']=='강남구']"
   ]
  },
  {
   "cell_type": "code",
   "execution_count": 37,
   "id": "499bd3ba",
   "metadata": {},
   "outputs": [
    {
     "name": "stdout",
     "output_type": "stream",
     "text": [
      "['역삼동', '역삼2동', '강남구', '서울', '대한민국']\n"
     ]
    }
   ],
   "source": [
    "addr_list = []\n",
    "address = geocoding_reverse('37.502347, 127.04297')\n",
    "\n",
    "addr_list = str(address).split(', ')\n",
    "\n",
    "print(addr_list)"
   ]
  },
  {
   "cell_type": "code",
   "execution_count": 38,
   "id": "d5a7e1ce",
   "metadata": {},
   "outputs": [
    {
     "name": "stderr",
     "output_type": "stream",
     "text": [
      "C:\\Users\\82107\\AppData\\Local\\Temp\\ipykernel_11724\\3512258706.py:3: SettingWithCopyWarning: \n",
      "A value is trying to be set on a copy of a slice from a DataFrame\n",
      "\n",
      "See the caveats in the documentation: https://pandas.pydata.org/pandas-docs/stable/user_guide/indexing.html#returning-a-view-versus-a-copy\n",
      "  unpreprocessed['시도'][i] = '서울'\n",
      "C:\\Users\\82107\\AppData\\Local\\Temp\\ipykernel_11724\\3512258706.py:4: SettingWithCopyWarning: \n",
      "A value is trying to be set on a copy of a slice from a DataFrame\n",
      "\n",
      "See the caveats in the documentation: https://pandas.pydata.org/pandas-docs/stable/user_guide/indexing.html#returning-a-view-versus-a-copy\n",
      "  unpreprocessed['시군구'][i] = '강남구'\n"
     ]
    }
   ],
   "source": [
    "index = unpreprocessed[unpreprocessed['시도']=='강남구'].index\n",
    "for i in index:\n",
    "    unpreprocessed['시도'][i] = '서울'\n",
    "    unpreprocessed['시군구'][i] = '강남구'"
   ]
  },
  {
   "cell_type": "code",
   "execution_count": 39,
   "id": "22d575ee",
   "metadata": {},
   "outputs": [
    {
     "data": {
      "text/html": [
       "<div>\n",
       "<style scoped>\n",
       "    .dataframe tbody tr th:only-of-type {\n",
       "        vertical-align: middle;\n",
       "    }\n",
       "\n",
       "    .dataframe tbody tr th {\n",
       "        vertical-align: top;\n",
       "    }\n",
       "\n",
       "    .dataframe thead th {\n",
       "        text-align: right;\n",
       "    }\n",
       "</style>\n",
       "<table border=\"1\" class=\"dataframe\">\n",
       "  <thead>\n",
       "    <tr style=\"text-align: right;\">\n",
       "      <th></th>\n",
       "      <th>위도</th>\n",
       "      <th>경도</th>\n",
       "      <th>구분</th>\n",
       "      <th>시도</th>\n",
       "      <th>시군구</th>\n",
       "    </tr>\n",
       "  </thead>\n",
       "  <tbody>\n",
       "    <tr>\n",
       "      <th>60517</th>\n",
       "      <td>37.502347</td>\n",
       "      <td>127.04297</td>\n",
       "      <td>신호위반 민원</td>\n",
       "      <td>서울</td>\n",
       "      <td>강남구</td>\n",
       "    </tr>\n",
       "  </tbody>\n",
       "</table>\n",
       "</div>"
      ],
      "text/plain": [
       "              위도         경도       구분  시도  시군구\n",
       "60517  37.502347  127.04297  신호위반 민원  서울  강남구"
      ]
     },
     "execution_count": 39,
     "metadata": {},
     "output_type": "execute_result"
    }
   ],
   "source": [
    "unpreprocessed.loc[[60517]]"
   ]
  },
  {
   "cell_type": "code",
   "execution_count": 40,
   "id": "f0bcb9dd",
   "metadata": {},
   "outputs": [
    {
     "data": {
      "text/html": [
       "<div>\n",
       "<style scoped>\n",
       "    .dataframe tbody tr th:only-of-type {\n",
       "        vertical-align: middle;\n",
       "    }\n",
       "\n",
       "    .dataframe tbody tr th {\n",
       "        vertical-align: top;\n",
       "    }\n",
       "\n",
       "    .dataframe thead th {\n",
       "        text-align: right;\n",
       "    }\n",
       "</style>\n",
       "<table border=\"1\" class=\"dataframe\">\n",
       "  <thead>\n",
       "    <tr style=\"text-align: right;\">\n",
       "      <th></th>\n",
       "      <th>위도</th>\n",
       "      <th>경도</th>\n",
       "      <th>구분</th>\n",
       "      <th>시도</th>\n",
       "      <th>시군구</th>\n",
       "    </tr>\n",
       "  </thead>\n",
       "  <tbody>\n",
       "    <tr>\n",
       "      <th>60706</th>\n",
       "      <td>37.525437</td>\n",
       "      <td>126.906115</td>\n",
       "      <td>신호위반 민원</td>\n",
       "      <td>영등포동7가</td>\n",
       "      <td>영등포구</td>\n",
       "    </tr>\n",
       "    <tr>\n",
       "      <th>63938</th>\n",
       "      <td>37.525605</td>\n",
       "      <td>126.910872</td>\n",
       "      <td>신호위반 민원</td>\n",
       "      <td>영등포동7가</td>\n",
       "      <td>영등포구</td>\n",
       "    </tr>\n",
       "    <tr>\n",
       "      <th>68622</th>\n",
       "      <td>37.522795</td>\n",
       "      <td>126.903831</td>\n",
       "      <td>신호위반 민원</td>\n",
       "      <td>영등포동7가</td>\n",
       "      <td>영등포구</td>\n",
       "    </tr>\n",
       "    <tr>\n",
       "      <th>68789</th>\n",
       "      <td>37.523481</td>\n",
       "      <td>126.906963</td>\n",
       "      <td>신호위반 민원</td>\n",
       "      <td>영등포동7가</td>\n",
       "      <td>영등포구</td>\n",
       "    </tr>\n",
       "    <tr>\n",
       "      <th>69418</th>\n",
       "      <td>37.522559</td>\n",
       "      <td>126.906594</td>\n",
       "      <td>신호위반 민원</td>\n",
       "      <td>영등포동7가</td>\n",
       "      <td>영등포구</td>\n",
       "    </tr>\n",
       "    <tr>\n",
       "      <th>69420</th>\n",
       "      <td>37.522982</td>\n",
       "      <td>126.905281</td>\n",
       "      <td>신호위반 민원</td>\n",
       "      <td>영등포동7가</td>\n",
       "      <td>영등포구</td>\n",
       "    </tr>\n",
       "    <tr>\n",
       "      <th>69834</th>\n",
       "      <td>37.522909</td>\n",
       "      <td>126.905259</td>\n",
       "      <td>신호위반 민원</td>\n",
       "      <td>영등포동7가</td>\n",
       "      <td>영등포구</td>\n",
       "    </tr>\n",
       "    <tr>\n",
       "      <th>71978</th>\n",
       "      <td>37.524223</td>\n",
       "      <td>126.908203</td>\n",
       "      <td>신호위반 민원</td>\n",
       "      <td>영등포동7가</td>\n",
       "      <td>영등포구</td>\n",
       "    </tr>\n",
       "    <tr>\n",
       "      <th>74570</th>\n",
       "      <td>37.524854</td>\n",
       "      <td>126.909466</td>\n",
       "      <td>신호위반 민원</td>\n",
       "      <td>영등포동7가</td>\n",
       "      <td>영등포구</td>\n",
       "    </tr>\n",
       "    <tr>\n",
       "      <th>74891</th>\n",
       "      <td>37.525487</td>\n",
       "      <td>126.905515</td>\n",
       "      <td>신호위반 민원</td>\n",
       "      <td>영등포동7가</td>\n",
       "      <td>영등포구</td>\n",
       "    </tr>\n",
       "    <tr>\n",
       "      <th>75747</th>\n",
       "      <td>37.525349</td>\n",
       "      <td>126.906649</td>\n",
       "      <td>신호위반 민원</td>\n",
       "      <td>영등포동7가</td>\n",
       "      <td>영등포구</td>\n",
       "    </tr>\n",
       "    <tr>\n",
       "      <th>76725</th>\n",
       "      <td>37.522938</td>\n",
       "      <td>126.905897</td>\n",
       "      <td>신호위반 민원</td>\n",
       "      <td>영등포동7가</td>\n",
       "      <td>영등포구</td>\n",
       "    </tr>\n",
       "  </tbody>\n",
       "</table>\n",
       "</div>"
      ],
      "text/plain": [
       "              위도          경도       구분      시도   시군구\n",
       "60706  37.525437  126.906115  신호위반 민원  영등포동7가  영등포구\n",
       "63938  37.525605  126.910872  신호위반 민원  영등포동7가  영등포구\n",
       "68622  37.522795  126.903831  신호위반 민원  영등포동7가  영등포구\n",
       "68789  37.523481  126.906963  신호위반 민원  영등포동7가  영등포구\n",
       "69418  37.522559  126.906594  신호위반 민원  영등포동7가  영등포구\n",
       "69420  37.522982  126.905281  신호위반 민원  영등포동7가  영등포구\n",
       "69834  37.522909  126.905259  신호위반 민원  영등포동7가  영등포구\n",
       "71978  37.524223  126.908203  신호위반 민원  영등포동7가  영등포구\n",
       "74570  37.524854  126.909466  신호위반 민원  영등포동7가  영등포구\n",
       "74891  37.525487  126.905515  신호위반 민원  영등포동7가  영등포구\n",
       "75747  37.525349  126.906649  신호위반 민원  영등포동7가  영등포구\n",
       "76725  37.522938  126.905897  신호위반 민원  영등포동7가  영등포구"
      ]
     },
     "execution_count": 40,
     "metadata": {},
     "output_type": "execute_result"
    }
   ],
   "source": [
    "unpreprocessed[unpreprocessed['시도']=='영등포동7가']"
   ]
  },
  {
   "cell_type": "code",
   "execution_count": 41,
   "id": "0073ea23",
   "metadata": {},
   "outputs": [
    {
     "name": "stdout",
     "output_type": "stream",
     "text": [
      "['신월여의지하도로', '영등포동', '영등포구', '영등포동7가', '07992', '대한민국']\n"
     ]
    }
   ],
   "source": [
    "addr_list = []\n",
    "address = geocoding_reverse('37.525437, 126.906115')\n",
    "\n",
    "addr_list = str(address).split(', ')\n",
    "\n",
    "print(addr_list)"
   ]
  },
  {
   "cell_type": "code",
   "execution_count": 43,
   "id": "9b50670d",
   "metadata": {},
   "outputs": [
    {
     "name": "stderr",
     "output_type": "stream",
     "text": [
      "C:\\Users\\82107\\AppData\\Local\\Temp\\ipykernel_11724\\2914556451.py:3: SettingWithCopyWarning: \n",
      "A value is trying to be set on a copy of a slice from a DataFrame\n",
      "\n",
      "See the caveats in the documentation: https://pandas.pydata.org/pandas-docs/stable/user_guide/indexing.html#returning-a-view-versus-a-copy\n",
      "  unpreprocessed['시도'][i] = '서울'\n",
      "C:\\Users\\82107\\AppData\\Local\\Temp\\ipykernel_11724\\2914556451.py:4: SettingWithCopyWarning: \n",
      "A value is trying to be set on a copy of a slice from a DataFrame\n",
      "\n",
      "See the caveats in the documentation: https://pandas.pydata.org/pandas-docs/stable/user_guide/indexing.html#returning-a-view-versus-a-copy\n",
      "  unpreprocessed['시군구'][i] = '영등포구'\n"
     ]
    }
   ],
   "source": [
    "index = unpreprocessed[unpreprocessed['시도']=='영등포동7가'].index\n",
    "for i in index:\n",
    "    unpreprocessed['시도'][i] = '서울'\n",
    "    unpreprocessed['시군구'][i] = '영등포구'"
   ]
  },
  {
   "cell_type": "code",
   "execution_count": 44,
   "id": "5feac870",
   "metadata": {},
   "outputs": [
    {
     "data": {
      "text/html": [
       "<div>\n",
       "<style scoped>\n",
       "    .dataframe tbody tr th:only-of-type {\n",
       "        vertical-align: middle;\n",
       "    }\n",
       "\n",
       "    .dataframe tbody tr th {\n",
       "        vertical-align: top;\n",
       "    }\n",
       "\n",
       "    .dataframe thead th {\n",
       "        text-align: right;\n",
       "    }\n",
       "</style>\n",
       "<table border=\"1\" class=\"dataframe\">\n",
       "  <thead>\n",
       "    <tr style=\"text-align: right;\">\n",
       "      <th></th>\n",
       "      <th>위도</th>\n",
       "      <th>경도</th>\n",
       "      <th>구분</th>\n",
       "      <th>시도</th>\n",
       "      <th>시군구</th>\n",
       "    </tr>\n",
       "  </thead>\n",
       "  <tbody>\n",
       "    <tr>\n",
       "      <th>61646</th>\n",
       "      <td>35.097014</td>\n",
       "      <td>128.907561</td>\n",
       "      <td>신호위반 민원</td>\n",
       "      <td>강서구</td>\n",
       "      <td>명지동</td>\n",
       "    </tr>\n",
       "  </tbody>\n",
       "</table>\n",
       "</div>"
      ],
      "text/plain": [
       "              위도          경도       구분   시도  시군구\n",
       "61646  35.097014  128.907561  신호위반 민원  강서구  명지동"
      ]
     },
     "execution_count": 44,
     "metadata": {},
     "output_type": "execute_result"
    }
   ],
   "source": [
    "unpreprocessed[unpreprocessed['시도']=='강서구']"
   ]
  },
  {
   "cell_type": "code",
   "execution_count": 45,
   "id": "0e61bd2c",
   "metadata": {},
   "outputs": [
    {
     "name": "stdout",
     "output_type": "stream",
     "text": [
      "['명지동', '강서구', '부산', '대한민국']\n"
     ]
    }
   ],
   "source": [
    "addr_list = []\n",
    "address = geocoding_reverse('35.097014, 128.907561')\n",
    "\n",
    "addr_list = str(address).split(', ')\n",
    "\n",
    "print(addr_list)"
   ]
  },
  {
   "cell_type": "code",
   "execution_count": 46,
   "id": "cdaa8f45",
   "metadata": {},
   "outputs": [
    {
     "name": "stderr",
     "output_type": "stream",
     "text": [
      "C:\\Users\\82107\\AppData\\Local\\Temp\\ipykernel_11724\\607471349.py:3: SettingWithCopyWarning: \n",
      "A value is trying to be set on a copy of a slice from a DataFrame\n",
      "\n",
      "See the caveats in the documentation: https://pandas.pydata.org/pandas-docs/stable/user_guide/indexing.html#returning-a-view-versus-a-copy\n",
      "  unpreprocessed['시도'][i] = '부산'\n",
      "C:\\Users\\82107\\AppData\\Local\\Temp\\ipykernel_11724\\607471349.py:4: SettingWithCopyWarning: \n",
      "A value is trying to be set on a copy of a slice from a DataFrame\n",
      "\n",
      "See the caveats in the documentation: https://pandas.pydata.org/pandas-docs/stable/user_guide/indexing.html#returning-a-view-versus-a-copy\n",
      "  unpreprocessed['시군구'][i] = '강서구'\n"
     ]
    }
   ],
   "source": [
    "index = unpreprocessed[unpreprocessed['시도']=='강서구'].index\n",
    "for i in index:\n",
    "    unpreprocessed['시도'][i] = '부산'\n",
    "    unpreprocessed['시군구'][i] = '강서구'"
   ]
  },
  {
   "cell_type": "code",
   "execution_count": 47,
   "id": "bade2ec8",
   "metadata": {},
   "outputs": [
    {
     "data": {
      "text/html": [
       "<div>\n",
       "<style scoped>\n",
       "    .dataframe tbody tr th:only-of-type {\n",
       "        vertical-align: middle;\n",
       "    }\n",
       "\n",
       "    .dataframe tbody tr th {\n",
       "        vertical-align: top;\n",
       "    }\n",
       "\n",
       "    .dataframe thead th {\n",
       "        text-align: right;\n",
       "    }\n",
       "</style>\n",
       "<table border=\"1\" class=\"dataframe\">\n",
       "  <thead>\n",
       "    <tr style=\"text-align: right;\">\n",
       "      <th></th>\n",
       "      <th>위도</th>\n",
       "      <th>경도</th>\n",
       "      <th>구분</th>\n",
       "      <th>시도</th>\n",
       "      <th>시군구</th>\n",
       "    </tr>\n",
       "  </thead>\n",
       "  <tbody>\n",
       "    <tr>\n",
       "      <th>61911</th>\n",
       "      <td>33.433215</td>\n",
       "      <td>126.743688</td>\n",
       "      <td>신호위반 민원</td>\n",
       "      <td>제주시</td>\n",
       "      <td>번영로</td>\n",
       "    </tr>\n",
       "    <tr>\n",
       "      <th>70654</th>\n",
       "      <td>33.416531</td>\n",
       "      <td>126.678208</td>\n",
       "      <td>신호위반 민원</td>\n",
       "      <td>제주시</td>\n",
       "      <td>수망리</td>\n",
       "    </tr>\n",
       "  </tbody>\n",
       "</table>\n",
       "</div>"
      ],
      "text/plain": [
       "              위도          경도       구분   시도  시군구\n",
       "61911  33.433215  126.743688  신호위반 민원  제주시  번영로\n",
       "70654  33.416531  126.678208  신호위반 민원  제주시  수망리"
      ]
     },
     "execution_count": 47,
     "metadata": {},
     "output_type": "execute_result"
    }
   ],
   "source": [
    "unpreprocessed[unpreprocessed['시도']=='제주시']"
   ]
  },
  {
   "cell_type": "code",
   "execution_count": 48,
   "id": "e25702d4",
   "metadata": {},
   "outputs": [
    {
     "name": "stdout",
     "output_type": "stream",
     "text": [
      "['번영로', '제주시', '제주특별자치도', '대한민국']\n"
     ]
    }
   ],
   "source": [
    "addr_list = []\n",
    "address = geocoding_reverse('33.433215,126.743688')\n",
    "\n",
    "addr_list = str(address).split(', ')\n",
    "\n",
    "print(addr_list)"
   ]
  },
  {
   "cell_type": "code",
   "execution_count": 49,
   "id": "edcadc35",
   "metadata": {},
   "outputs": [
    {
     "name": "stderr",
     "output_type": "stream",
     "text": [
      "C:\\Users\\82107\\AppData\\Local\\Temp\\ipykernel_11724\\2926954710.py:3: SettingWithCopyWarning: \n",
      "A value is trying to be set on a copy of a slice from a DataFrame\n",
      "\n",
      "See the caveats in the documentation: https://pandas.pydata.org/pandas-docs/stable/user_guide/indexing.html#returning-a-view-versus-a-copy\n",
      "  unpreprocessed['시도'][i] = '제주특별자치도'\n",
      "C:\\Users\\82107\\AppData\\Local\\Temp\\ipykernel_11724\\2926954710.py:4: SettingWithCopyWarning: \n",
      "A value is trying to be set on a copy of a slice from a DataFrame\n",
      "\n",
      "See the caveats in the documentation: https://pandas.pydata.org/pandas-docs/stable/user_guide/indexing.html#returning-a-view-versus-a-copy\n",
      "  unpreprocessed['시군구'][i] = '제주시'\n"
     ]
    }
   ],
   "source": [
    "index = unpreprocessed[unpreprocessed['시도']=='제주시'].index\n",
    "for i in index:\n",
    "    unpreprocessed['시도'][i] = '제주특별자치도'\n",
    "    unpreprocessed['시군구'][i] = '제주시'"
   ]
  },
  {
   "cell_type": "code",
   "execution_count": 50,
   "id": "7059af39",
   "metadata": {},
   "outputs": [
    {
     "data": {
      "text/html": [
       "<div>\n",
       "<style scoped>\n",
       "    .dataframe tbody tr th:only-of-type {\n",
       "        vertical-align: middle;\n",
       "    }\n",
       "\n",
       "    .dataframe tbody tr th {\n",
       "        vertical-align: top;\n",
       "    }\n",
       "\n",
       "    .dataframe thead th {\n",
       "        text-align: right;\n",
       "    }\n",
       "</style>\n",
       "<table border=\"1\" class=\"dataframe\">\n",
       "  <thead>\n",
       "    <tr style=\"text-align: right;\">\n",
       "      <th></th>\n",
       "      <th>위도</th>\n",
       "      <th>경도</th>\n",
       "      <th>구분</th>\n",
       "      <th>시도</th>\n",
       "      <th>시군구</th>\n",
       "    </tr>\n",
       "  </thead>\n",
       "  <tbody>\n",
       "    <tr>\n",
       "      <th>62833</th>\n",
       "      <td>37.532753</td>\n",
       "      <td>126.640603</td>\n",
       "      <td>신호위반 민원</td>\n",
       "      <td>서구</td>\n",
       "      <td>청라2동</td>\n",
       "    </tr>\n",
       "    <tr>\n",
       "      <th>79579</th>\n",
       "      <td>37.596176</td>\n",
       "      <td>126.635875</td>\n",
       "      <td>신호위반 민원</td>\n",
       "      <td>서구</td>\n",
       "      <td>오류왕길동</td>\n",
       "    </tr>\n",
       "  </tbody>\n",
       "</table>\n",
       "</div>"
      ],
      "text/plain": [
       "              위도          경도       구분  시도    시군구\n",
       "62833  37.532753  126.640603  신호위반 민원  서구   청라2동\n",
       "79579  37.596176  126.635875  신호위반 민원  서구  오류왕길동"
      ]
     },
     "execution_count": 50,
     "metadata": {},
     "output_type": "execute_result"
    }
   ],
   "source": [
    "unpreprocessed[unpreprocessed['시도']=='서구']"
   ]
  },
  {
   "cell_type": "code",
   "execution_count": 51,
   "id": "51bc80b5",
   "metadata": {},
   "outputs": [
    {
     "name": "stdout",
     "output_type": "stream",
     "text": [
      "['청라2동', '서구', '인천', '대한민국']\n"
     ]
    }
   ],
   "source": [
    "addr_list = []\n",
    "address = geocoding_reverse('37.532753, 126.640603')\n",
    "\n",
    "addr_list = str(address).split(', ')\n",
    "\n",
    "print(addr_list)"
   ]
  },
  {
   "cell_type": "code",
   "execution_count": 52,
   "id": "45310fcc",
   "metadata": {},
   "outputs": [
    {
     "name": "stdout",
     "output_type": "stream",
     "text": [
      "['단봉로139번길', '오류동', '오류왕길동', '서구', '인천', '대한민국']\n"
     ]
    }
   ],
   "source": [
    "addr_list = []\n",
    "address = geocoding_reverse('37.596176, 126.635875')\n",
    "\n",
    "addr_list = str(address).split(', ')\n",
    "\n",
    "print(addr_list)"
   ]
  },
  {
   "cell_type": "code",
   "execution_count": 53,
   "id": "3a7d287b",
   "metadata": {},
   "outputs": [
    {
     "name": "stderr",
     "output_type": "stream",
     "text": [
      "C:\\Users\\82107\\AppData\\Local\\Temp\\ipykernel_11724\\683561482.py:3: SettingWithCopyWarning: \n",
      "A value is trying to be set on a copy of a slice from a DataFrame\n",
      "\n",
      "See the caveats in the documentation: https://pandas.pydata.org/pandas-docs/stable/user_guide/indexing.html#returning-a-view-versus-a-copy\n",
      "  unpreprocessed['시도'][i] = '인천'\n",
      "C:\\Users\\82107\\AppData\\Local\\Temp\\ipykernel_11724\\683561482.py:4: SettingWithCopyWarning: \n",
      "A value is trying to be set on a copy of a slice from a DataFrame\n",
      "\n",
      "See the caveats in the documentation: https://pandas.pydata.org/pandas-docs/stable/user_guide/indexing.html#returning-a-view-versus-a-copy\n",
      "  unpreprocessed['시군구'][i] = '서구'\n"
     ]
    }
   ],
   "source": [
    "index = unpreprocessed[unpreprocessed['시도']=='서구'].index\n",
    "for i in index:\n",
    "    unpreprocessed['시도'][i] = '인천'\n",
    "    unpreprocessed['시군구'][i] = '서구'"
   ]
  },
  {
   "cell_type": "code",
   "execution_count": 54,
   "id": "99de8c79",
   "metadata": {},
   "outputs": [
    {
     "data": {
      "text/html": [
       "<div>\n",
       "<style scoped>\n",
       "    .dataframe tbody tr th:only-of-type {\n",
       "        vertical-align: middle;\n",
       "    }\n",
       "\n",
       "    .dataframe tbody tr th {\n",
       "        vertical-align: top;\n",
       "    }\n",
       "\n",
       "    .dataframe thead th {\n",
       "        text-align: right;\n",
       "    }\n",
       "</style>\n",
       "<table border=\"1\" class=\"dataframe\">\n",
       "  <thead>\n",
       "    <tr style=\"text-align: right;\">\n",
       "      <th></th>\n",
       "      <th>위도</th>\n",
       "      <th>경도</th>\n",
       "      <th>구분</th>\n",
       "      <th>시도</th>\n",
       "      <th>시군구</th>\n",
       "    </tr>\n",
       "  </thead>\n",
       "  <tbody>\n",
       "    <tr>\n",
       "      <th>62909</th>\n",
       "      <td>37.025749</td>\n",
       "      <td>126.558854</td>\n",
       "      <td>신호위반 민원</td>\n",
       "      <td>당진시</td>\n",
       "      <td>장고항리</td>\n",
       "    </tr>\n",
       "    <tr>\n",
       "      <th>62911</th>\n",
       "      <td>37.027457</td>\n",
       "      <td>126.560316</td>\n",
       "      <td>신호위반 민원</td>\n",
       "      <td>당진시</td>\n",
       "      <td>장고항리</td>\n",
       "    </tr>\n",
       "  </tbody>\n",
       "</table>\n",
       "</div>"
      ],
      "text/plain": [
       "              위도          경도       구분   시도   시군구\n",
       "62909  37.025749  126.558854  신호위반 민원  당진시  장고항리\n",
       "62911  37.027457  126.560316  신호위반 민원  당진시  장고항리"
      ]
     },
     "execution_count": 54,
     "metadata": {},
     "output_type": "execute_result"
    }
   ],
   "source": [
    "unpreprocessed[unpreprocessed['시도']=='당진시']"
   ]
  },
  {
   "cell_type": "code",
   "execution_count": 55,
   "id": "d7662c83",
   "metadata": {},
   "outputs": [
    {
     "name": "stdout",
     "output_type": "stream",
     "text": [
      "['장고항로', '장고항리', '당진시', '충청남도', '대한민국']\n"
     ]
    }
   ],
   "source": [
    "addr_list = []\n",
    "address = geocoding_reverse('37.025749, 126.558854')\n",
    "\n",
    "addr_list = str(address).split(', ')\n",
    "\n",
    "print(addr_list)"
   ]
  },
  {
   "cell_type": "code",
   "execution_count": 56,
   "id": "5072c4ca",
   "metadata": {},
   "outputs": [
    {
     "name": "stderr",
     "output_type": "stream",
     "text": [
      "C:\\Users\\82107\\AppData\\Local\\Temp\\ipykernel_11724\\827960517.py:3: SettingWithCopyWarning: \n",
      "A value is trying to be set on a copy of a slice from a DataFrame\n",
      "\n",
      "See the caveats in the documentation: https://pandas.pydata.org/pandas-docs/stable/user_guide/indexing.html#returning-a-view-versus-a-copy\n",
      "  unpreprocessed['시도'][i] = '충청남도'\n",
      "C:\\Users\\82107\\AppData\\Local\\Temp\\ipykernel_11724\\827960517.py:4: SettingWithCopyWarning: \n",
      "A value is trying to be set on a copy of a slice from a DataFrame\n",
      "\n",
      "See the caveats in the documentation: https://pandas.pydata.org/pandas-docs/stable/user_guide/indexing.html#returning-a-view-versus-a-copy\n",
      "  unpreprocessed['시군구'][i] = '당진시'\n"
     ]
    }
   ],
   "source": [
    "index = unpreprocessed[unpreprocessed['시도']=='당진시'].index\n",
    "for i in index:\n",
    "    unpreprocessed['시도'][i] = '충청남도'\n",
    "    unpreprocessed['시군구'][i] = '당진시'"
   ]
  },
  {
   "cell_type": "code",
   "execution_count": 57,
   "id": "7b17a25c",
   "metadata": {},
   "outputs": [
    {
     "data": {
      "text/html": [
       "<div>\n",
       "<style scoped>\n",
       "    .dataframe tbody tr th:only-of-type {\n",
       "        vertical-align: middle;\n",
       "    }\n",
       "\n",
       "    .dataframe tbody tr th {\n",
       "        vertical-align: top;\n",
       "    }\n",
       "\n",
       "    .dataframe thead th {\n",
       "        text-align: right;\n",
       "    }\n",
       "</style>\n",
       "<table border=\"1\" class=\"dataframe\">\n",
       "  <thead>\n",
       "    <tr style=\"text-align: right;\">\n",
       "      <th></th>\n",
       "      <th>위도</th>\n",
       "      <th>경도</th>\n",
       "      <th>구분</th>\n",
       "      <th>시도</th>\n",
       "      <th>시군구</th>\n",
       "    </tr>\n",
       "  </thead>\n",
       "  <tbody>\n",
       "    <tr>\n",
       "      <th>64574</th>\n",
       "      <td>36.737930</td>\n",
       "      <td>126.133175</td>\n",
       "      <td>신호위반 민원</td>\n",
       "      <td>태안군</td>\n",
       "      <td>파도리</td>\n",
       "    </tr>\n",
       "    <tr>\n",
       "      <th>64575</th>\n",
       "      <td>36.737926</td>\n",
       "      <td>126.133187</td>\n",
       "      <td>신호위반 민원</td>\n",
       "      <td>태안군</td>\n",
       "      <td>파도리</td>\n",
       "    </tr>\n",
       "  </tbody>\n",
       "</table>\n",
       "</div>"
      ],
      "text/plain": [
       "              위도          경도       구분   시도  시군구\n",
       "64574  36.737930  126.133175  신호위반 민원  태안군  파도리\n",
       "64575  36.737926  126.133187  신호위반 민원  태안군  파도리"
      ]
     },
     "execution_count": 57,
     "metadata": {},
     "output_type": "execute_result"
    }
   ],
   "source": [
    "unpreprocessed[unpreprocessed['시도']=='태안군']"
   ]
  },
  {
   "cell_type": "code",
   "execution_count": 59,
   "id": "a6bea56c",
   "metadata": {},
   "outputs": [
    {
     "name": "stdout",
     "output_type": "stream",
     "text": [
      "['파도길', '파도리', '태안군', '충청남도', '대한민국']\n"
     ]
    }
   ],
   "source": [
    "addr_list = []\n",
    "address = geocoding_reverse('36.737930, 126.133175')\n",
    "\n",
    "addr_list = str(address).split(', ')\n",
    "\n",
    "print(addr_list)"
   ]
  },
  {
   "cell_type": "code",
   "execution_count": 60,
   "id": "15e34840",
   "metadata": {},
   "outputs": [
    {
     "name": "stderr",
     "output_type": "stream",
     "text": [
      "C:\\Users\\82107\\AppData\\Local\\Temp\\ipykernel_11724\\2694761328.py:3: SettingWithCopyWarning: \n",
      "A value is trying to be set on a copy of a slice from a DataFrame\n",
      "\n",
      "See the caveats in the documentation: https://pandas.pydata.org/pandas-docs/stable/user_guide/indexing.html#returning-a-view-versus-a-copy\n",
      "  unpreprocessed['시도'][i] = '충청남도'\n",
      "C:\\Users\\82107\\AppData\\Local\\Temp\\ipykernel_11724\\2694761328.py:4: SettingWithCopyWarning: \n",
      "A value is trying to be set on a copy of a slice from a DataFrame\n",
      "\n",
      "See the caveats in the documentation: https://pandas.pydata.org/pandas-docs/stable/user_guide/indexing.html#returning-a-view-versus-a-copy\n",
      "  unpreprocessed['시군구'][i] = '태안군'\n"
     ]
    }
   ],
   "source": [
    "index = unpreprocessed[unpreprocessed['시도']=='태안군'].index\n",
    "for i in index:\n",
    "    unpreprocessed['시도'][i] = '충청남도'\n",
    "    unpreprocessed['시군구'][i] = '태안군'"
   ]
  },
  {
   "cell_type": "code",
   "execution_count": 62,
   "id": "fa75d49f",
   "metadata": {},
   "outputs": [
    {
     "data": {
      "text/html": [
       "<div>\n",
       "<style scoped>\n",
       "    .dataframe tbody tr th:only-of-type {\n",
       "        vertical-align: middle;\n",
       "    }\n",
       "\n",
       "    .dataframe tbody tr th {\n",
       "        vertical-align: top;\n",
       "    }\n",
       "\n",
       "    .dataframe thead th {\n",
       "        text-align: right;\n",
       "    }\n",
       "</style>\n",
       "<table border=\"1\" class=\"dataframe\">\n",
       "  <thead>\n",
       "    <tr style=\"text-align: right;\">\n",
       "      <th></th>\n",
       "      <th>위도</th>\n",
       "      <th>경도</th>\n",
       "      <th>구분</th>\n",
       "      <th>시도</th>\n",
       "      <th>시군구</th>\n",
       "    </tr>\n",
       "  </thead>\n",
       "  <tbody>\n",
       "    <tr>\n",
       "      <th>65111</th>\n",
       "      <td>37.619168</td>\n",
       "      <td>127.143003</td>\n",
       "      <td>신호위반 민원</td>\n",
       "      <td>구리시</td>\n",
       "      <td>왕숙길벚교 쉼터</td>\n",
       "    </tr>\n",
       "    <tr>\n",
       "      <th>69858</th>\n",
       "      <td>37.619213</td>\n",
       "      <td>127.142992</td>\n",
       "      <td>신호위반 민원</td>\n",
       "      <td>구리시</td>\n",
       "      <td>왕숙길벚교 쉼터</td>\n",
       "    </tr>\n",
       "  </tbody>\n",
       "</table>\n",
       "</div>"
      ],
      "text/plain": [
       "              위도          경도       구분   시도       시군구\n",
       "65111  37.619168  127.143003  신호위반 민원  구리시  왕숙길벚교 쉼터\n",
       "69858  37.619213  127.142992  신호위반 민원  구리시  왕숙길벚교 쉼터"
      ]
     },
     "execution_count": 62,
     "metadata": {},
     "output_type": "execute_result"
    }
   ],
   "source": [
    "unpreprocessed[unpreprocessed['시도']=='구리시']"
   ]
  },
  {
   "cell_type": "code",
   "execution_count": 63,
   "id": "bc50bee7",
   "metadata": {},
   "outputs": [
    {
     "name": "stdout",
     "output_type": "stream",
     "text": [
      "['왕숙천로', '구리시', '경기도', '11908', '대한민국']\n"
     ]
    }
   ],
   "source": [
    "addr_list = []\n",
    "address = geocoding_reverse('37.619168,127.143003')\n",
    "\n",
    "addr_list = str(address).split(', ')\n",
    "\n",
    "print(addr_list)"
   ]
  },
  {
   "cell_type": "code",
   "execution_count": 64,
   "id": "82906ce5",
   "metadata": {},
   "outputs": [
    {
     "name": "stderr",
     "output_type": "stream",
     "text": [
      "C:\\Users\\82107\\AppData\\Local\\Temp\\ipykernel_11724\\704732980.py:3: SettingWithCopyWarning: \n",
      "A value is trying to be set on a copy of a slice from a DataFrame\n",
      "\n",
      "See the caveats in the documentation: https://pandas.pydata.org/pandas-docs/stable/user_guide/indexing.html#returning-a-view-versus-a-copy\n",
      "  unpreprocessed['시도'][i] = '경기도'\n",
      "C:\\Users\\82107\\AppData\\Local\\Temp\\ipykernel_11724\\704732980.py:4: SettingWithCopyWarning: \n",
      "A value is trying to be set on a copy of a slice from a DataFrame\n",
      "\n",
      "See the caveats in the documentation: https://pandas.pydata.org/pandas-docs/stable/user_guide/indexing.html#returning-a-view-versus-a-copy\n",
      "  unpreprocessed['시군구'][i] = '구리시'\n"
     ]
    }
   ],
   "source": [
    "index = unpreprocessed[unpreprocessed['시도']=='구리시'].index\n",
    "for i in index:\n",
    "    unpreprocessed['시도'][i] = '경기도'\n",
    "    unpreprocessed['시군구'][i] = '구리시'"
   ]
  },
  {
   "cell_type": "code",
   "execution_count": 65,
   "id": "9850eefa",
   "metadata": {
    "scrolled": true
   },
   "outputs": [
    {
     "data": {
      "text/html": [
       "<div>\n",
       "<style scoped>\n",
       "    .dataframe tbody tr th:only-of-type {\n",
       "        vertical-align: middle;\n",
       "    }\n",
       "\n",
       "    .dataframe tbody tr th {\n",
       "        vertical-align: top;\n",
       "    }\n",
       "\n",
       "    .dataframe thead th {\n",
       "        text-align: right;\n",
       "    }\n",
       "</style>\n",
       "<table border=\"1\" class=\"dataframe\">\n",
       "  <thead>\n",
       "    <tr style=\"text-align: right;\">\n",
       "      <th></th>\n",
       "      <th>위도</th>\n",
       "      <th>경도</th>\n",
       "      <th>구분</th>\n",
       "      <th>시도</th>\n",
       "      <th>시군구</th>\n",
       "    </tr>\n",
       "  </thead>\n",
       "  <tbody>\n",
       "    <tr>\n",
       "      <th>65760</th>\n",
       "      <td>35.051724</td>\n",
       "      <td>126.958095</td>\n",
       "      <td>신호위반 민원</td>\n",
       "      <td>화순군</td>\n",
       "      <td>화순읍</td>\n",
       "    </tr>\n",
       "  </tbody>\n",
       "</table>\n",
       "</div>"
      ],
      "text/plain": [
       "              위도          경도       구분   시도  시군구\n",
       "65760  35.051724  126.958095  신호위반 민원  화순군  화순읍"
      ]
     },
     "execution_count": 65,
     "metadata": {},
     "output_type": "execute_result"
    }
   ],
   "source": [
    "unpreprocessed[unpreprocessed['시도']=='화순군']"
   ]
  },
  {
   "cell_type": "code",
   "execution_count": 66,
   "id": "d96ad707",
   "metadata": {},
   "outputs": [
    {
     "name": "stdout",
     "output_type": "stream",
     "text": [
      "['오성로', '화순읍', '화순군', '전라남도', '대한민국']\n"
     ]
    }
   ],
   "source": [
    "addr_list = []\n",
    "address = geocoding_reverse('35.051724, 126.958095')\n",
    "\n",
    "addr_list = str(address).split(', ')\n",
    "\n",
    "print(addr_list)"
   ]
  },
  {
   "cell_type": "code",
   "execution_count": 67,
   "id": "5b019466",
   "metadata": {},
   "outputs": [
    {
     "name": "stderr",
     "output_type": "stream",
     "text": [
      "C:\\Users\\82107\\AppData\\Local\\Temp\\ipykernel_11724\\4025741389.py:3: SettingWithCopyWarning: \n",
      "A value is trying to be set on a copy of a slice from a DataFrame\n",
      "\n",
      "See the caveats in the documentation: https://pandas.pydata.org/pandas-docs/stable/user_guide/indexing.html#returning-a-view-versus-a-copy\n",
      "  unpreprocessed['시도'][i] = '전라남도'\n",
      "C:\\Users\\82107\\AppData\\Local\\Temp\\ipykernel_11724\\4025741389.py:4: SettingWithCopyWarning: \n",
      "A value is trying to be set on a copy of a slice from a DataFrame\n",
      "\n",
      "See the caveats in the documentation: https://pandas.pydata.org/pandas-docs/stable/user_guide/indexing.html#returning-a-view-versus-a-copy\n",
      "  unpreprocessed['시군구'][i] = '화순군'\n"
     ]
    }
   ],
   "source": [
    "index = unpreprocessed[unpreprocessed['시도']=='화순군'].index\n",
    "for i in index:\n",
    "    unpreprocessed['시도'][i] = '전라남도'\n",
    "    unpreprocessed['시군구'][i] = '화순군'"
   ]
  },
  {
   "cell_type": "code",
   "execution_count": 68,
   "id": "0d4526ac",
   "metadata": {},
   "outputs": [
    {
     "data": {
      "text/html": [
       "<div>\n",
       "<style scoped>\n",
       "    .dataframe tbody tr th:only-of-type {\n",
       "        vertical-align: middle;\n",
       "    }\n",
       "\n",
       "    .dataframe tbody tr th {\n",
       "        vertical-align: top;\n",
       "    }\n",
       "\n",
       "    .dataframe thead th {\n",
       "        text-align: right;\n",
       "    }\n",
       "</style>\n",
       "<table border=\"1\" class=\"dataframe\">\n",
       "  <thead>\n",
       "    <tr style=\"text-align: right;\">\n",
       "      <th></th>\n",
       "      <th>위도</th>\n",
       "      <th>경도</th>\n",
       "      <th>구분</th>\n",
       "      <th>시도</th>\n",
       "      <th>시군구</th>\n",
       "    </tr>\n",
       "  </thead>\n",
       "  <tbody>\n",
       "    <tr>\n",
       "      <th>66134</th>\n",
       "      <td>37.265615</td>\n",
       "      <td>126.998782</td>\n",
       "      <td>신호위반 민원</td>\n",
       "      <td>수원시</td>\n",
       "      <td>권선구</td>\n",
       "    </tr>\n",
       "  </tbody>\n",
       "</table>\n",
       "</div>"
      ],
      "text/plain": [
       "              위도          경도       구분   시도  시군구\n",
       "66134  37.265615  126.998782  신호위반 민원  수원시  권선구"
      ]
     },
     "execution_count": 68,
     "metadata": {},
     "output_type": "execute_result"
    }
   ],
   "source": [
    "unpreprocessed[unpreprocessed['시도']=='수원시']"
   ]
  },
  {
   "cell_type": "code",
   "execution_count": 69,
   "id": "15e6d98b",
   "metadata": {},
   "outputs": [
    {
     "name": "stdout",
     "output_type": "stream",
     "text": [
      "['권선구', '수원시', '경기도', '대한민국']\n"
     ]
    }
   ],
   "source": [
    "addr_list = []\n",
    "address = geocoding_reverse('37.265615, 126.998782')\n",
    "\n",
    "addr_list = str(address).split(', ')\n",
    "\n",
    "print(addr_list)"
   ]
  },
  {
   "cell_type": "code",
   "execution_count": 70,
   "id": "0ba25ff7",
   "metadata": {},
   "outputs": [
    {
     "name": "stderr",
     "output_type": "stream",
     "text": [
      "C:\\Users\\82107\\AppData\\Local\\Temp\\ipykernel_11724\\2700206414.py:3: SettingWithCopyWarning: \n",
      "A value is trying to be set on a copy of a slice from a DataFrame\n",
      "\n",
      "See the caveats in the documentation: https://pandas.pydata.org/pandas-docs/stable/user_guide/indexing.html#returning-a-view-versus-a-copy\n",
      "  unpreprocessed['시도'][i] = '경기도'\n",
      "C:\\Users\\82107\\AppData\\Local\\Temp\\ipykernel_11724\\2700206414.py:4: SettingWithCopyWarning: \n",
      "A value is trying to be set on a copy of a slice from a DataFrame\n",
      "\n",
      "See the caveats in the documentation: https://pandas.pydata.org/pandas-docs/stable/user_guide/indexing.html#returning-a-view-versus-a-copy\n",
      "  unpreprocessed['시군구'][i] = '수원시'\n"
     ]
    }
   ],
   "source": [
    "index = unpreprocessed[unpreprocessed['시도']=='수원시'].index\n",
    "for i in index:\n",
    "    unpreprocessed['시도'][i] = '경기도'\n",
    "    unpreprocessed['시군구'][i] = '수원시'"
   ]
  },
  {
   "cell_type": "code",
   "execution_count": 71,
   "id": "f9a4ea13",
   "metadata": {},
   "outputs": [
    {
     "data": {
      "text/html": [
       "<div>\n",
       "<style scoped>\n",
       "    .dataframe tbody tr th:only-of-type {\n",
       "        vertical-align: middle;\n",
       "    }\n",
       "\n",
       "    .dataframe tbody tr th {\n",
       "        vertical-align: top;\n",
       "    }\n",
       "\n",
       "    .dataframe thead th {\n",
       "        text-align: right;\n",
       "    }\n",
       "</style>\n",
       "<table border=\"1\" class=\"dataframe\">\n",
       "  <thead>\n",
       "    <tr style=\"text-align: right;\">\n",
       "      <th></th>\n",
       "      <th>위도</th>\n",
       "      <th>경도</th>\n",
       "      <th>구분</th>\n",
       "      <th>시도</th>\n",
       "      <th>시군구</th>\n",
       "    </tr>\n",
       "  </thead>\n",
       "  <tbody>\n",
       "    <tr>\n",
       "      <th>66333</th>\n",
       "      <td>34.840377</td>\n",
       "      <td>126.500008</td>\n",
       "      <td>신호위반 민원</td>\n",
       "      <td>무안군</td>\n",
       "      <td>일로읍</td>\n",
       "    </tr>\n",
       "  </tbody>\n",
       "</table>\n",
       "</div>"
      ],
      "text/plain": [
       "              위도          경도       구분   시도  시군구\n",
       "66333  34.840377  126.500008  신호위반 민원  무안군  일로읍"
      ]
     },
     "execution_count": 71,
     "metadata": {},
     "output_type": "execute_result"
    }
   ],
   "source": [
    "unpreprocessed[unpreprocessed['시도']=='무안군']"
   ]
  },
  {
   "cell_type": "code",
   "execution_count": 72,
   "id": "3cae84e0",
   "metadata": {},
   "outputs": [
    {
     "name": "stdout",
     "output_type": "stream",
     "text": [
      "['일로읍', '무안군', '전라남도', '대한민국']\n"
     ]
    }
   ],
   "source": [
    "addr_list = []\n",
    "address = geocoding_reverse('34.840377, 126.500008')\n",
    "\n",
    "addr_list = str(address).split(', ')\n",
    "\n",
    "print(addr_list)"
   ]
  },
  {
   "cell_type": "code",
   "execution_count": 73,
   "id": "9dcf035e",
   "metadata": {},
   "outputs": [
    {
     "name": "stderr",
     "output_type": "stream",
     "text": [
      "C:\\Users\\82107\\AppData\\Local\\Temp\\ipykernel_11724\\562627888.py:3: SettingWithCopyWarning: \n",
      "A value is trying to be set on a copy of a slice from a DataFrame\n",
      "\n",
      "See the caveats in the documentation: https://pandas.pydata.org/pandas-docs/stable/user_guide/indexing.html#returning-a-view-versus-a-copy\n",
      "  unpreprocessed['시도'][i] = '전라남도'\n",
      "C:\\Users\\82107\\AppData\\Local\\Temp\\ipykernel_11724\\562627888.py:4: SettingWithCopyWarning: \n",
      "A value is trying to be set on a copy of a slice from a DataFrame\n",
      "\n",
      "See the caveats in the documentation: https://pandas.pydata.org/pandas-docs/stable/user_guide/indexing.html#returning-a-view-versus-a-copy\n",
      "  unpreprocessed['시군구'][i] = '무안군'\n"
     ]
    }
   ],
   "source": [
    "index = unpreprocessed[unpreprocessed['시도']=='무안군'].index\n",
    "for i in index:\n",
    "    unpreprocessed['시도'][i] = '전라남도'\n",
    "    unpreprocessed['시군구'][i] = '무안군'"
   ]
  },
  {
   "cell_type": "code",
   "execution_count": 74,
   "id": "f90461d1",
   "metadata": {},
   "outputs": [
    {
     "data": {
      "text/html": [
       "<div>\n",
       "<style scoped>\n",
       "    .dataframe tbody tr th:only-of-type {\n",
       "        vertical-align: middle;\n",
       "    }\n",
       "\n",
       "    .dataframe tbody tr th {\n",
       "        vertical-align: top;\n",
       "    }\n",
       "\n",
       "    .dataframe thead th {\n",
       "        text-align: right;\n",
       "    }\n",
       "</style>\n",
       "<table border=\"1\" class=\"dataframe\">\n",
       "  <thead>\n",
       "    <tr style=\"text-align: right;\">\n",
       "      <th></th>\n",
       "      <th>위도</th>\n",
       "      <th>경도</th>\n",
       "      <th>구분</th>\n",
       "      <th>시도</th>\n",
       "      <th>시군구</th>\n",
       "    </tr>\n",
       "  </thead>\n",
       "  <tbody>\n",
       "    <tr>\n",
       "      <th>66461</th>\n",
       "      <td>37.645263</td>\n",
       "      <td>126.627463</td>\n",
       "      <td>신호위반 민원</td>\n",
       "      <td>김포시</td>\n",
       "      <td>양곡리</td>\n",
       "    </tr>\n",
       "    <tr>\n",
       "      <th>69232</th>\n",
       "      <td>37.591223</td>\n",
       "      <td>126.792352</td>\n",
       "      <td>신호위반 민원</td>\n",
       "      <td>김포시</td>\n",
       "      <td>고촌읍</td>\n",
       "    </tr>\n",
       "  </tbody>\n",
       "</table>\n",
       "</div>"
      ],
      "text/plain": [
       "              위도          경도       구분   시도  시군구\n",
       "66461  37.645263  126.627463  신호위반 민원  김포시  양곡리\n",
       "69232  37.591223  126.792352  신호위반 민원  김포시  고촌읍"
      ]
     },
     "execution_count": 74,
     "metadata": {},
     "output_type": "execute_result"
    }
   ],
   "source": [
    "unpreprocessed[unpreprocessed['시도']=='김포시']"
   ]
  },
  {
   "cell_type": "code",
   "execution_count": 75,
   "id": "ec8afc2e",
   "metadata": {},
   "outputs": [
    {
     "name": "stdout",
     "output_type": "stream",
     "text": [
      "['구래동', '양곡리', '김포시', '경기도', '대한민국']\n"
     ]
    }
   ],
   "source": [
    "addr_list = []\n",
    "address = geocoding_reverse('37.645263, 126.627463')\n",
    "\n",
    "addr_list = str(address).split(', ')\n",
    "\n",
    "print(addr_list)"
   ]
  },
  {
   "cell_type": "code",
   "execution_count": 76,
   "id": "cf5474b4",
   "metadata": {},
   "outputs": [
    {
     "name": "stderr",
     "output_type": "stream",
     "text": [
      "C:\\Users\\82107\\AppData\\Local\\Temp\\ipykernel_11724\\3532842967.py:3: SettingWithCopyWarning: \n",
      "A value is trying to be set on a copy of a slice from a DataFrame\n",
      "\n",
      "See the caveats in the documentation: https://pandas.pydata.org/pandas-docs/stable/user_guide/indexing.html#returning-a-view-versus-a-copy\n",
      "  unpreprocessed['시도'][i] = '경기도'\n",
      "C:\\Users\\82107\\AppData\\Local\\Temp\\ipykernel_11724\\3532842967.py:4: SettingWithCopyWarning: \n",
      "A value is trying to be set on a copy of a slice from a DataFrame\n",
      "\n",
      "See the caveats in the documentation: https://pandas.pydata.org/pandas-docs/stable/user_guide/indexing.html#returning-a-view-versus-a-copy\n",
      "  unpreprocessed['시군구'][i] = '김포시'\n"
     ]
    }
   ],
   "source": [
    "index = unpreprocessed[unpreprocessed['시도']=='김포시'].index\n",
    "for i in index:\n",
    "    unpreprocessed['시도'][i] = '경기도'\n",
    "    unpreprocessed['시군구'][i] = '김포시'"
   ]
  },
  {
   "cell_type": "code",
   "execution_count": 77,
   "id": "4bd3ffc4",
   "metadata": {},
   "outputs": [
    {
     "data": {
      "text/html": [
       "<div>\n",
       "<style scoped>\n",
       "    .dataframe tbody tr th:only-of-type {\n",
       "        vertical-align: middle;\n",
       "    }\n",
       "\n",
       "    .dataframe tbody tr th {\n",
       "        vertical-align: top;\n",
       "    }\n",
       "\n",
       "    .dataframe thead th {\n",
       "        text-align: right;\n",
       "    }\n",
       "</style>\n",
       "<table border=\"1\" class=\"dataframe\">\n",
       "  <thead>\n",
       "    <tr style=\"text-align: right;\">\n",
       "      <th></th>\n",
       "      <th>위도</th>\n",
       "      <th>경도</th>\n",
       "      <th>구분</th>\n",
       "      <th>시도</th>\n",
       "      <th>시군구</th>\n",
       "    </tr>\n",
       "  </thead>\n",
       "  <tbody>\n",
       "    <tr>\n",
       "      <th>67185</th>\n",
       "      <td>35.088543</td>\n",
       "      <td>126.889128</td>\n",
       "      <td>신호위반 민원</td>\n",
       "      <td>남구</td>\n",
       "      <td>NaN</td>\n",
       "    </tr>\n",
       "    <tr>\n",
       "      <th>73891</th>\n",
       "      <td>35.550393</td>\n",
       "      <td>129.263788</td>\n",
       "      <td>신호위반 민원</td>\n",
       "      <td>남구</td>\n",
       "      <td>신복로터리</td>\n",
       "    </tr>\n",
       "    <tr>\n",
       "      <th>75025</th>\n",
       "      <td>35.467382</td>\n",
       "      <td>129.360266</td>\n",
       "      <td>신호위반 민원</td>\n",
       "      <td>남구</td>\n",
       "      <td>선암동</td>\n",
       "    </tr>\n",
       "    <tr>\n",
       "      <th>77134</th>\n",
       "      <td>35.550060</td>\n",
       "      <td>129.264151</td>\n",
       "      <td>신호위반 민원</td>\n",
       "      <td>남구</td>\n",
       "      <td>신복로터리</td>\n",
       "    </tr>\n",
       "  </tbody>\n",
       "</table>\n",
       "</div>"
      ],
      "text/plain": [
       "              위도          경도       구분  시도    시군구\n",
       "67185  35.088543  126.889128  신호위반 민원  남구    NaN\n",
       "73891  35.550393  129.263788  신호위반 민원  남구  신복로터리\n",
       "75025  35.467382  129.360266  신호위반 민원  남구    선암동\n",
       "77134  35.550060  129.264151  신호위반 민원  남구  신복로터리"
      ]
     },
     "execution_count": 77,
     "metadata": {},
     "output_type": "execute_result"
    }
   ],
   "source": [
    "unpreprocessed[unpreprocessed['시도']=='남구']"
   ]
  },
  {
   "cell_type": "code",
   "execution_count": 78,
   "id": "44c32e28",
   "metadata": {},
   "outputs": [
    {
     "name": "stdout",
     "output_type": "stream",
     "text": [
      "['남구', '광주', '대한민국']\n"
     ]
    }
   ],
   "source": [
    "addr_list = []\n",
    "address = geocoding_reverse('35.088543, 126.889128')\n",
    "\n",
    "addr_list = str(address).split(', ')\n",
    "\n",
    "print(addr_list)"
   ]
  },
  {
   "cell_type": "code",
   "execution_count": 79,
   "id": "9c065437",
   "metadata": {},
   "outputs": [
    {
     "name": "stdout",
     "output_type": "stream",
     "text": [
      "['신복로터리', '남구', '울산', '대한민국']\n"
     ]
    }
   ],
   "source": [
    "addr_list = []\n",
    "address = geocoding_reverse('35.550393,129.263788')\n",
    "\n",
    "addr_list = str(address).split(', ')\n",
    "\n",
    "print(addr_list)"
   ]
  },
  {
   "cell_type": "code",
   "execution_count": 80,
   "id": "479e5bb9",
   "metadata": {
    "scrolled": true
   },
   "outputs": [
    {
     "name": "stdout",
     "output_type": "stream",
     "text": [
      "['용연로', '황성동', '선암동', '남구', '울산', '대한민국']\n"
     ]
    }
   ],
   "source": [
    "addr_list = []\n",
    "address = geocoding_reverse('35.467382,129.360266')\n",
    "\n",
    "addr_list = str(address).split(', ')\n",
    "\n",
    "print(addr_list)"
   ]
  },
  {
   "cell_type": "code",
   "execution_count": 81,
   "id": "fd2601e7",
   "metadata": {
    "scrolled": true
   },
   "outputs": [
    {
     "name": "stderr",
     "output_type": "stream",
     "text": [
      "C:\\Users\\82107\\AppData\\Local\\Temp\\ipykernel_11724\\3853707987.py:1: SettingWithCopyWarning: \n",
      "A value is trying to be set on a copy of a slice from a DataFrame\n",
      "\n",
      "See the caveats in the documentation: https://pandas.pydata.org/pandas-docs/stable/user_guide/indexing.html#returning-a-view-versus-a-copy\n",
      "  unpreprocessed['시도'][67185] = '광주'\n",
      "C:\\Users\\82107\\AppData\\Local\\Temp\\ipykernel_11724\\3853707987.py:2: SettingWithCopyWarning: \n",
      "A value is trying to be set on a copy of a slice from a DataFrame\n",
      "\n",
      "See the caveats in the documentation: https://pandas.pydata.org/pandas-docs/stable/user_guide/indexing.html#returning-a-view-versus-a-copy\n",
      "  unpreprocessed['시군구'][67185] = '남구'\n"
     ]
    }
   ],
   "source": [
    "unpreprocessed['시도'][67185] = '광주'\n",
    "unpreprocessed['시군구'][67185] = '남구'"
   ]
  },
  {
   "cell_type": "code",
   "execution_count": 82,
   "id": "18971aab",
   "metadata": {},
   "outputs": [
    {
     "data": {
      "text/html": [
       "<div>\n",
       "<style scoped>\n",
       "    .dataframe tbody tr th:only-of-type {\n",
       "        vertical-align: middle;\n",
       "    }\n",
       "\n",
       "    .dataframe tbody tr th {\n",
       "        vertical-align: top;\n",
       "    }\n",
       "\n",
       "    .dataframe thead th {\n",
       "        text-align: right;\n",
       "    }\n",
       "</style>\n",
       "<table border=\"1\" class=\"dataframe\">\n",
       "  <thead>\n",
       "    <tr style=\"text-align: right;\">\n",
       "      <th></th>\n",
       "      <th>위도</th>\n",
       "      <th>경도</th>\n",
       "      <th>구분</th>\n",
       "      <th>시도</th>\n",
       "      <th>시군구</th>\n",
       "    </tr>\n",
       "  </thead>\n",
       "  <tbody>\n",
       "    <tr>\n",
       "      <th>73891</th>\n",
       "      <td>35.550393</td>\n",
       "      <td>129.263788</td>\n",
       "      <td>신호위반 민원</td>\n",
       "      <td>남구</td>\n",
       "      <td>신복로터리</td>\n",
       "    </tr>\n",
       "    <tr>\n",
       "      <th>75025</th>\n",
       "      <td>35.467382</td>\n",
       "      <td>129.360266</td>\n",
       "      <td>신호위반 민원</td>\n",
       "      <td>남구</td>\n",
       "      <td>선암동</td>\n",
       "    </tr>\n",
       "    <tr>\n",
       "      <th>77134</th>\n",
       "      <td>35.550060</td>\n",
       "      <td>129.264151</td>\n",
       "      <td>신호위반 민원</td>\n",
       "      <td>남구</td>\n",
       "      <td>신복로터리</td>\n",
       "    </tr>\n",
       "  </tbody>\n",
       "</table>\n",
       "</div>"
      ],
      "text/plain": [
       "              위도          경도       구분  시도    시군구\n",
       "73891  35.550393  129.263788  신호위반 민원  남구  신복로터리\n",
       "75025  35.467382  129.360266  신호위반 민원  남구    선암동\n",
       "77134  35.550060  129.264151  신호위반 민원  남구  신복로터리"
      ]
     },
     "execution_count": 82,
     "metadata": {},
     "output_type": "execute_result"
    }
   ],
   "source": [
    "unpreprocessed[unpreprocessed['시도']=='남구']"
   ]
  },
  {
   "cell_type": "code",
   "execution_count": 83,
   "id": "f119c24c",
   "metadata": {},
   "outputs": [
    {
     "data": {
      "text/html": [
       "<div>\n",
       "<style scoped>\n",
       "    .dataframe tbody tr th:only-of-type {\n",
       "        vertical-align: middle;\n",
       "    }\n",
       "\n",
       "    .dataframe tbody tr th {\n",
       "        vertical-align: top;\n",
       "    }\n",
       "\n",
       "    .dataframe thead th {\n",
       "        text-align: right;\n",
       "    }\n",
       "</style>\n",
       "<table border=\"1\" class=\"dataframe\">\n",
       "  <thead>\n",
       "    <tr style=\"text-align: right;\">\n",
       "      <th></th>\n",
       "      <th>위도</th>\n",
       "      <th>경도</th>\n",
       "      <th>구분</th>\n",
       "      <th>시도</th>\n",
       "      <th>시군구</th>\n",
       "    </tr>\n",
       "  </thead>\n",
       "  <tbody>\n",
       "    <tr>\n",
       "      <th>67185</th>\n",
       "      <td>35.088543</td>\n",
       "      <td>126.889128</td>\n",
       "      <td>신호위반 민원</td>\n",
       "      <td>광주</td>\n",
       "      <td>남구</td>\n",
       "    </tr>\n",
       "  </tbody>\n",
       "</table>\n",
       "</div>"
      ],
      "text/plain": [
       "              위도          경도       구분  시도 시군구\n",
       "67185  35.088543  126.889128  신호위반 민원  광주  남구"
      ]
     },
     "execution_count": 83,
     "metadata": {},
     "output_type": "execute_result"
    }
   ],
   "source": [
    "unpreprocessed.loc[[67185]]"
   ]
  },
  {
   "cell_type": "code",
   "execution_count": 84,
   "id": "069b864a",
   "metadata": {},
   "outputs": [
    {
     "name": "stderr",
     "output_type": "stream",
     "text": [
      "C:\\Users\\82107\\AppData\\Local\\Temp\\ipykernel_11724\\1244904936.py:3: SettingWithCopyWarning: \n",
      "A value is trying to be set on a copy of a slice from a DataFrame\n",
      "\n",
      "See the caveats in the documentation: https://pandas.pydata.org/pandas-docs/stable/user_guide/indexing.html#returning-a-view-versus-a-copy\n",
      "  unpreprocessed['시도'][i] = '울산'\n",
      "C:\\Users\\82107\\AppData\\Local\\Temp\\ipykernel_11724\\1244904936.py:4: SettingWithCopyWarning: \n",
      "A value is trying to be set on a copy of a slice from a DataFrame\n",
      "\n",
      "See the caveats in the documentation: https://pandas.pydata.org/pandas-docs/stable/user_guide/indexing.html#returning-a-view-versus-a-copy\n",
      "  unpreprocessed['시군구'][i] = '남구'\n"
     ]
    }
   ],
   "source": [
    "index = unpreprocessed[unpreprocessed['시도']=='남구'].index\n",
    "for i in index:\n",
    "    unpreprocessed['시도'][i] = '울산'\n",
    "    unpreprocessed['시군구'][i] = '남구'"
   ]
  },
  {
   "cell_type": "code",
   "execution_count": 86,
   "id": "adb9a4b6",
   "metadata": {},
   "outputs": [
    {
     "data": {
      "text/html": [
       "<div>\n",
       "<style scoped>\n",
       "    .dataframe tbody tr th:only-of-type {\n",
       "        vertical-align: middle;\n",
       "    }\n",
       "\n",
       "    .dataframe tbody tr th {\n",
       "        vertical-align: top;\n",
       "    }\n",
       "\n",
       "    .dataframe thead th {\n",
       "        text-align: right;\n",
       "    }\n",
       "</style>\n",
       "<table border=\"1\" class=\"dataframe\">\n",
       "  <thead>\n",
       "    <tr style=\"text-align: right;\">\n",
       "      <th></th>\n",
       "      <th>위도</th>\n",
       "      <th>경도</th>\n",
       "      <th>구분</th>\n",
       "      <th>시도</th>\n",
       "      <th>시군구</th>\n",
       "    </tr>\n",
       "  </thead>\n",
       "  <tbody>\n",
       "    <tr>\n",
       "      <th>68209</th>\n",
       "      <td>35.332859</td>\n",
       "      <td>126.98976</td>\n",
       "      <td>신호위반 민원</td>\n",
       "      <td>담양군</td>\n",
       "      <td>향교리</td>\n",
       "    </tr>\n",
       "  </tbody>\n",
       "</table>\n",
       "</div>"
      ],
      "text/plain": [
       "              위도         경도       구분   시도  시군구\n",
       "68209  35.332859  126.98976  신호위반 민원  담양군  향교리"
      ]
     },
     "execution_count": 86,
     "metadata": {},
     "output_type": "execute_result"
    }
   ],
   "source": [
    "unpreprocessed[unpreprocessed['시도']=='담양군']"
   ]
  },
  {
   "cell_type": "code",
   "execution_count": 87,
   "id": "0fb965c0",
   "metadata": {},
   "outputs": [
    {
     "name": "stdout",
     "output_type": "stream",
     "text": [
      "['향교리', '담양군', '전라남도', '대한민국']\n"
     ]
    }
   ],
   "source": [
    "addr_list = []\n",
    "address = geocoding_reverse('35.332859, 126.98976')\n",
    "\n",
    "addr_list = str(address).split(', ')\n",
    "\n",
    "print(addr_list)"
   ]
  },
  {
   "cell_type": "code",
   "execution_count": 88,
   "id": "e651a01b",
   "metadata": {},
   "outputs": [
    {
     "name": "stderr",
     "output_type": "stream",
     "text": [
      "C:\\Users\\82107\\AppData\\Local\\Temp\\ipykernel_11724\\2361142269.py:3: SettingWithCopyWarning: \n",
      "A value is trying to be set on a copy of a slice from a DataFrame\n",
      "\n",
      "See the caveats in the documentation: https://pandas.pydata.org/pandas-docs/stable/user_guide/indexing.html#returning-a-view-versus-a-copy\n",
      "  unpreprocessed['시도'][i] = '전라남도'\n",
      "C:\\Users\\82107\\AppData\\Local\\Temp\\ipykernel_11724\\2361142269.py:4: SettingWithCopyWarning: \n",
      "A value is trying to be set on a copy of a slice from a DataFrame\n",
      "\n",
      "See the caveats in the documentation: https://pandas.pydata.org/pandas-docs/stable/user_guide/indexing.html#returning-a-view-versus-a-copy\n",
      "  unpreprocessed['시군구'][i] = '담양군'\n"
     ]
    }
   ],
   "source": [
    "index = unpreprocessed[unpreprocessed['시도']=='담양군'].index\n",
    "for i in index:\n",
    "    unpreprocessed['시도'][i] = '전라남도'\n",
    "    unpreprocessed['시군구'][i] = '담양군'"
   ]
  },
  {
   "cell_type": "code",
   "execution_count": 89,
   "id": "590d6f05",
   "metadata": {},
   "outputs": [
    {
     "data": {
      "text/html": [
       "<div>\n",
       "<style scoped>\n",
       "    .dataframe tbody tr th:only-of-type {\n",
       "        vertical-align: middle;\n",
       "    }\n",
       "\n",
       "    .dataframe tbody tr th {\n",
       "        vertical-align: top;\n",
       "    }\n",
       "\n",
       "    .dataframe thead th {\n",
       "        text-align: right;\n",
       "    }\n",
       "</style>\n",
       "<table border=\"1\" class=\"dataframe\">\n",
       "  <thead>\n",
       "    <tr style=\"text-align: right;\">\n",
       "      <th></th>\n",
       "      <th>위도</th>\n",
       "      <th>경도</th>\n",
       "      <th>구분</th>\n",
       "      <th>시도</th>\n",
       "      <th>시군구</th>\n",
       "    </tr>\n",
       "  </thead>\n",
       "  <tbody>\n",
       "    <tr>\n",
       "      <th>68454</th>\n",
       "      <td>37.327819</td>\n",
       "      <td>126.843831</td>\n",
       "      <td>신호위반 민원</td>\n",
       "      <td>안산시</td>\n",
       "      <td>상록구</td>\n",
       "    </tr>\n",
       "    <tr>\n",
       "      <th>78817</th>\n",
       "      <td>37.328026</td>\n",
       "      <td>126.843627</td>\n",
       "      <td>신호위반 민원</td>\n",
       "      <td>안산시</td>\n",
       "      <td>상록구</td>\n",
       "    </tr>\n",
       "  </tbody>\n",
       "</table>\n",
       "</div>"
      ],
      "text/plain": [
       "              위도          경도       구분   시도  시군구\n",
       "68454  37.327819  126.843831  신호위반 민원  안산시  상록구\n",
       "78817  37.328026  126.843627  신호위반 민원  안산시  상록구"
      ]
     },
     "execution_count": 89,
     "metadata": {},
     "output_type": "execute_result"
    }
   ],
   "source": [
    "unpreprocessed[unpreprocessed['시도']=='안산시']"
   ]
  },
  {
   "cell_type": "code",
   "execution_count": 90,
   "id": "81abe833",
   "metadata": {},
   "outputs": [
    {
     "name": "stdout",
     "output_type": "stream",
     "text": [
      "['예술광장1로', '월피동', '상록구', '안산시', '경기도', '대한민국']\n"
     ]
    }
   ],
   "source": [
    "addr_list = []\n",
    "address = geocoding_reverse('37.327819, 126.843831')\n",
    "\n",
    "addr_list = str(address).split(', ')\n",
    "\n",
    "print(addr_list)"
   ]
  },
  {
   "cell_type": "code",
   "execution_count": 91,
   "id": "ca6de1ae",
   "metadata": {},
   "outputs": [
    {
     "name": "stderr",
     "output_type": "stream",
     "text": [
      "C:\\Users\\82107\\AppData\\Local\\Temp\\ipykernel_11724\\3978736549.py:3: SettingWithCopyWarning: \n",
      "A value is trying to be set on a copy of a slice from a DataFrame\n",
      "\n",
      "See the caveats in the documentation: https://pandas.pydata.org/pandas-docs/stable/user_guide/indexing.html#returning-a-view-versus-a-copy\n",
      "  unpreprocessed['시도'][i] = '경기도'\n",
      "C:\\Users\\82107\\AppData\\Local\\Temp\\ipykernel_11724\\3978736549.py:4: SettingWithCopyWarning: \n",
      "A value is trying to be set on a copy of a slice from a DataFrame\n",
      "\n",
      "See the caveats in the documentation: https://pandas.pydata.org/pandas-docs/stable/user_guide/indexing.html#returning-a-view-versus-a-copy\n",
      "  unpreprocessed['시군구'][i] = '안산시'\n"
     ]
    }
   ],
   "source": [
    "index = unpreprocessed[unpreprocessed['시도']=='안산시'].index\n",
    "for i in index:\n",
    "    unpreprocessed['시도'][i] = '경기도'\n",
    "    unpreprocessed['시군구'][i] = '안산시'"
   ]
  },
  {
   "cell_type": "code",
   "execution_count": 93,
   "id": "1114370a",
   "metadata": {},
   "outputs": [
    {
     "data": {
      "text/html": [
       "<div>\n",
       "<style scoped>\n",
       "    .dataframe tbody tr th:only-of-type {\n",
       "        vertical-align: middle;\n",
       "    }\n",
       "\n",
       "    .dataframe tbody tr th {\n",
       "        vertical-align: top;\n",
       "    }\n",
       "\n",
       "    .dataframe thead th {\n",
       "        text-align: right;\n",
       "    }\n",
       "</style>\n",
       "<table border=\"1\" class=\"dataframe\">\n",
       "  <thead>\n",
       "    <tr style=\"text-align: right;\">\n",
       "      <th></th>\n",
       "      <th>위도</th>\n",
       "      <th>경도</th>\n",
       "      <th>구분</th>\n",
       "      <th>시도</th>\n",
       "      <th>시군구</th>\n",
       "    </tr>\n",
       "  </thead>\n",
       "  <tbody>\n",
       "    <tr>\n",
       "      <th>68906</th>\n",
       "      <td>37.733852</td>\n",
       "      <td>127.294444</td>\n",
       "      <td>신호위반 민원</td>\n",
       "      <td>남양주시</td>\n",
       "      <td>수동면</td>\n",
       "    </tr>\n",
       "    <tr>\n",
       "      <th>75629</th>\n",
       "      <td>37.708957</td>\n",
       "      <td>127.322391</td>\n",
       "      <td>신호위반 민원</td>\n",
       "      <td>남양주시</td>\n",
       "      <td>수동면</td>\n",
       "    </tr>\n",
       "  </tbody>\n",
       "</table>\n",
       "</div>"
      ],
      "text/plain": [
       "              위도          경도       구분    시도  시군구\n",
       "68906  37.733852  127.294444  신호위반 민원  남양주시  수동면\n",
       "75629  37.708957  127.322391  신호위반 민원  남양주시  수동면"
      ]
     },
     "execution_count": 93,
     "metadata": {},
     "output_type": "execute_result"
    }
   ],
   "source": [
    "unpreprocessed[unpreprocessed['시도']=='남양주시']"
   ]
  },
  {
   "cell_type": "code",
   "execution_count": 94,
   "id": "54757696",
   "metadata": {},
   "outputs": [
    {
     "name": "stdout",
     "output_type": "stream",
     "text": [
      "['수동면', '남양주시', '경기도', '대한민국']\n"
     ]
    }
   ],
   "source": [
    "addr_list = []\n",
    "address = geocoding_reverse('37.708957, 127.322391')\n",
    "\n",
    "addr_list = str(address).split(', ')\n",
    "\n",
    "print(addr_list)"
   ]
  },
  {
   "cell_type": "code",
   "execution_count": 95,
   "id": "ccde545e",
   "metadata": {},
   "outputs": [
    {
     "name": "stderr",
     "output_type": "stream",
     "text": [
      "C:\\Users\\82107\\AppData\\Local\\Temp\\ipykernel_11724\\1826305420.py:3: SettingWithCopyWarning: \n",
      "A value is trying to be set on a copy of a slice from a DataFrame\n",
      "\n",
      "See the caveats in the documentation: https://pandas.pydata.org/pandas-docs/stable/user_guide/indexing.html#returning-a-view-versus-a-copy\n",
      "  unpreprocessed['시도'][i] = '경기도'\n",
      "C:\\Users\\82107\\AppData\\Local\\Temp\\ipykernel_11724\\1826305420.py:4: SettingWithCopyWarning: \n",
      "A value is trying to be set on a copy of a slice from a DataFrame\n",
      "\n",
      "See the caveats in the documentation: https://pandas.pydata.org/pandas-docs/stable/user_guide/indexing.html#returning-a-view-versus-a-copy\n",
      "  unpreprocessed['시군구'][i] = '남양주시'\n"
     ]
    }
   ],
   "source": [
    "index = unpreprocessed[unpreprocessed['시도']=='남양주시'].index\n",
    "for i in index:\n",
    "    unpreprocessed['시도'][i] = '경기도'\n",
    "    unpreprocessed['시군구'][i] = '남양주시'"
   ]
  },
  {
   "cell_type": "code",
   "execution_count": 96,
   "id": "1ba0a60a",
   "metadata": {},
   "outputs": [
    {
     "data": {
      "text/html": [
       "<div>\n",
       "<style scoped>\n",
       "    .dataframe tbody tr th:only-of-type {\n",
       "        vertical-align: middle;\n",
       "    }\n",
       "\n",
       "    .dataframe tbody tr th {\n",
       "        vertical-align: top;\n",
       "    }\n",
       "\n",
       "    .dataframe thead th {\n",
       "        text-align: right;\n",
       "    }\n",
       "</style>\n",
       "<table border=\"1\" class=\"dataframe\">\n",
       "  <thead>\n",
       "    <tr style=\"text-align: right;\">\n",
       "      <th></th>\n",
       "      <th>위도</th>\n",
       "      <th>경도</th>\n",
       "      <th>구분</th>\n",
       "      <th>시도</th>\n",
       "      <th>시군구</th>\n",
       "    </tr>\n",
       "  </thead>\n",
       "  <tbody>\n",
       "    <tr>\n",
       "      <th>71724</th>\n",
       "      <td>34.952876</td>\n",
       "      <td>127.531783</td>\n",
       "      <td>신호위반 민원</td>\n",
       "      <td>순천시</td>\n",
       "      <td>상삼리</td>\n",
       "    </tr>\n",
       "  </tbody>\n",
       "</table>\n",
       "</div>"
      ],
      "text/plain": [
       "              위도          경도       구분   시도  시군구\n",
       "71724  34.952876  127.531783  신호위반 민원  순천시  상삼리"
      ]
     },
     "execution_count": 96,
     "metadata": {},
     "output_type": "execute_result"
    }
   ],
   "source": [
    "unpreprocessed[unpreprocessed['시도']=='순천시']"
   ]
  },
  {
   "cell_type": "code",
   "execution_count": 97,
   "id": "84fb1fc5",
   "metadata": {},
   "outputs": [
    {
     "name": "stdout",
     "output_type": "stream",
     "text": [
      "['조례보도육교', '상삼리', '순천시', '전라남도', '대한민국']\n"
     ]
    }
   ],
   "source": [
    "addr_list = []\n",
    "address = geocoding_reverse('34.952876, 127.531783')\n",
    "\n",
    "addr_list = str(address).split(', ')\n",
    "\n",
    "print(addr_list)"
   ]
  },
  {
   "cell_type": "code",
   "execution_count": 98,
   "id": "b4495d25",
   "metadata": {},
   "outputs": [
    {
     "name": "stderr",
     "output_type": "stream",
     "text": [
      "C:\\Users\\82107\\AppData\\Local\\Temp\\ipykernel_11724\\3371976130.py:3: SettingWithCopyWarning: \n",
      "A value is trying to be set on a copy of a slice from a DataFrame\n",
      "\n",
      "See the caveats in the documentation: https://pandas.pydata.org/pandas-docs/stable/user_guide/indexing.html#returning-a-view-versus-a-copy\n",
      "  unpreprocessed['시도'][i] = '전라남도'\n",
      "C:\\Users\\82107\\AppData\\Local\\Temp\\ipykernel_11724\\3371976130.py:4: SettingWithCopyWarning: \n",
      "A value is trying to be set on a copy of a slice from a DataFrame\n",
      "\n",
      "See the caveats in the documentation: https://pandas.pydata.org/pandas-docs/stable/user_guide/indexing.html#returning-a-view-versus-a-copy\n",
      "  unpreprocessed['시군구'][i] = '순천시'\n"
     ]
    }
   ],
   "source": [
    "index = unpreprocessed[unpreprocessed['시도']=='순천시'].index\n",
    "for i in index:\n",
    "    unpreprocessed['시도'][i] = '전라남도'\n",
    "    unpreprocessed['시군구'][i] = '순천시'"
   ]
  },
  {
   "cell_type": "code",
   "execution_count": 99,
   "id": "18e368e3",
   "metadata": {},
   "outputs": [
    {
     "data": {
      "text/html": [
       "<div>\n",
       "<style scoped>\n",
       "    .dataframe tbody tr th:only-of-type {\n",
       "        vertical-align: middle;\n",
       "    }\n",
       "\n",
       "    .dataframe tbody tr th {\n",
       "        vertical-align: top;\n",
       "    }\n",
       "\n",
       "    .dataframe thead th {\n",
       "        text-align: right;\n",
       "    }\n",
       "</style>\n",
       "<table border=\"1\" class=\"dataframe\">\n",
       "  <thead>\n",
       "    <tr style=\"text-align: right;\">\n",
       "      <th></th>\n",
       "      <th>위도</th>\n",
       "      <th>경도</th>\n",
       "      <th>구분</th>\n",
       "      <th>시도</th>\n",
       "      <th>시군구</th>\n",
       "    </tr>\n",
       "  </thead>\n",
       "  <tbody>\n",
       "    <tr>\n",
       "      <th>74207</th>\n",
       "      <td>36.810344</td>\n",
       "      <td>127.105455</td>\n",
       "      <td>신호위반 민원</td>\n",
       "      <td>천안시</td>\n",
       "      <td>서북구</td>\n",
       "    </tr>\n",
       "    <tr>\n",
       "      <th>75663</th>\n",
       "      <td>36.801888</td>\n",
       "      <td>127.112480</td>\n",
       "      <td>신호위반 민원</td>\n",
       "      <td>천안시</td>\n",
       "      <td>서북구</td>\n",
       "    </tr>\n",
       "  </tbody>\n",
       "</table>\n",
       "</div>"
      ],
      "text/plain": [
       "              위도          경도       구분   시도  시군구\n",
       "74207  36.810344  127.105455  신호위반 민원  천안시  서북구\n",
       "75663  36.801888  127.112480  신호위반 민원  천안시  서북구"
      ]
     },
     "execution_count": 99,
     "metadata": {},
     "output_type": "execute_result"
    }
   ],
   "source": [
    "unpreprocessed[unpreprocessed['시도']=='천안시']"
   ]
  },
  {
   "cell_type": "code",
   "execution_count": 100,
   "id": "a627b390",
   "metadata": {},
   "outputs": [
    {
     "name": "stdout",
     "output_type": "stream",
     "text": [
      "['불당동원형육교', '불당동', '서북구', '천안시', '충청남도', '대한민국']\n"
     ]
    }
   ],
   "source": [
    "addr_list = []\n",
    "address = geocoding_reverse('36.801888,127.112480')\n",
    "\n",
    "addr_list = str(address).split(', ')\n",
    "\n",
    "print(addr_list)"
   ]
  },
  {
   "cell_type": "code",
   "execution_count": 101,
   "id": "6a76a8e9",
   "metadata": {},
   "outputs": [
    {
     "name": "stderr",
     "output_type": "stream",
     "text": [
      "C:\\Users\\82107\\AppData\\Local\\Temp\\ipykernel_11724\\3175769997.py:3: SettingWithCopyWarning: \n",
      "A value is trying to be set on a copy of a slice from a DataFrame\n",
      "\n",
      "See the caveats in the documentation: https://pandas.pydata.org/pandas-docs/stable/user_guide/indexing.html#returning-a-view-versus-a-copy\n",
      "  unpreprocessed['시도'][i] = '충청남도'\n",
      "C:\\Users\\82107\\AppData\\Local\\Temp\\ipykernel_11724\\3175769997.py:4: SettingWithCopyWarning: \n",
      "A value is trying to be set on a copy of a slice from a DataFrame\n",
      "\n",
      "See the caveats in the documentation: https://pandas.pydata.org/pandas-docs/stable/user_guide/indexing.html#returning-a-view-versus-a-copy\n",
      "  unpreprocessed['시군구'][i] = '천안시'\n"
     ]
    }
   ],
   "source": [
    "index = unpreprocessed[unpreprocessed['시도']=='천안시'].index\n",
    "for i in index:\n",
    "    unpreprocessed['시도'][i] = '충청남도'\n",
    "    unpreprocessed['시군구'][i] = '천안시'"
   ]
  },
  {
   "cell_type": "code",
   "execution_count": 102,
   "id": "b7b3af8b",
   "metadata": {},
   "outputs": [
    {
     "data": {
      "text/html": [
       "<div>\n",
       "<style scoped>\n",
       "    .dataframe tbody tr th:only-of-type {\n",
       "        vertical-align: middle;\n",
       "    }\n",
       "\n",
       "    .dataframe tbody tr th {\n",
       "        vertical-align: top;\n",
       "    }\n",
       "\n",
       "    .dataframe thead th {\n",
       "        text-align: right;\n",
       "    }\n",
       "</style>\n",
       "<table border=\"1\" class=\"dataframe\">\n",
       "  <thead>\n",
       "    <tr style=\"text-align: right;\">\n",
       "      <th></th>\n",
       "      <th>위도</th>\n",
       "      <th>경도</th>\n",
       "      <th>구분</th>\n",
       "      <th>시도</th>\n",
       "      <th>시군구</th>\n",
       "    </tr>\n",
       "  </thead>\n",
       "  <tbody>\n",
       "    <tr>\n",
       "      <th>74751</th>\n",
       "      <td>36.732063</td>\n",
       "      <td>127.377393</td>\n",
       "      <td>신호위반 민원</td>\n",
       "      <td>청주시</td>\n",
       "      <td>청원구</td>\n",
       "    </tr>\n",
       "  </tbody>\n",
       "</table>\n",
       "</div>"
      ],
      "text/plain": [
       "              위도          경도       구분   시도  시군구\n",
       "74751  36.732063  127.377393  신호위반 민원  청주시  청원구"
      ]
     },
     "execution_count": 102,
     "metadata": {},
     "output_type": "execute_result"
    }
   ],
   "source": [
    "unpreprocessed[unpreprocessed['시도']=='청주시']"
   ]
  },
  {
   "cell_type": "code",
   "execution_count": 103,
   "id": "44697c4d",
   "metadata": {},
   "outputs": [
    {
     "name": "stdout",
     "output_type": "stream",
     "text": [
      "['청원구', '청주시', '충청북도', '대한민국']\n"
     ]
    }
   ],
   "source": [
    "addr_list = []\n",
    "address = geocoding_reverse('36.732063, 127.377393')\n",
    "\n",
    "addr_list = str(address).split(', ')\n",
    "\n",
    "print(addr_list)"
   ]
  },
  {
   "cell_type": "code",
   "execution_count": 104,
   "id": "a4849820",
   "metadata": {},
   "outputs": [
    {
     "name": "stderr",
     "output_type": "stream",
     "text": [
      "C:\\Users\\82107\\AppData\\Local\\Temp\\ipykernel_11724\\1833463981.py:3: SettingWithCopyWarning: \n",
      "A value is trying to be set on a copy of a slice from a DataFrame\n",
      "\n",
      "See the caveats in the documentation: https://pandas.pydata.org/pandas-docs/stable/user_guide/indexing.html#returning-a-view-versus-a-copy\n",
      "  unpreprocessed['시도'][i] = '충청북도'\n",
      "C:\\Users\\82107\\AppData\\Local\\Temp\\ipykernel_11724\\1833463981.py:4: SettingWithCopyWarning: \n",
      "A value is trying to be set on a copy of a slice from a DataFrame\n",
      "\n",
      "See the caveats in the documentation: https://pandas.pydata.org/pandas-docs/stable/user_guide/indexing.html#returning-a-view-versus-a-copy\n",
      "  unpreprocessed['시군구'][i] = '청주시'\n"
     ]
    }
   ],
   "source": [
    "index = unpreprocessed[unpreprocessed['시도']=='청주시'].index\n",
    "for i in index:\n",
    "    unpreprocessed['시도'][i] = '충청북도'\n",
    "    unpreprocessed['시군구'][i] = '청주시'"
   ]
  },
  {
   "cell_type": "code",
   "execution_count": 105,
   "id": "3a4fc03a",
   "metadata": {},
   "outputs": [
    {
     "data": {
      "text/html": [
       "<div>\n",
       "<style scoped>\n",
       "    .dataframe tbody tr th:only-of-type {\n",
       "        vertical-align: middle;\n",
       "    }\n",
       "\n",
       "    .dataframe tbody tr th {\n",
       "        vertical-align: top;\n",
       "    }\n",
       "\n",
       "    .dataframe thead th {\n",
       "        text-align: right;\n",
       "    }\n",
       "</style>\n",
       "<table border=\"1\" class=\"dataframe\">\n",
       "  <thead>\n",
       "    <tr style=\"text-align: right;\">\n",
       "      <th></th>\n",
       "      <th>위도</th>\n",
       "      <th>경도</th>\n",
       "      <th>구분</th>\n",
       "      <th>시도</th>\n",
       "      <th>시군구</th>\n",
       "    </tr>\n",
       "  </thead>\n",
       "  <tbody>\n",
       "    <tr>\n",
       "      <th>74904</th>\n",
       "      <td>37.45455</td>\n",
       "      <td>127.0603</td>\n",
       "      <td>신호위반 민원</td>\n",
       "      <td>서초구</td>\n",
       "      <td>안골</td>\n",
       "    </tr>\n",
       "  </tbody>\n",
       "</table>\n",
       "</div>"
      ],
      "text/plain": [
       "             위도        경도       구분   시도 시군구\n",
       "74904  37.45455  127.0603  신호위반 민원  서초구  안골"
      ]
     },
     "execution_count": 105,
     "metadata": {},
     "output_type": "execute_result"
    }
   ],
   "source": [
    "unpreprocessed[unpreprocessed['시도']=='서초구']"
   ]
  },
  {
   "cell_type": "code",
   "execution_count": 106,
   "id": "87d6cffe",
   "metadata": {},
   "outputs": [
    {
     "name": "stdout",
     "output_type": "stream",
     "text": [
      "['내곡동', '안골', '서초구', '서울', '대한민국']\n"
     ]
    }
   ],
   "source": [
    "addr_list = []\n",
    "address = geocoding_reverse('37.45455, 127.0603')\n",
    "\n",
    "addr_list = str(address).split(', ')\n",
    "\n",
    "print(addr_list)"
   ]
  },
  {
   "cell_type": "code",
   "execution_count": 107,
   "id": "fedd304d",
   "metadata": {},
   "outputs": [
    {
     "name": "stderr",
     "output_type": "stream",
     "text": [
      "C:\\Users\\82107\\AppData\\Local\\Temp\\ipykernel_11724\\2825295371.py:3: SettingWithCopyWarning: \n",
      "A value is trying to be set on a copy of a slice from a DataFrame\n",
      "\n",
      "See the caveats in the documentation: https://pandas.pydata.org/pandas-docs/stable/user_guide/indexing.html#returning-a-view-versus-a-copy\n",
      "  unpreprocessed['시도'][i] = '서울'\n",
      "C:\\Users\\82107\\AppData\\Local\\Temp\\ipykernel_11724\\2825295371.py:4: SettingWithCopyWarning: \n",
      "A value is trying to be set on a copy of a slice from a DataFrame\n",
      "\n",
      "See the caveats in the documentation: https://pandas.pydata.org/pandas-docs/stable/user_guide/indexing.html#returning-a-view-versus-a-copy\n",
      "  unpreprocessed['시군구'][i] = '서초구'\n"
     ]
    }
   ],
   "source": [
    "index = unpreprocessed[unpreprocessed['시도']=='서초구'].index\n",
    "for i in index:\n",
    "    unpreprocessed['시도'][i] = '서울'\n",
    "    unpreprocessed['시군구'][i] = '서초구'"
   ]
  },
  {
   "cell_type": "code",
   "execution_count": 108,
   "id": "f35bee82",
   "metadata": {},
   "outputs": [
    {
     "data": {
      "text/html": [
       "<div>\n",
       "<style scoped>\n",
       "    .dataframe tbody tr th:only-of-type {\n",
       "        vertical-align: middle;\n",
       "    }\n",
       "\n",
       "    .dataframe tbody tr th {\n",
       "        vertical-align: top;\n",
       "    }\n",
       "\n",
       "    .dataframe thead th {\n",
       "        text-align: right;\n",
       "    }\n",
       "</style>\n",
       "<table border=\"1\" class=\"dataframe\">\n",
       "  <thead>\n",
       "    <tr style=\"text-align: right;\">\n",
       "      <th></th>\n",
       "      <th>위도</th>\n",
       "      <th>경도</th>\n",
       "      <th>구분</th>\n",
       "      <th>시도</th>\n",
       "      <th>시군구</th>\n",
       "    </tr>\n",
       "  </thead>\n",
       "  <tbody>\n",
       "    <tr>\n",
       "      <th>74995</th>\n",
       "      <td>35.875124</td>\n",
       "      <td>128.820421</td>\n",
       "      <td>신호위반 민원</td>\n",
       "      <td>경산시</td>\n",
       "      <td>진량읍</td>\n",
       "    </tr>\n",
       "  </tbody>\n",
       "</table>\n",
       "</div>"
      ],
      "text/plain": [
       "              위도          경도       구분   시도  시군구\n",
       "74995  35.875124  128.820421  신호위반 민원  경산시  진량읍"
      ]
     },
     "execution_count": 108,
     "metadata": {},
     "output_type": "execute_result"
    }
   ],
   "source": [
    "unpreprocessed[unpreprocessed['시도']=='경산시']"
   ]
  },
  {
   "cell_type": "code",
   "execution_count": 109,
   "id": "36ec0dd0",
   "metadata": {},
   "outputs": [
    {
     "name": "stdout",
     "output_type": "stream",
     "text": [
      "['진량읍', '경산시', '경상북도', '대한민국']\n"
     ]
    }
   ],
   "source": [
    "addr_list = []\n",
    "address = geocoding_reverse('35.875124,128.820421')\n",
    "\n",
    "addr_list = str(address).split(', ')\n",
    "\n",
    "print(addr_list)"
   ]
  },
  {
   "cell_type": "code",
   "execution_count": 110,
   "id": "73bf7b40",
   "metadata": {},
   "outputs": [
    {
     "name": "stderr",
     "output_type": "stream",
     "text": [
      "C:\\Users\\82107\\AppData\\Local\\Temp\\ipykernel_11724\\850455930.py:3: SettingWithCopyWarning: \n",
      "A value is trying to be set on a copy of a slice from a DataFrame\n",
      "\n",
      "See the caveats in the documentation: https://pandas.pydata.org/pandas-docs/stable/user_guide/indexing.html#returning-a-view-versus-a-copy\n",
      "  unpreprocessed['시도'][i] = '경상북도'\n",
      "C:\\Users\\82107\\AppData\\Local\\Temp\\ipykernel_11724\\850455930.py:4: SettingWithCopyWarning: \n",
      "A value is trying to be set on a copy of a slice from a DataFrame\n",
      "\n",
      "See the caveats in the documentation: https://pandas.pydata.org/pandas-docs/stable/user_guide/indexing.html#returning-a-view-versus-a-copy\n",
      "  unpreprocessed['시군구'][i] = '경산시'\n"
     ]
    }
   ],
   "source": [
    "index = unpreprocessed[unpreprocessed['시도']=='경산시'].index\n",
    "for i in index:\n",
    "    unpreprocessed['시도'][i] = '경상북도'\n",
    "    unpreprocessed['시군구'][i] = '경산시'"
   ]
  },
  {
   "cell_type": "code",
   "execution_count": 111,
   "id": "65b6b985",
   "metadata": {},
   "outputs": [
    {
     "data": {
      "text/html": [
       "<div>\n",
       "<style scoped>\n",
       "    .dataframe tbody tr th:only-of-type {\n",
       "        vertical-align: middle;\n",
       "    }\n",
       "\n",
       "    .dataframe tbody tr th {\n",
       "        vertical-align: top;\n",
       "    }\n",
       "\n",
       "    .dataframe thead th {\n",
       "        text-align: right;\n",
       "    }\n",
       "</style>\n",
       "<table border=\"1\" class=\"dataframe\">\n",
       "  <thead>\n",
       "    <tr style=\"text-align: right;\">\n",
       "      <th></th>\n",
       "      <th>위도</th>\n",
       "      <th>경도</th>\n",
       "      <th>구분</th>\n",
       "      <th>시도</th>\n",
       "      <th>시군구</th>\n",
       "    </tr>\n",
       "  </thead>\n",
       "  <tbody>\n",
       "    <tr>\n",
       "      <th>75904</th>\n",
       "      <td>34.63868</td>\n",
       "      <td>127.776947</td>\n",
       "      <td>신호위반 민원</td>\n",
       "      <td>여수시</td>\n",
       "      <td>죽포리</td>\n",
       "    </tr>\n",
       "  </tbody>\n",
       "</table>\n",
       "</div>"
      ],
      "text/plain": [
       "             위도          경도       구분   시도  시군구\n",
       "75904  34.63868  127.776947  신호위반 민원  여수시  죽포리"
      ]
     },
     "execution_count": 111,
     "metadata": {},
     "output_type": "execute_result"
    }
   ],
   "source": [
    "unpreprocessed[unpreprocessed['시도']=='여수시']"
   ]
  },
  {
   "cell_type": "code",
   "execution_count": 112,
   "id": "be119614",
   "metadata": {},
   "outputs": [
    {
     "name": "stdout",
     "output_type": "stream",
     "text": [
      "['돌산로', '죽포리', '여수시', '전라남도', '대한민국']\n"
     ]
    }
   ],
   "source": [
    "addr_list = []\n",
    "address = geocoding_reverse('34.63868, 127.776947')\n",
    "\n",
    "addr_list = str(address).split(', ')\n",
    "\n",
    "print(addr_list)"
   ]
  },
  {
   "cell_type": "code",
   "execution_count": 113,
   "id": "98fc2fce",
   "metadata": {
    "scrolled": true
   },
   "outputs": [
    {
     "name": "stderr",
     "output_type": "stream",
     "text": [
      "C:\\Users\\82107\\AppData\\Local\\Temp\\ipykernel_11724\\745179017.py:3: SettingWithCopyWarning: \n",
      "A value is trying to be set on a copy of a slice from a DataFrame\n",
      "\n",
      "See the caveats in the documentation: https://pandas.pydata.org/pandas-docs/stable/user_guide/indexing.html#returning-a-view-versus-a-copy\n",
      "  unpreprocessed['시도'][i] = '전라남도'\n",
      "C:\\Users\\82107\\AppData\\Local\\Temp\\ipykernel_11724\\745179017.py:4: SettingWithCopyWarning: \n",
      "A value is trying to be set on a copy of a slice from a DataFrame\n",
      "\n",
      "See the caveats in the documentation: https://pandas.pydata.org/pandas-docs/stable/user_guide/indexing.html#returning-a-view-versus-a-copy\n",
      "  unpreprocessed['시군구'][i] = '여수시'\n"
     ]
    }
   ],
   "source": [
    "index = unpreprocessed[unpreprocessed['시도']=='여수시'].index\n",
    "for i in index:\n",
    "    unpreprocessed['시도'][i] = '전라남도'\n",
    "    unpreprocessed['시군구'][i] = '여수시'"
   ]
  },
  {
   "cell_type": "code",
   "execution_count": 114,
   "id": "925c137f",
   "metadata": {},
   "outputs": [
    {
     "data": {
      "text/html": [
       "<div>\n",
       "<style scoped>\n",
       "    .dataframe tbody tr th:only-of-type {\n",
       "        vertical-align: middle;\n",
       "    }\n",
       "\n",
       "    .dataframe tbody tr th {\n",
       "        vertical-align: top;\n",
       "    }\n",
       "\n",
       "    .dataframe thead th {\n",
       "        text-align: right;\n",
       "    }\n",
       "</style>\n",
       "<table border=\"1\" class=\"dataframe\">\n",
       "  <thead>\n",
       "    <tr style=\"text-align: right;\">\n",
       "      <th></th>\n",
       "      <th>위도</th>\n",
       "      <th>경도</th>\n",
       "      <th>구분</th>\n",
       "      <th>시도</th>\n",
       "      <th>시군구</th>\n",
       "    </tr>\n",
       "  </thead>\n",
       "  <tbody>\n",
       "    <tr>\n",
       "      <th>77732</th>\n",
       "      <td>37.033302</td>\n",
       "      <td>126.763595</td>\n",
       "      <td>신호위반 민원</td>\n",
       "      <td>화성시</td>\n",
       "      <td>매향리</td>\n",
       "    </tr>\n",
       "  </tbody>\n",
       "</table>\n",
       "</div>"
      ],
      "text/plain": [
       "              위도          경도       구분   시도  시군구\n",
       "77732  37.033302  126.763595  신호위반 민원  화성시  매향리"
      ]
     },
     "execution_count": 114,
     "metadata": {},
     "output_type": "execute_result"
    }
   ],
   "source": [
    "unpreprocessed[unpreprocessed['시도']=='화성시']"
   ]
  },
  {
   "cell_type": "code",
   "execution_count": 115,
   "id": "bfd2f7db",
   "metadata": {},
   "outputs": [
    {
     "name": "stdout",
     "output_type": "stream",
     "text": [
      "['기아자동차로', '매향리', '화성시', '경기도', '대한민국']\n"
     ]
    }
   ],
   "source": [
    "addr_list = []\n",
    "address = geocoding_reverse('37.033302, 126.763595')\n",
    "\n",
    "addr_list = str(address).split(', ')\n",
    "\n",
    "print(addr_list)"
   ]
  },
  {
   "cell_type": "code",
   "execution_count": 116,
   "id": "246ce922",
   "metadata": {},
   "outputs": [
    {
     "name": "stderr",
     "output_type": "stream",
     "text": [
      "C:\\Users\\82107\\AppData\\Local\\Temp\\ipykernel_11724\\384184761.py:3: SettingWithCopyWarning: \n",
      "A value is trying to be set on a copy of a slice from a DataFrame\n",
      "\n",
      "See the caveats in the documentation: https://pandas.pydata.org/pandas-docs/stable/user_guide/indexing.html#returning-a-view-versus-a-copy\n",
      "  unpreprocessed['시도'][i] = '경기도'\n",
      "C:\\Users\\82107\\AppData\\Local\\Temp\\ipykernel_11724\\384184761.py:4: SettingWithCopyWarning: \n",
      "A value is trying to be set on a copy of a slice from a DataFrame\n",
      "\n",
      "See the caveats in the documentation: https://pandas.pydata.org/pandas-docs/stable/user_guide/indexing.html#returning-a-view-versus-a-copy\n",
      "  unpreprocessed['시군구'][i] = '화성시'\n"
     ]
    }
   ],
   "source": [
    "index = unpreprocessed[unpreprocessed['시도']=='화성시'].index\n",
    "for i in index:\n",
    "    unpreprocessed['시도'][i] = '경기도'\n",
    "    unpreprocessed['시군구'][i] = '화성시'"
   ]
  },
  {
   "cell_type": "code",
   "execution_count": 117,
   "id": "56e8d300",
   "metadata": {},
   "outputs": [
    {
     "data": {
      "text/html": [
       "<div>\n",
       "<style scoped>\n",
       "    .dataframe tbody tr th:only-of-type {\n",
       "        vertical-align: middle;\n",
       "    }\n",
       "\n",
       "    .dataframe tbody tr th {\n",
       "        vertical-align: top;\n",
       "    }\n",
       "\n",
       "    .dataframe thead th {\n",
       "        text-align: right;\n",
       "    }\n",
       "</style>\n",
       "<table border=\"1\" class=\"dataframe\">\n",
       "  <thead>\n",
       "    <tr style=\"text-align: right;\">\n",
       "      <th></th>\n",
       "      <th>위도</th>\n",
       "      <th>경도</th>\n",
       "      <th>구분</th>\n",
       "      <th>시도</th>\n",
       "      <th>시군구</th>\n",
       "    </tr>\n",
       "  </thead>\n",
       "  <tbody>\n",
       "    <tr>\n",
       "      <th>79374</th>\n",
       "      <td>36.078597</td>\n",
       "      <td>129.396754</td>\n",
       "      <td>신호위반 민원</td>\n",
       "      <td>포항시</td>\n",
       "      <td>북구</td>\n",
       "    </tr>\n",
       "  </tbody>\n",
       "</table>\n",
       "</div>"
      ],
      "text/plain": [
       "              위도          경도       구분   시도 시군구\n",
       "79374  36.078597  129.396754  신호위반 민원  포항시  북구"
      ]
     },
     "execution_count": 117,
     "metadata": {},
     "output_type": "execute_result"
    }
   ],
   "source": [
    "unpreprocessed[unpreprocessed['시도']=='포항시']"
   ]
  },
  {
   "cell_type": "code",
   "execution_count": 118,
   "id": "e9ec3ea8",
   "metadata": {},
   "outputs": [
    {
     "name": "stdout",
     "output_type": "stream",
     "text": [
      "['장량동', '북구', '포항시', '경상북도', '대한민국']\n"
     ]
    }
   ],
   "source": [
    "addr_list = []\n",
    "address = geocoding_reverse('36.078597, 129.396754')\n",
    "\n",
    "addr_list = str(address).split(', ')\n",
    "\n",
    "print(addr_list)"
   ]
  },
  {
   "cell_type": "code",
   "execution_count": 119,
   "id": "ccbc6603",
   "metadata": {
    "scrolled": true
   },
   "outputs": [
    {
     "name": "stderr",
     "output_type": "stream",
     "text": [
      "C:\\Users\\82107\\AppData\\Local\\Temp\\ipykernel_11724\\2647504926.py:3: SettingWithCopyWarning: \n",
      "A value is trying to be set on a copy of a slice from a DataFrame\n",
      "\n",
      "See the caveats in the documentation: https://pandas.pydata.org/pandas-docs/stable/user_guide/indexing.html#returning-a-view-versus-a-copy\n",
      "  unpreprocessed['시도'][i] = '경상북도'\n",
      "C:\\Users\\82107\\AppData\\Local\\Temp\\ipykernel_11724\\2647504926.py:4: SettingWithCopyWarning: \n",
      "A value is trying to be set on a copy of a slice from a DataFrame\n",
      "\n",
      "See the caveats in the documentation: https://pandas.pydata.org/pandas-docs/stable/user_guide/indexing.html#returning-a-view-versus-a-copy\n",
      "  unpreprocessed['시군구'][i] = '포항시'\n"
     ]
    }
   ],
   "source": [
    "index = unpreprocessed[unpreprocessed['시도']=='포항시'].index\n",
    "for i in index:\n",
    "    unpreprocessed['시도'][i] = '경상북도'\n",
    "    unpreprocessed['시군구'][i] = '포항시'"
   ]
  },
  {
   "cell_type": "code",
   "execution_count": 121,
   "id": "4762df56",
   "metadata": {},
   "outputs": [
    {
     "data": {
      "text/plain": [
       "array(['안산시', '동구', '북구', '구리시', '금천구', '화성시', '부천시', '연수구', '창원시', '목포시',\n",
       "       '사하구', '관악구', '유성구', '포항시', '평택시', '오산시', '수원시', '용인시', '울주군',\n",
       "       '시흥시', '연제구', '안양시', '은평구', '광진구', '양주시', '서구', '제주시', '고양시',\n",
       "       '성남시', '동작구', '나주시', '청주시', '보령시', '수성구', '남동구', '경주시', '여수시',\n",
       "       '강남구', '의왕시', '순천시', '대덕구', '아산시', '부산', '광산구', '서귀포시', '김포시',\n",
       "       '중구', '파주시', '안성시', '태안군', '달서구', '광양시', '군산시', '조치원읍', '해운대구',\n",
       "       '담양군', '강서구', '경산시', '수영구', '영등포구', '계양구', '남양주시', '음성군', '서대문구',\n",
       "       '미추홀구', '광명시', '송파구', '동래구', '천안시', '진주시', '용포리', '새롬동', '봉안리',\n",
       "       '전주시', '서초구', '남구', '구미시', '성동구', '부산진구', '김해시', '의정부시', '도봉구',\n",
       "       '강동구', '금정구', '사상구', '상주시', '구로구', '진천군', '서산시', '서울', '속초시',\n",
       "       '안동시', '양양군', '제천시', '창녕군', '김제시', '동대문구', '성북구', '용산구', '양산시',\n",
       "       '광주시', '이천시', '기장군', '옥천군', '하남시', '당진시', '의성군', '춘천시', '함양군',\n",
       "       '마포구', '강릉시', '양평군', '고창군', '노원구', '동해시', '정읍시', '나성동', '영주시',\n",
       "       '부평구', '영천시', '익산시', '순창군', '칠곡군', '밀양시', '대구', '장재리', '사천시',\n",
       "       '충주시', '논산시', '양천구', '영암군', '화순군', '부강면', '거제시', '곡성군', '달성군',\n",
       "       '통영시', '옹진군', '봉화군', '연천군', '중랑구', '다정동', '포천시', '홍성군', '동두천시',\n",
       "       '군포시', '고운동', '도담동', '증평군', '삼척시', '공주시', '고흥군', '안중읍', '아름동',\n",
       "       '여주시', '종로구', '무안군', '한솔동', '청도군', '완주군', '괴산군', '강북구', '완도군',\n",
       "       '부여군', '김천시', '함안군', '홍천군', '강화군', '원주시', '문경시', '예산군', '남원시',\n",
       "       '금산군', '금남면', '청양군', '인천', '태백시', '종촌동', '고성군', '연동면', '철원군',\n",
       "       '전의면', '성주군', '연기리', '거창군', '횡성군', '예천군', '보은군', '영도구', '장성군',\n",
       "       '정선군', 'Bangok-dong', '산울동', '하동군', '과천시', '영광군', '금정동', '고령군',\n",
       "       '가평군', '계룡시', '오전동', '단양군', '호탄리', '산본동', '영동군', '임실군', '부안군',\n",
       "       '보성군', '해남군', '장군면', '평창군', '인제군', '광주', '누리동', '산청군', '서천군',\n",
       "       '의령군'], dtype=object)"
      ]
     },
     "execution_count": 121,
     "metadata": {},
     "output_type": "execute_result"
    }
   ],
   "source": [
    "unpreprocessed['시군구'].unique()"
   ]
  },
  {
   "cell_type": "code",
   "execution_count": 122,
   "id": "1a01fd25",
   "metadata": {},
   "outputs": [
    {
     "data": {
      "text/html": [
       "<div>\n",
       "<style scoped>\n",
       "    .dataframe tbody tr th:only-of-type {\n",
       "        vertical-align: middle;\n",
       "    }\n",
       "\n",
       "    .dataframe tbody tr th {\n",
       "        vertical-align: top;\n",
       "    }\n",
       "\n",
       "    .dataframe thead th {\n",
       "        text-align: right;\n",
       "    }\n",
       "</style>\n",
       "<table border=\"1\" class=\"dataframe\">\n",
       "  <thead>\n",
       "    <tr style=\"text-align: right;\">\n",
       "      <th></th>\n",
       "      <th>위도</th>\n",
       "      <th>경도</th>\n",
       "      <th>구분</th>\n",
       "      <th>시도</th>\n",
       "      <th>시군구</th>\n",
       "    </tr>\n",
       "  </thead>\n",
       "  <tbody>\n",
       "    <tr>\n",
       "      <th>60067</th>\n",
       "      <td>35.087319</td>\n",
       "      <td>128.831410</td>\n",
       "      <td>신호위반 민원</td>\n",
       "      <td>경상남도</td>\n",
       "      <td>부산</td>\n",
       "    </tr>\n",
       "    <tr>\n",
       "      <th>62221</th>\n",
       "      <td>35.298256</td>\n",
       "      <td>129.082981</td>\n",
       "      <td>신호위반 민원</td>\n",
       "      <td>경상남도</td>\n",
       "      <td>부산</td>\n",
       "    </tr>\n",
       "    <tr>\n",
       "      <th>62355</th>\n",
       "      <td>35.213298</td>\n",
       "      <td>128.987440</td>\n",
       "      <td>신호위반 민원</td>\n",
       "      <td>경상남도</td>\n",
       "      <td>부산</td>\n",
       "    </tr>\n",
       "    <tr>\n",
       "      <th>63584</th>\n",
       "      <td>35.214529</td>\n",
       "      <td>128.988375</td>\n",
       "      <td>신호위반 민원</td>\n",
       "      <td>경상남도</td>\n",
       "      <td>부산</td>\n",
       "    </tr>\n",
       "    <tr>\n",
       "      <th>63814</th>\n",
       "      <td>35.293765</td>\n",
       "      <td>129.087340</td>\n",
       "      <td>신호위반 민원</td>\n",
       "      <td>경상남도</td>\n",
       "      <td>부산</td>\n",
       "    </tr>\n",
       "    <tr>\n",
       "      <th>64235</th>\n",
       "      <td>35.083177</td>\n",
       "      <td>128.824087</td>\n",
       "      <td>신호위반 민원</td>\n",
       "      <td>경상남도</td>\n",
       "      <td>부산</td>\n",
       "    </tr>\n",
       "    <tr>\n",
       "      <th>64382</th>\n",
       "      <td>35.100276</td>\n",
       "      <td>128.824495</td>\n",
       "      <td>신호위반 민원</td>\n",
       "      <td>경상남도</td>\n",
       "      <td>부산</td>\n",
       "    </tr>\n",
       "    <tr>\n",
       "      <th>64982</th>\n",
       "      <td>35.086063</td>\n",
       "      <td>128.824692</td>\n",
       "      <td>신호위반 민원</td>\n",
       "      <td>경상남도</td>\n",
       "      <td>부산</td>\n",
       "    </tr>\n",
       "    <tr>\n",
       "      <th>65218</th>\n",
       "      <td>35.214392</td>\n",
       "      <td>128.988313</td>\n",
       "      <td>신호위반 민원</td>\n",
       "      <td>경상남도</td>\n",
       "      <td>부산</td>\n",
       "    </tr>\n",
       "    <tr>\n",
       "      <th>65986</th>\n",
       "      <td>35.087235</td>\n",
       "      <td>128.831386</td>\n",
       "      <td>신호위반 민원</td>\n",
       "      <td>경상남도</td>\n",
       "      <td>부산</td>\n",
       "    </tr>\n",
       "    <tr>\n",
       "      <th>71469</th>\n",
       "      <td>35.086058</td>\n",
       "      <td>128.824261</td>\n",
       "      <td>신호위반 민원</td>\n",
       "      <td>경상남도</td>\n",
       "      <td>부산</td>\n",
       "    </tr>\n",
       "    <tr>\n",
       "      <th>74503</th>\n",
       "      <td>35.214549</td>\n",
       "      <td>128.988514</td>\n",
       "      <td>신호위반 민원</td>\n",
       "      <td>경상남도</td>\n",
       "      <td>부산</td>\n",
       "    </tr>\n",
       "    <tr>\n",
       "      <th>74984</th>\n",
       "      <td>35.217655</td>\n",
       "      <td>128.990226</td>\n",
       "      <td>신호위반 민원</td>\n",
       "      <td>경상남도</td>\n",
       "      <td>부산</td>\n",
       "    </tr>\n",
       "    <tr>\n",
       "      <th>74985</th>\n",
       "      <td>35.217670</td>\n",
       "      <td>128.990246</td>\n",
       "      <td>신호위반 민원</td>\n",
       "      <td>경상남도</td>\n",
       "      <td>부산</td>\n",
       "    </tr>\n",
       "    <tr>\n",
       "      <th>75276</th>\n",
       "      <td>35.086011</td>\n",
       "      <td>128.824067</td>\n",
       "      <td>신호위반 민원</td>\n",
       "      <td>경상남도</td>\n",
       "      <td>부산</td>\n",
       "    </tr>\n",
       "    <tr>\n",
       "      <th>77617</th>\n",
       "      <td>35.214230</td>\n",
       "      <td>128.988309</td>\n",
       "      <td>신호위반 민원</td>\n",
       "      <td>경상남도</td>\n",
       "      <td>부산</td>\n",
       "    </tr>\n",
       "  </tbody>\n",
       "</table>\n",
       "</div>"
      ],
      "text/plain": [
       "              위도          경도       구분    시도 시군구\n",
       "60067  35.087319  128.831410  신호위반 민원  경상남도  부산\n",
       "62221  35.298256  129.082981  신호위반 민원  경상남도  부산\n",
       "62355  35.213298  128.987440  신호위반 민원  경상남도  부산\n",
       "63584  35.214529  128.988375  신호위반 민원  경상남도  부산\n",
       "63814  35.293765  129.087340  신호위반 민원  경상남도  부산\n",
       "64235  35.083177  128.824087  신호위반 민원  경상남도  부산\n",
       "64382  35.100276  128.824495  신호위반 민원  경상남도  부산\n",
       "64982  35.086063  128.824692  신호위반 민원  경상남도  부산\n",
       "65218  35.214392  128.988313  신호위반 민원  경상남도  부산\n",
       "65986  35.087235  128.831386  신호위반 민원  경상남도  부산\n",
       "71469  35.086058  128.824261  신호위반 민원  경상남도  부산\n",
       "74503  35.214549  128.988514  신호위반 민원  경상남도  부산\n",
       "74984  35.217655  128.990226  신호위반 민원  경상남도  부산\n",
       "74985  35.217670  128.990246  신호위반 민원  경상남도  부산\n",
       "75276  35.086011  128.824067  신호위반 민원  경상남도  부산\n",
       "77617  35.214230  128.988309  신호위반 민원  경상남도  부산"
      ]
     },
     "execution_count": 122,
     "metadata": {},
     "output_type": "execute_result"
    }
   ],
   "source": [
    "unpreprocessed[unpreprocessed['시군구']=='부산']"
   ]
  },
  {
   "cell_type": "code",
   "execution_count": 133,
   "id": "d24b316b",
   "metadata": {},
   "outputs": [
    {
     "name": "stdout",
     "output_type": "stream",
     "text": [
      "['공항로', '대저1동', '강서구', '부산', '경상남도', '46703', '대한민국']\n"
     ]
    }
   ],
   "source": [
    "addr_list = []\n",
    "address = geocoding_reverse('35.214230\t128.988309')\n",
    "\n",
    "addr_list = str(address).split(', ')\n",
    "\n",
    "print(addr_list)"
   ]
  },
  {
   "cell_type": "code",
   "execution_count": 134,
   "id": "9b2df9d8",
   "metadata": {},
   "outputs": [
    {
     "name": "stderr",
     "output_type": "stream",
     "text": [
      "C:\\Users\\82107\\AppData\\Local\\Temp\\ipykernel_11724\\1707283076.py:3: SettingWithCopyWarning: \n",
      "A value is trying to be set on a copy of a slice from a DataFrame\n",
      "\n",
      "See the caveats in the documentation: https://pandas.pydata.org/pandas-docs/stable/user_guide/indexing.html#returning-a-view-versus-a-copy\n",
      "  unpreprocessed['시도'][i] = '부산'\n",
      "C:\\Users\\82107\\AppData\\Local\\Temp\\ipykernel_11724\\1707283076.py:4: SettingWithCopyWarning: \n",
      "A value is trying to be set on a copy of a slice from a DataFrame\n",
      "\n",
      "See the caveats in the documentation: https://pandas.pydata.org/pandas-docs/stable/user_guide/indexing.html#returning-a-view-versus-a-copy\n",
      "  unpreprocessed['시군구'][i] = '강서구'\n"
     ]
    }
   ],
   "source": [
    "index = unpreprocessed[unpreprocessed['시군구']=='부산'].index\n",
    "for i in index:\n",
    "    unpreprocessed['시도'][i] = '부산'\n",
    "    unpreprocessed['시군구'][i] = '강서구'"
   ]
  },
  {
   "cell_type": "code",
   "execution_count": 155,
   "id": "31e22a7f",
   "metadata": {
    "scrolled": true
   },
   "outputs": [
    {
     "data": {
      "text/html": [
       "<div>\n",
       "<style scoped>\n",
       "    .dataframe tbody tr th:only-of-type {\n",
       "        vertical-align: middle;\n",
       "    }\n",
       "\n",
       "    .dataframe tbody tr th {\n",
       "        vertical-align: top;\n",
       "    }\n",
       "\n",
       "    .dataframe thead th {\n",
       "        text-align: right;\n",
       "    }\n",
       "</style>\n",
       "<table border=\"1\" class=\"dataframe\">\n",
       "  <thead>\n",
       "    <tr style=\"text-align: right;\">\n",
       "      <th></th>\n",
       "      <th>위도</th>\n",
       "      <th>경도</th>\n",
       "      <th>구분</th>\n",
       "      <th>시도</th>\n",
       "      <th>시군구</th>\n",
       "    </tr>\n",
       "  </thead>\n",
       "  <tbody>\n",
       "    <tr>\n",
       "      <th>62962</th>\n",
       "      <td>37.619474</td>\n",
       "      <td>126.695065</td>\n",
       "      <td>신호위반 민원</td>\n",
       "      <td>경기도</td>\n",
       "      <td>인천</td>\n",
       "    </tr>\n",
       "    <tr>\n",
       "      <th>64597</th>\n",
       "      <td>37.487708</td>\n",
       "      <td>126.740358</td>\n",
       "      <td>신호위반 민원</td>\n",
       "      <td>경기도</td>\n",
       "      <td>인천</td>\n",
       "    </tr>\n",
       "    <tr>\n",
       "      <th>65500</th>\n",
       "      <td>37.593770</td>\n",
       "      <td>126.717372</td>\n",
       "      <td>신호위반 민원</td>\n",
       "      <td>경기도</td>\n",
       "      <td>인천</td>\n",
       "    </tr>\n",
       "    <tr>\n",
       "      <th>65823</th>\n",
       "      <td>37.508530</td>\n",
       "      <td>126.734402</td>\n",
       "      <td>신호위반 민원</td>\n",
       "      <td>경기도</td>\n",
       "      <td>인천</td>\n",
       "    </tr>\n",
       "    <tr>\n",
       "      <th>65840</th>\n",
       "      <td>37.510429</td>\n",
       "      <td>126.743641</td>\n",
       "      <td>신호위반 민원</td>\n",
       "      <td>경기도</td>\n",
       "      <td>인천</td>\n",
       "    </tr>\n",
       "    <tr>\n",
       "      <th>67376</th>\n",
       "      <td>37.589558</td>\n",
       "      <td>126.718491</td>\n",
       "      <td>신호위반 민원</td>\n",
       "      <td>경기도</td>\n",
       "      <td>인천</td>\n",
       "    </tr>\n",
       "    <tr>\n",
       "      <th>68741</th>\n",
       "      <td>37.508562</td>\n",
       "      <td>126.736403</td>\n",
       "      <td>신호위반 민원</td>\n",
       "      <td>경기도</td>\n",
       "      <td>인천</td>\n",
       "    </tr>\n",
       "    <tr>\n",
       "      <th>73070</th>\n",
       "      <td>37.491186</td>\n",
       "      <td>126.740583</td>\n",
       "      <td>신호위반 민원</td>\n",
       "      <td>경기도</td>\n",
       "      <td>인천</td>\n",
       "    </tr>\n",
       "    <tr>\n",
       "      <th>74841</th>\n",
       "      <td>37.232913</td>\n",
       "      <td>126.537225</td>\n",
       "      <td>신호위반 민원</td>\n",
       "      <td>경기도</td>\n",
       "      <td>인천</td>\n",
       "    </tr>\n",
       "    <tr>\n",
       "      <th>75103</th>\n",
       "      <td>37.592327</td>\n",
       "      <td>126.713570</td>\n",
       "      <td>신호위반 민원</td>\n",
       "      <td>경기도</td>\n",
       "      <td>인천</td>\n",
       "    </tr>\n",
       "    <tr>\n",
       "      <th>76537</th>\n",
       "      <td>37.619429</td>\n",
       "      <td>126.695111</td>\n",
       "      <td>신호위반 민원</td>\n",
       "      <td>경기도</td>\n",
       "      <td>인천</td>\n",
       "    </tr>\n",
       "    <tr>\n",
       "      <th>77741</th>\n",
       "      <td>37.589568</td>\n",
       "      <td>126.718868</td>\n",
       "      <td>신호위반 민원</td>\n",
       "      <td>경기도</td>\n",
       "      <td>인천</td>\n",
       "    </tr>\n",
       "  </tbody>\n",
       "</table>\n",
       "</div>"
      ],
      "text/plain": [
       "              위도          경도       구분   시도 시군구\n",
       "62962  37.619474  126.695065  신호위반 민원  경기도  인천\n",
       "64597  37.487708  126.740358  신호위반 민원  경기도  인천\n",
       "65500  37.593770  126.717372  신호위반 민원  경기도  인천\n",
       "65823  37.508530  126.734402  신호위반 민원  경기도  인천\n",
       "65840  37.510429  126.743641  신호위반 민원  경기도  인천\n",
       "67376  37.589558  126.718491  신호위반 민원  경기도  인천\n",
       "68741  37.508562  126.736403  신호위반 민원  경기도  인천\n",
       "73070  37.491186  126.740583  신호위반 민원  경기도  인천\n",
       "74841  37.232913  126.537225  신호위반 민원  경기도  인천\n",
       "75103  37.592327  126.713570  신호위반 민원  경기도  인천\n",
       "76537  37.619429  126.695111  신호위반 민원  경기도  인천\n",
       "77741  37.589568  126.718868  신호위반 민원  경기도  인천"
      ]
     },
     "execution_count": 155,
     "metadata": {},
     "output_type": "execute_result"
    }
   ],
   "source": [
    "unpreprocessed[unpreprocessed['시군구']=='인천']"
   ]
  },
  {
   "cell_type": "code",
   "execution_count": 173,
   "id": "a4c842d4",
   "metadata": {},
   "outputs": [
    {
     "name": "stdout",
     "output_type": "stream",
     "text": [
      "['701동', '27', '체육관로', '삼산동', '부평구', '인천', '경기도', '14505', '대한민국']\n"
     ]
    }
   ],
   "source": [
    "addr_list = []\n",
    "address = geocoding_reverse('37.508530\t126.734402')\n",
    "\n",
    "addr_list = str(address).split(', ')\n",
    "\n",
    "print(addr_list)"
   ]
  },
  {
   "cell_type": "code",
   "execution_count": 172,
   "id": "1d03da2f",
   "metadata": {},
   "outputs": [
    {
     "name": "stderr",
     "output_type": "stream",
     "text": [
      "C:\\Users\\82107\\AppData\\Local\\Temp\\ipykernel_11724\\3051968596.py:1: SettingWithCopyWarning: \n",
      "A value is trying to be set on a copy of a slice from a DataFrame\n",
      "\n",
      "See the caveats in the documentation: https://pandas.pydata.org/pandas-docs/stable/user_guide/indexing.html#returning-a-view-versus-a-copy\n",
      "  unpreprocessed['시도'][75103] = '인천'\n",
      "C:\\Users\\82107\\AppData\\Local\\Temp\\ipykernel_11724\\3051968596.py:2: SettingWithCopyWarning: \n",
      "A value is trying to be set on a copy of a slice from a DataFrame\n",
      "\n",
      "See the caveats in the documentation: https://pandas.pydata.org/pandas-docs/stable/user_guide/indexing.html#returning-a-view-versus-a-copy\n",
      "  unpreprocessed['시군구'][75103] = '서구'\n",
      "C:\\Users\\82107\\AppData\\Local\\Temp\\ipykernel_11724\\3051968596.py:3: SettingWithCopyWarning: \n",
      "A value is trying to be set on a copy of a slice from a DataFrame\n",
      "\n",
      "See the caveats in the documentation: https://pandas.pydata.org/pandas-docs/stable/user_guide/indexing.html#returning-a-view-versus-a-copy\n",
      "  unpreprocessed['시도'][76537] = '인천'\n",
      "C:\\Users\\82107\\AppData\\Local\\Temp\\ipykernel_11724\\3051968596.py:4: SettingWithCopyWarning: \n",
      "A value is trying to be set on a copy of a slice from a DataFrame\n",
      "\n",
      "See the caveats in the documentation: https://pandas.pydata.org/pandas-docs/stable/user_guide/indexing.html#returning-a-view-versus-a-copy\n",
      "  unpreprocessed['시군구'][76537] = '서구'\n",
      "C:\\Users\\82107\\AppData\\Local\\Temp\\ipykernel_11724\\3051968596.py:5: SettingWithCopyWarning: \n",
      "A value is trying to be set on a copy of a slice from a DataFrame\n",
      "\n",
      "See the caveats in the documentation: https://pandas.pydata.org/pandas-docs/stable/user_guide/indexing.html#returning-a-view-versus-a-copy\n",
      "  unpreprocessed['시도'][77741] = '인천'\n",
      "C:\\Users\\82107\\AppData\\Local\\Temp\\ipykernel_11724\\3051968596.py:6: SettingWithCopyWarning: \n",
      "A value is trying to be set on a copy of a slice from a DataFrame\n",
      "\n",
      "See the caveats in the documentation: https://pandas.pydata.org/pandas-docs/stable/user_guide/indexing.html#returning-a-view-versus-a-copy\n",
      "  unpreprocessed['시군구'][77741] = '서구'\n"
     ]
    }
   ],
   "source": [
    "unpreprocessed['시도'][75103] = '인천'\n",
    "unpreprocessed['시군구'][75103] = '서구'\n",
    "unpreprocessed['시도'][76537] = '인천'\n",
    "unpreprocessed['시군구'][76537] = '서구'\n",
    "unpreprocessed['시도'][77741] = '인천'\n",
    "unpreprocessed['시군구'][77741] = '서구'"
   ]
  },
  {
   "cell_type": "code",
   "execution_count": 174,
   "id": "61c45ce6",
   "metadata": {
    "scrolled": true
   },
   "outputs": [
    {
     "name": "stderr",
     "output_type": "stream",
     "text": [
      "C:\\Users\\82107\\AppData\\Local\\Temp\\ipykernel_11724\\3719111121.py:3: SettingWithCopyWarning: \n",
      "A value is trying to be set on a copy of a slice from a DataFrame\n",
      "\n",
      "See the caveats in the documentation: https://pandas.pydata.org/pandas-docs/stable/user_guide/indexing.html#returning-a-view-versus-a-copy\n",
      "  unpreprocessed['시도'][i] = '인천'\n",
      "C:\\Users\\82107\\AppData\\Local\\Temp\\ipykernel_11724\\3719111121.py:4: SettingWithCopyWarning: \n",
      "A value is trying to be set on a copy of a slice from a DataFrame\n",
      "\n",
      "See the caveats in the documentation: https://pandas.pydata.org/pandas-docs/stable/user_guide/indexing.html#returning-a-view-versus-a-copy\n",
      "  unpreprocessed['시군구'][i] = '부평구'\n"
     ]
    }
   ],
   "source": [
    "index = unpreprocessed[unpreprocessed['시군구']=='인천'].index\n",
    "for i in index:\n",
    "    unpreprocessed['시도'][i] = '인천'\n",
    "    unpreprocessed['시군구'][i] = '부평구'"
   ]
  },
  {
   "cell_type": "code",
   "execution_count": 180,
   "id": "c017c14b",
   "metadata": {
    "scrolled": true
   },
   "outputs": [
    {
     "data": {
      "text/html": [
       "<div>\n",
       "<style scoped>\n",
       "    .dataframe tbody tr th:only-of-type {\n",
       "        vertical-align: middle;\n",
       "    }\n",
       "\n",
       "    .dataframe tbody tr th {\n",
       "        vertical-align: top;\n",
       "    }\n",
       "\n",
       "    .dataframe thead th {\n",
       "        text-align: right;\n",
       "    }\n",
       "</style>\n",
       "<table border=\"1\" class=\"dataframe\">\n",
       "  <thead>\n",
       "    <tr style=\"text-align: right;\">\n",
       "      <th></th>\n",
       "      <th>위도</th>\n",
       "      <th>경도</th>\n",
       "      <th>구분</th>\n",
       "      <th>시도</th>\n",
       "      <th>시군구</th>\n",
       "    </tr>\n",
       "  </thead>\n",
       "  <tbody>\n",
       "    <tr>\n",
       "      <th>65775</th>\n",
       "      <td>37.354262</td>\n",
       "      <td>126.932873</td>\n",
       "      <td>신호위반 민원</td>\n",
       "      <td>경기도</td>\n",
       "      <td>금정동</td>\n",
       "    </tr>\n",
       "    <tr>\n",
       "      <th>65776</th>\n",
       "      <td>37.354128</td>\n",
       "      <td>126.932975</td>\n",
       "      <td>신호위반 민원</td>\n",
       "      <td>경기도</td>\n",
       "      <td>금정동</td>\n",
       "    </tr>\n",
       "    <tr>\n",
       "      <th>76413</th>\n",
       "      <td>37.351982</td>\n",
       "      <td>126.930604</td>\n",
       "      <td>신호위반 민원</td>\n",
       "      <td>경기도</td>\n",
       "      <td>금정동</td>\n",
       "    </tr>\n",
       "  </tbody>\n",
       "</table>\n",
       "</div>"
      ],
      "text/plain": [
       "              위도          경도       구분   시도  시군구\n",
       "65775  37.354262  126.932873  신호위반 민원  경기도  금정동\n",
       "65776  37.354128  126.932975  신호위반 민원  경기도  금정동\n",
       "76413  37.351982  126.930604  신호위반 민원  경기도  금정동"
      ]
     },
     "execution_count": 180,
     "metadata": {},
     "output_type": "execute_result"
    }
   ],
   "source": [
    "unpreprocessed[unpreprocessed['시군구']=='금정동']"
   ]
  },
  {
   "cell_type": "code",
   "execution_count": 181,
   "id": "48ba0a09",
   "metadata": {
    "scrolled": true
   },
   "outputs": [
    {
     "name": "stdout",
     "output_type": "stream",
     "text": [
      "['군포산본 율곡아파트', '오금동', '금정동', '경기도', '15864', '대한민국']\n"
     ]
    }
   ],
   "source": [
    "addr_list = []\n",
    "address = geocoding_reverse('37.354262\t126.932873')\n",
    "\n",
    "addr_list = str(address).split(', ')\n",
    "\n",
    "print(addr_list)"
   ]
  },
  {
   "cell_type": "code",
   "execution_count": 182,
   "id": "1468a1ba",
   "metadata": {},
   "outputs": [
    {
     "name": "stderr",
     "output_type": "stream",
     "text": [
      "C:\\Users\\82107\\AppData\\Local\\Temp\\ipykernel_11724\\2836909892.py:3: SettingWithCopyWarning: \n",
      "A value is trying to be set on a copy of a slice from a DataFrame\n",
      "\n",
      "See the caveats in the documentation: https://pandas.pydata.org/pandas-docs/stable/user_guide/indexing.html#returning-a-view-versus-a-copy\n",
      "  unpreprocessed['시도'][i] = '경기도'\n",
      "C:\\Users\\82107\\AppData\\Local\\Temp\\ipykernel_11724\\2836909892.py:4: SettingWithCopyWarning: \n",
      "A value is trying to be set on a copy of a slice from a DataFrame\n",
      "\n",
      "See the caveats in the documentation: https://pandas.pydata.org/pandas-docs/stable/user_guide/indexing.html#returning-a-view-versus-a-copy\n",
      "  unpreprocessed['시군구'][i] = '군포시'\n"
     ]
    }
   ],
   "source": [
    "index = unpreprocessed[unpreprocessed['시군구']=='금정동'].index\n",
    "for i in index:\n",
    "    unpreprocessed['시도'][i] = '경기도'\n",
    "    unpreprocessed['시군구'][i] = '군포시'"
   ]
  },
  {
   "cell_type": "code",
   "execution_count": 183,
   "id": "11929fe8",
   "metadata": {},
   "outputs": [
    {
     "data": {
      "text/html": [
       "<div>\n",
       "<style scoped>\n",
       "    .dataframe tbody tr th:only-of-type {\n",
       "        vertical-align: middle;\n",
       "    }\n",
       "\n",
       "    .dataframe tbody tr th {\n",
       "        vertical-align: top;\n",
       "    }\n",
       "\n",
       "    .dataframe thead th {\n",
       "        text-align: right;\n",
       "    }\n",
       "</style>\n",
       "<table border=\"1\" class=\"dataframe\">\n",
       "  <thead>\n",
       "    <tr style=\"text-align: right;\">\n",
       "      <th></th>\n",
       "      <th>위도</th>\n",
       "      <th>경도</th>\n",
       "      <th>구분</th>\n",
       "      <th>시도</th>\n",
       "      <th>시군구</th>\n",
       "    </tr>\n",
       "  </thead>\n",
       "  <tbody>\n",
       "    <tr>\n",
       "      <th>67474</th>\n",
       "      <td>37.350052</td>\n",
       "      <td>126.976143</td>\n",
       "      <td>신호위반 민원</td>\n",
       "      <td>경기도</td>\n",
       "      <td>오전동</td>\n",
       "    </tr>\n",
       "  </tbody>\n",
       "</table>\n",
       "</div>"
      ],
      "text/plain": [
       "              위도          경도       구분   시도  시군구\n",
       "67474  37.350052  126.976143  신호위반 민원  경기도  오전동"
      ]
     },
     "execution_count": 183,
     "metadata": {},
     "output_type": "execute_result"
    }
   ],
   "source": [
    "unpreprocessed[unpreprocessed['시군구']=='오전동']"
   ]
  },
  {
   "cell_type": "code",
   "execution_count": 184,
   "id": "1d0a8909",
   "metadata": {},
   "outputs": [
    {
     "name": "stdout",
     "output_type": "stream",
     "text": [
      "['오전천로', '고천동', '오전동', '경기도', '16061', '대한민국']\n"
     ]
    }
   ],
   "source": [
    "addr_list = []\n",
    "address = geocoding_reverse('37.350052\t126.976143')\n",
    "\n",
    "addr_list = str(address).split(', ')\n",
    "\n",
    "print(addr_list)"
   ]
  },
  {
   "cell_type": "code",
   "execution_count": 185,
   "id": "4ad8cac8",
   "metadata": {},
   "outputs": [
    {
     "name": "stderr",
     "output_type": "stream",
     "text": [
      "C:\\Users\\82107\\AppData\\Local\\Temp\\ipykernel_11724\\3482540114.py:3: SettingWithCopyWarning: \n",
      "A value is trying to be set on a copy of a slice from a DataFrame\n",
      "\n",
      "See the caveats in the documentation: https://pandas.pydata.org/pandas-docs/stable/user_guide/indexing.html#returning-a-view-versus-a-copy\n",
      "  unpreprocessed['시도'][i] = '경기도'\n",
      "C:\\Users\\82107\\AppData\\Local\\Temp\\ipykernel_11724\\3482540114.py:4: SettingWithCopyWarning: \n",
      "A value is trying to be set on a copy of a slice from a DataFrame\n",
      "\n",
      "See the caveats in the documentation: https://pandas.pydata.org/pandas-docs/stable/user_guide/indexing.html#returning-a-view-versus-a-copy\n",
      "  unpreprocessed['시군구'][i] = '의왕시'\n"
     ]
    }
   ],
   "source": [
    "index = unpreprocessed[unpreprocessed['시군구']=='오전동'].index\n",
    "for i in index:\n",
    "    unpreprocessed['시도'][i] = '경기도'\n",
    "    unpreprocessed['시군구'][i] = '의왕시'"
   ]
  },
  {
   "cell_type": "code",
   "execution_count": 190,
   "id": "10e5339d",
   "metadata": {},
   "outputs": [
    {
     "data": {
      "text/html": [
       "<div>\n",
       "<style scoped>\n",
       "    .dataframe tbody tr th:only-of-type {\n",
       "        vertical-align: middle;\n",
       "    }\n",
       "\n",
       "    .dataframe tbody tr th {\n",
       "        vertical-align: top;\n",
       "    }\n",
       "\n",
       "    .dataframe thead th {\n",
       "        text-align: right;\n",
       "    }\n",
       "</style>\n",
       "<table border=\"1\" class=\"dataframe\">\n",
       "  <thead>\n",
       "    <tr style=\"text-align: right;\">\n",
       "      <th></th>\n",
       "      <th>위도</th>\n",
       "      <th>경도</th>\n",
       "      <th>구분</th>\n",
       "      <th>시도</th>\n",
       "      <th>시군구</th>\n",
       "    </tr>\n",
       "  </thead>\n",
       "  <tbody>\n",
       "    <tr>\n",
       "      <th>61370</th>\n",
       "      <td>37.002782</td>\n",
       "      <td>126.959363</td>\n",
       "      <td>신호위반 민원</td>\n",
       "      <td>경기도</td>\n",
       "      <td>안중읍</td>\n",
       "    </tr>\n",
       "    <tr>\n",
       "      <th>67653</th>\n",
       "      <td>36.987596</td>\n",
       "      <td>126.900400</td>\n",
       "      <td>신호위반 민원</td>\n",
       "      <td>경기도</td>\n",
       "      <td>안중읍</td>\n",
       "    </tr>\n",
       "    <tr>\n",
       "      <th>78065</th>\n",
       "      <td>36.979764</td>\n",
       "      <td>126.938861</td>\n",
       "      <td>신호위반 민원</td>\n",
       "      <td>경기도</td>\n",
       "      <td>안중읍</td>\n",
       "    </tr>\n",
       "  </tbody>\n",
       "</table>\n",
       "</div>"
      ],
      "text/plain": [
       "              위도          경도       구분   시도  시군구\n",
       "61370  37.002782  126.959363  신호위반 민원  경기도  안중읍\n",
       "67653  36.987596  126.900400  신호위반 민원  경기도  안중읍\n",
       "78065  36.979764  126.938861  신호위반 민원  경기도  안중읍"
      ]
     },
     "execution_count": 190,
     "metadata": {},
     "output_type": "execute_result"
    }
   ],
   "source": [
    "unpreprocessed[unpreprocessed['시군구']=='안중읍']"
   ]
  },
  {
   "cell_type": "code",
   "execution_count": 191,
   "id": "bd075b95",
   "metadata": {},
   "outputs": [
    {
     "name": "stdout",
     "output_type": "stream",
     "text": [
      "['서동대로', '죽리', '안중읍', '경기도', '17818', '대한민국']\n"
     ]
    }
   ],
   "source": [
    "addr_list = []\n",
    "address = geocoding_reverse('37.002782\t126.959363')\n",
    "\n",
    "addr_list = str(address).split(', ')\n",
    "\n",
    "print(addr_list)"
   ]
  },
  {
   "cell_type": "code",
   "execution_count": 192,
   "id": "68d0bcdb",
   "metadata": {},
   "outputs": [
    {
     "name": "stderr",
     "output_type": "stream",
     "text": [
      "C:\\Users\\82107\\AppData\\Local\\Temp\\ipykernel_11724\\16460997.py:3: SettingWithCopyWarning: \n",
      "A value is trying to be set on a copy of a slice from a DataFrame\n",
      "\n",
      "See the caveats in the documentation: https://pandas.pydata.org/pandas-docs/stable/user_guide/indexing.html#returning-a-view-versus-a-copy\n",
      "  unpreprocessed['시도'][i] = '경기도'\n",
      "C:\\Users\\82107\\AppData\\Local\\Temp\\ipykernel_11724\\16460997.py:4: SettingWithCopyWarning: \n",
      "A value is trying to be set on a copy of a slice from a DataFrame\n",
      "\n",
      "See the caveats in the documentation: https://pandas.pydata.org/pandas-docs/stable/user_guide/indexing.html#returning-a-view-versus-a-copy\n",
      "  unpreprocessed['시군구'][i] = '평택시'\n"
     ]
    }
   ],
   "source": [
    "index = unpreprocessed[unpreprocessed['시군구']=='안중읍'].index\n",
    "for i in index:\n",
    "    unpreprocessed['시도'][i] = '경기도'\n",
    "    unpreprocessed['시군구'][i] = '평택시'"
   ]
  },
  {
   "cell_type": "code",
   "execution_count": 194,
   "id": "f247c3bd",
   "metadata": {},
   "outputs": [
    {
     "data": {
      "text/html": [
       "<div>\n",
       "<style scoped>\n",
       "    .dataframe tbody tr th:only-of-type {\n",
       "        vertical-align: middle;\n",
       "    }\n",
       "\n",
       "    .dataframe tbody tr th {\n",
       "        vertical-align: top;\n",
       "    }\n",
       "\n",
       "    .dataframe thead th {\n",
       "        text-align: right;\n",
       "    }\n",
       "</style>\n",
       "<table border=\"1\" class=\"dataframe\">\n",
       "  <thead>\n",
       "    <tr style=\"text-align: right;\">\n",
       "      <th></th>\n",
       "      <th>위도</th>\n",
       "      <th>경도</th>\n",
       "      <th>구분</th>\n",
       "      <th>시도</th>\n",
       "      <th>시군구</th>\n",
       "    </tr>\n",
       "  </thead>\n",
       "  <tbody>\n",
       "    <tr>\n",
       "      <th>68262</th>\n",
       "      <td>37.358159</td>\n",
       "      <td>126.924192</td>\n",
       "      <td>신호위반 민원</td>\n",
       "      <td>경기도</td>\n",
       "      <td>산본동</td>\n",
       "    </tr>\n",
       "    <tr>\n",
       "      <th>69055</th>\n",
       "      <td>37.365852</td>\n",
       "      <td>126.928759</td>\n",
       "      <td>신호위반 민원</td>\n",
       "      <td>경기도</td>\n",
       "      <td>산본동</td>\n",
       "    </tr>\n",
       "    <tr>\n",
       "      <th>73158</th>\n",
       "      <td>37.357772</td>\n",
       "      <td>126.924150</td>\n",
       "      <td>신호위반 민원</td>\n",
       "      <td>경기도</td>\n",
       "      <td>산본동</td>\n",
       "    </tr>\n",
       "    <tr>\n",
       "      <th>75630</th>\n",
       "      <td>37.356987</td>\n",
       "      <td>126.931627</td>\n",
       "      <td>신호위반 민원</td>\n",
       "      <td>경기도</td>\n",
       "      <td>산본동</td>\n",
       "    </tr>\n",
       "    <tr>\n",
       "      <th>75844</th>\n",
       "      <td>37.363686</td>\n",
       "      <td>126.930610</td>\n",
       "      <td>신호위반 민원</td>\n",
       "      <td>경기도</td>\n",
       "      <td>산본동</td>\n",
       "    </tr>\n",
       "    <tr>\n",
       "      <th>76260</th>\n",
       "      <td>37.357590</td>\n",
       "      <td>126.931374</td>\n",
       "      <td>신호위반 민원</td>\n",
       "      <td>경기도</td>\n",
       "      <td>산본동</td>\n",
       "    </tr>\n",
       "  </tbody>\n",
       "</table>\n",
       "</div>"
      ],
      "text/plain": [
       "              위도          경도       구분   시도  시군구\n",
       "68262  37.358159  126.924192  신호위반 민원  경기도  산본동\n",
       "69055  37.365852  126.928759  신호위반 민원  경기도  산본동\n",
       "73158  37.357772  126.924150  신호위반 민원  경기도  산본동\n",
       "75630  37.356987  126.931627  신호위반 민원  경기도  산본동\n",
       "75844  37.363686  126.930610  신호위반 민원  경기도  산본동\n",
       "76260  37.357590  126.931374  신호위반 민원  경기도  산본동"
      ]
     },
     "execution_count": 194,
     "metadata": {},
     "output_type": "execute_result"
    }
   ],
   "source": [
    "unpreprocessed[unpreprocessed['시군구']=='산본동']"
   ]
  },
  {
   "cell_type": "code",
   "execution_count": 195,
   "id": "8086bd39",
   "metadata": {},
   "outputs": [
    {
     "name": "stdout",
     "output_type": "stream",
     "text": [
      "['고산로', '궁내동', '산본동', '경기도', '15825', '대한민국']\n"
     ]
    }
   ],
   "source": [
    "addr_list = []\n",
    "address = geocoding_reverse('37.358159\t126.924192\t')\n",
    "\n",
    "addr_list = str(address).split(', ')\n",
    "\n",
    "print(addr_list)"
   ]
  },
  {
   "cell_type": "code",
   "execution_count": 196,
   "id": "03de9740",
   "metadata": {
    "scrolled": true
   },
   "outputs": [
    {
     "name": "stderr",
     "output_type": "stream",
     "text": [
      "C:\\Users\\82107\\AppData\\Local\\Temp\\ipykernel_11724\\3830606676.py:3: SettingWithCopyWarning: \n",
      "A value is trying to be set on a copy of a slice from a DataFrame\n",
      "\n",
      "See the caveats in the documentation: https://pandas.pydata.org/pandas-docs/stable/user_guide/indexing.html#returning-a-view-versus-a-copy\n",
      "  unpreprocessed['시도'][i] = '경기도'\n",
      "C:\\Users\\82107\\AppData\\Local\\Temp\\ipykernel_11724\\3830606676.py:4: SettingWithCopyWarning: \n",
      "A value is trying to be set on a copy of a slice from a DataFrame\n",
      "\n",
      "See the caveats in the documentation: https://pandas.pydata.org/pandas-docs/stable/user_guide/indexing.html#returning-a-view-versus-a-copy\n",
      "  unpreprocessed['시군구'][i] = '군포시'\n"
     ]
    }
   ],
   "source": [
    "index = unpreprocessed[unpreprocessed['시군구']=='산본동'].index\n",
    "for i in index:\n",
    "    unpreprocessed['시도'][i] = '경기도'\n",
    "    unpreprocessed['시군구'][i] = '군포시'"
   ]
  },
  {
   "cell_type": "code",
   "execution_count": 198,
   "id": "d877ecbe",
   "metadata": {},
   "outputs": [
    {
     "data": {
      "text/html": [
       "<div>\n",
       "<style scoped>\n",
       "    .dataframe tbody tr th:only-of-type {\n",
       "        vertical-align: middle;\n",
       "    }\n",
       "\n",
       "    .dataframe tbody tr th {\n",
       "        vertical-align: top;\n",
       "    }\n",
       "\n",
       "    .dataframe thead th {\n",
       "        text-align: right;\n",
       "    }\n",
       "</style>\n",
       "<table border=\"1\" class=\"dataframe\">\n",
       "  <thead>\n",
       "    <tr style=\"text-align: right;\">\n",
       "      <th></th>\n",
       "      <th>위도</th>\n",
       "      <th>경도</th>\n",
       "      <th>구분</th>\n",
       "      <th>시도</th>\n",
       "      <th>시군구</th>\n",
       "    </tr>\n",
       "  </thead>\n",
       "  <tbody>\n",
       "    <tr>\n",
       "      <th>73217</th>\n",
       "      <td>35.078476</td>\n",
       "      <td>126.864563</td>\n",
       "      <td>신호위반 민원</td>\n",
       "      <td>전라남도</td>\n",
       "      <td>광주</td>\n",
       "    </tr>\n",
       "  </tbody>\n",
       "</table>\n",
       "</div>"
      ],
      "text/plain": [
       "              위도          경도       구분    시도 시군구\n",
       "73217  35.078476  126.864563  신호위반 민원  전라남도  광주"
      ]
     },
     "execution_count": 198,
     "metadata": {},
     "output_type": "execute_result"
    }
   ],
   "source": [
    "unpreprocessed[unpreprocessed['시군구']=='광주']"
   ]
  },
  {
   "cell_type": "code",
   "execution_count": 199,
   "id": "11770cd8",
   "metadata": {},
   "outputs": [
    {
     "name": "stdout",
     "output_type": "stream",
     "text": [
      "['산남로', '남구', '광주', '전라남도', '58227', '대한민국']\n"
     ]
    }
   ],
   "source": [
    "addr_list = []\n",
    "address = geocoding_reverse('35.078476\t126.864563')\n",
    "\n",
    "addr_list = str(address).split(', ')\n",
    "\n",
    "print(addr_list)"
   ]
  },
  {
   "cell_type": "code",
   "execution_count": 200,
   "id": "9db7ceb1",
   "metadata": {},
   "outputs": [
    {
     "name": "stderr",
     "output_type": "stream",
     "text": [
      "C:\\Users\\82107\\AppData\\Local\\Temp\\ipykernel_11724\\2518609864.py:3: SettingWithCopyWarning: \n",
      "A value is trying to be set on a copy of a slice from a DataFrame\n",
      "\n",
      "See the caveats in the documentation: https://pandas.pydata.org/pandas-docs/stable/user_guide/indexing.html#returning-a-view-versus-a-copy\n",
      "  unpreprocessed['시도'][i] = '광주'\n",
      "C:\\Users\\82107\\AppData\\Local\\Temp\\ipykernel_11724\\2518609864.py:4: SettingWithCopyWarning: \n",
      "A value is trying to be set on a copy of a slice from a DataFrame\n",
      "\n",
      "See the caveats in the documentation: https://pandas.pydata.org/pandas-docs/stable/user_guide/indexing.html#returning-a-view-versus-a-copy\n",
      "  unpreprocessed['시군구'][i] = '남구'\n"
     ]
    }
   ],
   "source": [
    "index = unpreprocessed[unpreprocessed['시군구']=='광주'].index\n",
    "for i in index:\n",
    "    unpreprocessed['시도'][i] = '광주'\n",
    "    unpreprocessed['시군구'][i] = '남구'"
   ]
  },
  {
   "cell_type": "code",
   "execution_count": 202,
   "id": "75fd53ec",
   "metadata": {},
   "outputs": [
    {
     "data": {
      "text/plain": [
       "array(['안산시', '동구', '북구', '구리시', '금천구', '화성시', '부천시', '연수구', '창원시', '목포시',\n",
       "       '사하구', '관악구', '유성구', '포항시', '평택시', '오산시', '수원시', '용인시', '울주군',\n",
       "       '시흥시', '연제구', '안양시', '은평구', '광진구', '양주시', '서구', '제주시', '고양시',\n",
       "       '성남시', '동작구', '나주시', '청주시', '보령시', '수성구', '남동구', '경주시', '여수시',\n",
       "       '강남구', '의왕시', '순천시', '대덕구', '아산시', '강서구', '광산구', '서귀포시', '김포시',\n",
       "       '중구', '파주시', '안성시', '태안군', '달서구', '광양시', '군산시', None, '해운대구',\n",
       "       '담양군', '경산시', '수영구', '영등포구', '계양구', '남양주시', '음성군', '서대문구', '미추홀구',\n",
       "       '광명시', '송파구', '동래구', '천안시', '진주시', '전주시', '서초구', '남구', '구미시',\n",
       "       '성동구', '부산진구', '김해시', '의정부시', '도봉구', '강동구', '금정구', '사상구', '상주시',\n",
       "       '구로구', '진천군', '서산시', '서울', '속초시', '안동시', '양양군', '제천시', '창녕군',\n",
       "       '김제시', '동대문구', '성북구', '용산구', '양산시', '광주시', '이천시', '기장군', '옥천군',\n",
       "       '하남시', '당진시', '의성군', '춘천시', '함양군', '마포구', '강릉시', '양평군', '고창군',\n",
       "       '노원구', '동해시', '정읍시', '영주시', '부평구', '영천시', '익산시', '순창군', '칠곡군',\n",
       "       '밀양시', '대구', '사천시', '충주시', '논산시', '양천구', '영암군', '화순군', '거제시',\n",
       "       '곡성군', '달성군', '통영시', '옹진군', '봉화군', '연천군', '중랑구', '포천시', '홍성군',\n",
       "       '동두천시', '군포시', '증평군', '삼척시', '공주시', '고흥군', '여주시', '종로구', '무안군',\n",
       "       '청도군', '완주군', '괴산군', '강북구', '완도군', '부여군', '김천시', '함안군', '홍천군',\n",
       "       '강화군', '원주시', '문경시', '예산군', '남원시', '금산군', '청양군', '태백시', '고성군',\n",
       "       '철원군', '성주군', '거창군', '횡성군', '예천군', '보은군', '영도구', '장성군', '정선군',\n",
       "       '하동군', '과천시', '영광군', '고령군', '가평군', '계룡시', '단양군', '영동군', '임실군',\n",
       "       '부안군', '보성군', '해남군', '평창군', '인제군', '산청군', '서천군', '의령군'],\n",
       "      dtype=object)"
      ]
     },
     "execution_count": 202,
     "metadata": {},
     "output_type": "execute_result"
    }
   ],
   "source": [
    "unpreprocessed['시군구'].unique()"
   ]
  },
  {
   "cell_type": "code",
   "execution_count": 201,
   "id": "4bbf181e",
   "metadata": {},
   "outputs": [
    {
     "name": "stderr",
     "output_type": "stream",
     "text": [
      "C:\\Users\\82107\\AppData\\Local\\Temp\\ipykernel_11724\\2946284857.py:3: SettingWithCopyWarning: \n",
      "A value is trying to be set on a copy of a slice from a DataFrame\n",
      "\n",
      "See the caveats in the documentation: https://pandas.pydata.org/pandas-docs/stable/user_guide/indexing.html#returning-a-view-versus-a-copy\n",
      "  unpreprocessed['시도'][i] = '세종'\n",
      "C:\\Users\\82107\\AppData\\Local\\Temp\\ipykernel_11724\\2946284857.py:4: SettingWithCopyWarning: \n",
      "A value is trying to be set on a copy of a slice from a DataFrame\n",
      "\n",
      "See the caveats in the documentation: https://pandas.pydata.org/pandas-docs/stable/user_guide/indexing.html#returning-a-view-versus-a-copy\n",
      "  unpreprocessed['시군구'][i] = None\n"
     ]
    }
   ],
   "source": [
    "index = unpreprocessed[unpreprocessed['시도']=='세종'].index\n",
    "for i in index:\n",
    "    unpreprocessed['시도'][i] = '세종'\n",
    "    unpreprocessed['시군구'][i] = None"
   ]
  },
  {
   "cell_type": "code",
   "execution_count": 232,
   "id": "04e9aa74",
   "metadata": {},
   "outputs": [
    {
     "data": {
      "text/html": [
       "<div>\n",
       "<style scoped>\n",
       "    .dataframe tbody tr th:only-of-type {\n",
       "        vertical-align: middle;\n",
       "    }\n",
       "\n",
       "    .dataframe tbody tr th {\n",
       "        vertical-align: top;\n",
       "    }\n",
       "\n",
       "    .dataframe thead th {\n",
       "        text-align: right;\n",
       "    }\n",
       "</style>\n",
       "<table border=\"1\" class=\"dataframe\">\n",
       "  <thead>\n",
       "    <tr style=\"text-align: right;\">\n",
       "      <th></th>\n",
       "      <th>위도</th>\n",
       "      <th>경도</th>\n",
       "      <th>구분</th>\n",
       "      <th>시도</th>\n",
       "      <th>시군구</th>\n",
       "    </tr>\n",
       "  </thead>\n",
       "  <tbody>\n",
       "  </tbody>\n",
       "</table>\n",
       "</div>"
      ],
      "text/plain": [
       "Empty DataFrame\n",
       "Columns: [위도, 경도, 구분, 시도, 시군구]\n",
       "Index: []"
      ]
     },
     "execution_count": 232,
     "metadata": {},
     "output_type": "execute_result"
    }
   ],
   "source": [
    "unpreprocessed[unpreprocessed['시군구']=='서울']"
   ]
  },
  {
   "cell_type": "code",
   "execution_count": 222,
   "id": "5bf3c3ba",
   "metadata": {},
   "outputs": [
    {
     "name": "stderr",
     "output_type": "stream",
     "text": [
      "C:\\Users\\82107\\AppData\\Local\\Temp\\ipykernel_11724\\3825244921.py:1: SettingWithCopyWarning: \n",
      "A value is trying to be set on a copy of a slice from a DataFrame\n",
      "\n",
      "See the caveats in the documentation: https://pandas.pydata.org/pandas-docs/stable/user_guide/indexing.html#returning-a-view-versus-a-copy\n",
      "  unpreprocessed['시도'][60258] = '서울'\n",
      "C:\\Users\\82107\\AppData\\Local\\Temp\\ipykernel_11724\\3825244921.py:2: SettingWithCopyWarning: \n",
      "A value is trying to be set on a copy of a slice from a DataFrame\n",
      "\n",
      "See the caveats in the documentation: https://pandas.pydata.org/pandas-docs/stable/user_guide/indexing.html#returning-a-view-versus-a-copy\n",
      "  unpreprocessed['시군구'][60258] = '금천구'\n",
      "C:\\Users\\82107\\AppData\\Local\\Temp\\ipykernel_11724\\3825244921.py:3: SettingWithCopyWarning: \n",
      "A value is trying to be set on a copy of a slice from a DataFrame\n",
      "\n",
      "See the caveats in the documentation: https://pandas.pydata.org/pandas-docs/stable/user_guide/indexing.html#returning-a-view-versus-a-copy\n",
      "  unpreprocessed['시도'][60687] = '서울'\n",
      "C:\\Users\\82107\\AppData\\Local\\Temp\\ipykernel_11724\\3825244921.py:4: SettingWithCopyWarning: \n",
      "A value is trying to be set on a copy of a slice from a DataFrame\n",
      "\n",
      "See the caveats in the documentation: https://pandas.pydata.org/pandas-docs/stable/user_guide/indexing.html#returning-a-view-versus-a-copy\n",
      "  unpreprocessed['시군구'][60687] = '강서구'\n",
      "C:\\Users\\82107\\AppData\\Local\\Temp\\ipykernel_11724\\3825244921.py:5: SettingWithCopyWarning: \n",
      "A value is trying to be set on a copy of a slice from a DataFrame\n",
      "\n",
      "See the caveats in the documentation: https://pandas.pydata.org/pandas-docs/stable/user_guide/indexing.html#returning-a-view-versus-a-copy\n",
      "  unpreprocessed['시도'][63293] = '서울'\n",
      "C:\\Users\\82107\\AppData\\Local\\Temp\\ipykernel_11724\\3825244921.py:6: SettingWithCopyWarning: \n",
      "A value is trying to be set on a copy of a slice from a DataFrame\n",
      "\n",
      "See the caveats in the documentation: https://pandas.pydata.org/pandas-docs/stable/user_guide/indexing.html#returning-a-view-versus-a-copy\n",
      "  unpreprocessed['시군구'][63293] = '강동구'\n",
      "C:\\Users\\82107\\AppData\\Local\\Temp\\ipykernel_11724\\3825244921.py:7: SettingWithCopyWarning: \n",
      "A value is trying to be set on a copy of a slice from a DataFrame\n",
      "\n",
      "See the caveats in the documentation: https://pandas.pydata.org/pandas-docs/stable/user_guide/indexing.html#returning-a-view-versus-a-copy\n",
      "  unpreprocessed['시도'][63336] = '서울'\n",
      "C:\\Users\\82107\\AppData\\Local\\Temp\\ipykernel_11724\\3825244921.py:8: SettingWithCopyWarning: \n",
      "A value is trying to be set on a copy of a slice from a DataFrame\n",
      "\n",
      "See the caveats in the documentation: https://pandas.pydata.org/pandas-docs/stable/user_guide/indexing.html#returning-a-view-versus-a-copy\n",
      "  unpreprocessed['시군구'][63336] = '양천구'\n",
      "C:\\Users\\82107\\AppData\\Local\\Temp\\ipykernel_11724\\3825244921.py:9: SettingWithCopyWarning: \n",
      "A value is trying to be set on a copy of a slice from a DataFrame\n",
      "\n",
      "See the caveats in the documentation: https://pandas.pydata.org/pandas-docs/stable/user_guide/indexing.html#returning-a-view-versus-a-copy\n",
      "  unpreprocessed['시도'][64473] = '서울'\n",
      "C:\\Users\\82107\\AppData\\Local\\Temp\\ipykernel_11724\\3825244921.py:10: SettingWithCopyWarning: \n",
      "A value is trying to be set on a copy of a slice from a DataFrame\n",
      "\n",
      "See the caveats in the documentation: https://pandas.pydata.org/pandas-docs/stable/user_guide/indexing.html#returning-a-view-versus-a-copy\n",
      "  unpreprocessed['시군구'][64473] = '강서구'\n",
      "C:\\Users\\82107\\AppData\\Local\\Temp\\ipykernel_11724\\3825244921.py:11: SettingWithCopyWarning: \n",
      "A value is trying to be set on a copy of a slice from a DataFrame\n",
      "\n",
      "See the caveats in the documentation: https://pandas.pydata.org/pandas-docs/stable/user_guide/indexing.html#returning-a-view-versus-a-copy\n",
      "  unpreprocessed['시도'][65742] = '서울'\n",
      "C:\\Users\\82107\\AppData\\Local\\Temp\\ipykernel_11724\\3825244921.py:12: SettingWithCopyWarning: \n",
      "A value is trying to be set on a copy of a slice from a DataFrame\n",
      "\n",
      "See the caveats in the documentation: https://pandas.pydata.org/pandas-docs/stable/user_guide/indexing.html#returning-a-view-versus-a-copy\n",
      "  unpreprocessed['시군구'][65742] = '강서구'\n",
      "C:\\Users\\82107\\AppData\\Local\\Temp\\ipykernel_11724\\3825244921.py:13: SettingWithCopyWarning: \n",
      "A value is trying to be set on a copy of a slice from a DataFrame\n",
      "\n",
      "See the caveats in the documentation: https://pandas.pydata.org/pandas-docs/stable/user_guide/indexing.html#returning-a-view-versus-a-copy\n",
      "  unpreprocessed['시도'][65922] = '서울'\n",
      "C:\\Users\\82107\\AppData\\Local\\Temp\\ipykernel_11724\\3825244921.py:14: SettingWithCopyWarning: \n",
      "A value is trying to be set on a copy of a slice from a DataFrame\n",
      "\n",
      "See the caveats in the documentation: https://pandas.pydata.org/pandas-docs/stable/user_guide/indexing.html#returning-a-view-versus-a-copy\n",
      "  unpreprocessed['시군구'][65922] = '강서구'\n",
      "C:\\Users\\82107\\AppData\\Local\\Temp\\ipykernel_11724\\3825244921.py:15: SettingWithCopyWarning: \n",
      "A value is trying to be set on a copy of a slice from a DataFrame\n",
      "\n",
      "See the caveats in the documentation: https://pandas.pydata.org/pandas-docs/stable/user_guide/indexing.html#returning-a-view-versus-a-copy\n",
      "  unpreprocessed['시도'][67134] = '서울'\n",
      "C:\\Users\\82107\\AppData\\Local\\Temp\\ipykernel_11724\\3825244921.py:16: SettingWithCopyWarning: \n",
      "A value is trying to be set on a copy of a slice from a DataFrame\n",
      "\n",
      "See the caveats in the documentation: https://pandas.pydata.org/pandas-docs/stable/user_guide/indexing.html#returning-a-view-versus-a-copy\n",
      "  unpreprocessed['시군구'][67134] = '광진구'\n",
      "C:\\Users\\82107\\AppData\\Local\\Temp\\ipykernel_11724\\3825244921.py:17: SettingWithCopyWarning: \n",
      "A value is trying to be set on a copy of a slice from a DataFrame\n",
      "\n",
      "See the caveats in the documentation: https://pandas.pydata.org/pandas-docs/stable/user_guide/indexing.html#returning-a-view-versus-a-copy\n",
      "  unpreprocessed['시도'][67534] = '서울'\n",
      "C:\\Users\\82107\\AppData\\Local\\Temp\\ipykernel_11724\\3825244921.py:18: SettingWithCopyWarning: \n",
      "A value is trying to be set on a copy of a slice from a DataFrame\n",
      "\n",
      "See the caveats in the documentation: https://pandas.pydata.org/pandas-docs/stable/user_guide/indexing.html#returning-a-view-versus-a-copy\n",
      "  unpreprocessed['시군구'][67534] = '송파구'\n",
      "C:\\Users\\82107\\AppData\\Local\\Temp\\ipykernel_11724\\3825244921.py:19: SettingWithCopyWarning: \n",
      "A value is trying to be set on a copy of a slice from a DataFrame\n",
      "\n",
      "See the caveats in the documentation: https://pandas.pydata.org/pandas-docs/stable/user_guide/indexing.html#returning-a-view-versus-a-copy\n",
      "  unpreprocessed['시도'][67760] = '서울'\n",
      "C:\\Users\\82107\\AppData\\Local\\Temp\\ipykernel_11724\\3825244921.py:20: SettingWithCopyWarning: \n",
      "A value is trying to be set on a copy of a slice from a DataFrame\n",
      "\n",
      "See the caveats in the documentation: https://pandas.pydata.org/pandas-docs/stable/user_guide/indexing.html#returning-a-view-versus-a-copy\n",
      "  unpreprocessed['시군구'][67760] = '양천구'\n",
      "C:\\Users\\82107\\AppData\\Local\\Temp\\ipykernel_11724\\3825244921.py:21: SettingWithCopyWarning: \n",
      "A value is trying to be set on a copy of a slice from a DataFrame\n",
      "\n",
      "See the caveats in the documentation: https://pandas.pydata.org/pandas-docs/stable/user_guide/indexing.html#returning-a-view-versus-a-copy\n",
      "  unpreprocessed['시도'][67994] = '서울'\n",
      "C:\\Users\\82107\\AppData\\Local\\Temp\\ipykernel_11724\\3825244921.py:22: SettingWithCopyWarning: \n",
      "A value is trying to be set on a copy of a slice from a DataFrame\n",
      "\n",
      "See the caveats in the documentation: https://pandas.pydata.org/pandas-docs/stable/user_guide/indexing.html#returning-a-view-versus-a-copy\n",
      "  unpreprocessed['시군구'][67994] = '강서구'\n",
      "C:\\Users\\82107\\AppData\\Local\\Temp\\ipykernel_11724\\3825244921.py:23: SettingWithCopyWarning: \n",
      "A value is trying to be set on a copy of a slice from a DataFrame\n",
      "\n",
      "See the caveats in the documentation: https://pandas.pydata.org/pandas-docs/stable/user_guide/indexing.html#returning-a-view-versus-a-copy\n",
      "  unpreprocessed['시도'][68332] = '서울'\n",
      "C:\\Users\\82107\\AppData\\Local\\Temp\\ipykernel_11724\\3825244921.py:24: SettingWithCopyWarning: \n",
      "A value is trying to be set on a copy of a slice from a DataFrame\n",
      "\n",
      "See the caveats in the documentation: https://pandas.pydata.org/pandas-docs/stable/user_guide/indexing.html#returning-a-view-versus-a-copy\n",
      "  unpreprocessed['시군구'][68332] = '강서구'\n",
      "C:\\Users\\82107\\AppData\\Local\\Temp\\ipykernel_11724\\3825244921.py:25: SettingWithCopyWarning: \n",
      "A value is trying to be set on a copy of a slice from a DataFrame\n",
      "\n",
      "See the caveats in the documentation: https://pandas.pydata.org/pandas-docs/stable/user_guide/indexing.html#returning-a-view-versus-a-copy\n",
      "  unpreprocessed['시도'][68600] = '서울'\n",
      "C:\\Users\\82107\\AppData\\Local\\Temp\\ipykernel_11724\\3825244921.py:26: SettingWithCopyWarning: \n",
      "A value is trying to be set on a copy of a slice from a DataFrame\n",
      "\n",
      "See the caveats in the documentation: https://pandas.pydata.org/pandas-docs/stable/user_guide/indexing.html#returning-a-view-versus-a-copy\n",
      "  unpreprocessed['시군구'][68600] = '구로구'\n",
      "C:\\Users\\82107\\AppData\\Local\\Temp\\ipykernel_11724\\3825244921.py:27: SettingWithCopyWarning: \n",
      "A value is trying to be set on a copy of a slice from a DataFrame\n",
      "\n",
      "See the caveats in the documentation: https://pandas.pydata.org/pandas-docs/stable/user_guide/indexing.html#returning-a-view-versus-a-copy\n",
      "  unpreprocessed['시도'][69445] = '서울'\n",
      "C:\\Users\\82107\\AppData\\Local\\Temp\\ipykernel_11724\\3825244921.py:28: SettingWithCopyWarning: \n",
      "A value is trying to be set on a copy of a slice from a DataFrame\n",
      "\n",
      "See the caveats in the documentation: https://pandas.pydata.org/pandas-docs/stable/user_guide/indexing.html#returning-a-view-versus-a-copy\n",
      "  unpreprocessed['시군구'][69445] = '서초구'\n",
      "C:\\Users\\82107\\AppData\\Local\\Temp\\ipykernel_11724\\3825244921.py:29: SettingWithCopyWarning: \n",
      "A value is trying to be set on a copy of a slice from a DataFrame\n",
      "\n",
      "See the caveats in the documentation: https://pandas.pydata.org/pandas-docs/stable/user_guide/indexing.html#returning-a-view-versus-a-copy\n",
      "  unpreprocessed['시도'][69999] = '서울'\n",
      "C:\\Users\\82107\\AppData\\Local\\Temp\\ipykernel_11724\\3825244921.py:30: SettingWithCopyWarning: \n",
      "A value is trying to be set on a copy of a slice from a DataFrame\n",
      "\n",
      "See the caveats in the documentation: https://pandas.pydata.org/pandas-docs/stable/user_guide/indexing.html#returning-a-view-versus-a-copy\n",
      "  unpreprocessed['시군구'][69999] = '강남구'\n"
     ]
    }
   ],
   "source": [
    "unpreprocessed['시도'][60258] = '서울'\n",
    "unpreprocessed['시군구'][60258] = '금천구'\n",
    "unpreprocessed['시도'][60687] = '서울'\n",
    "unpreprocessed['시군구'][60687] = '강서구'\n",
    "unpreprocessed['시도'][63293] = '서울'\n",
    "unpreprocessed['시군구'][63293] = '강동구'\n",
    "unpreprocessed['시도'][63336] = '서울'\n",
    "unpreprocessed['시군구'][63336] = '양천구'\n",
    "unpreprocessed['시도'][64473] = '서울'\n",
    "unpreprocessed['시군구'][64473] = '강서구'\n",
    "unpreprocessed['시도'][65742] = '서울'\n",
    "unpreprocessed['시군구'][65742] = '강서구'\n",
    "unpreprocessed['시도'][65922] = '서울'\n",
    "unpreprocessed['시군구'][65922] = '강서구'\n",
    "unpreprocessed['시도'][67134] = '서울'\n",
    "unpreprocessed['시군구'][67134] = '광진구'\n",
    "unpreprocessed['시도'][67534] = '서울'\n",
    "unpreprocessed['시군구'][67534] = '송파구'\n",
    "unpreprocessed['시도'][67760] = '서울'\n",
    "unpreprocessed['시군구'][67760] = '양천구'\n",
    "unpreprocessed['시도'][67994] = '서울'\n",
    "unpreprocessed['시군구'][67994] = '강서구'\n",
    "unpreprocessed['시도'][68332] = '서울'\n",
    "unpreprocessed['시군구'][68332] = '강서구'\n",
    "unpreprocessed['시도'][68600] = '서울'\n",
    "unpreprocessed['시군구'][68600] = '구로구'\n",
    "unpreprocessed['시도'][69445] = '서울'\n",
    "unpreprocessed['시군구'][69445] = '서초구'\n",
    "unpreprocessed['시도'][69999] = '서울'\n",
    "unpreprocessed['시군구'][69999] = '강남구'"
   ]
  },
  {
   "cell_type": "code",
   "execution_count": 231,
   "id": "6ce17cbc",
   "metadata": {},
   "outputs": [
    {
     "name": "stderr",
     "output_type": "stream",
     "text": [
      "C:\\Users\\82107\\AppData\\Local\\Temp\\ipykernel_11724\\2305595081.py:1: SettingWithCopyWarning: \n",
      "A value is trying to be set on a copy of a slice from a DataFrame\n",
      "\n",
      "See the caveats in the documentation: https://pandas.pydata.org/pandas-docs/stable/user_guide/indexing.html#returning-a-view-versus-a-copy\n",
      "  unpreprocessed['시도'][70005] = '서울'\n",
      "C:\\Users\\82107\\AppData\\Local\\Temp\\ipykernel_11724\\2305595081.py:2: SettingWithCopyWarning: \n",
      "A value is trying to be set on a copy of a slice from a DataFrame\n",
      "\n",
      "See the caveats in the documentation: https://pandas.pydata.org/pandas-docs/stable/user_guide/indexing.html#returning-a-view-versus-a-copy\n",
      "  unpreprocessed['시군구'][70005] = '강남구'\n",
      "C:\\Users\\82107\\AppData\\Local\\Temp\\ipykernel_11724\\2305595081.py:3: SettingWithCopyWarning: \n",
      "A value is trying to be set on a copy of a slice from a DataFrame\n",
      "\n",
      "See the caveats in the documentation: https://pandas.pydata.org/pandas-docs/stable/user_guide/indexing.html#returning-a-view-versus-a-copy\n",
      "  unpreprocessed['시도'][73970] = '서울'\n",
      "C:\\Users\\82107\\AppData\\Local\\Temp\\ipykernel_11724\\2305595081.py:4: SettingWithCopyWarning: \n",
      "A value is trying to be set on a copy of a slice from a DataFrame\n",
      "\n",
      "See the caveats in the documentation: https://pandas.pydata.org/pandas-docs/stable/user_guide/indexing.html#returning-a-view-versus-a-copy\n",
      "  unpreprocessed['시군구'][73970] = '강동구'\n",
      "C:\\Users\\82107\\AppData\\Local\\Temp\\ipykernel_11724\\2305595081.py:5: SettingWithCopyWarning: \n",
      "A value is trying to be set on a copy of a slice from a DataFrame\n",
      "\n",
      "See the caveats in the documentation: https://pandas.pydata.org/pandas-docs/stable/user_guide/indexing.html#returning-a-view-versus-a-copy\n",
      "  unpreprocessed['시도'][74170] = '서울'\n",
      "C:\\Users\\82107\\AppData\\Local\\Temp\\ipykernel_11724\\2305595081.py:6: SettingWithCopyWarning: \n",
      "A value is trying to be set on a copy of a slice from a DataFrame\n",
      "\n",
      "See the caveats in the documentation: https://pandas.pydata.org/pandas-docs/stable/user_guide/indexing.html#returning-a-view-versus-a-copy\n",
      "  unpreprocessed['시군구'][74170] = '강남구'\n",
      "C:\\Users\\82107\\AppData\\Local\\Temp\\ipykernel_11724\\2305595081.py:7: SettingWithCopyWarning: \n",
      "A value is trying to be set on a copy of a slice from a DataFrame\n",
      "\n",
      "See the caveats in the documentation: https://pandas.pydata.org/pandas-docs/stable/user_guide/indexing.html#returning-a-view-versus-a-copy\n",
      "  unpreprocessed['시도'][74613] = '서울'\n",
      "C:\\Users\\82107\\AppData\\Local\\Temp\\ipykernel_11724\\2305595081.py:8: SettingWithCopyWarning: \n",
      "A value is trying to be set on a copy of a slice from a DataFrame\n",
      "\n",
      "See the caveats in the documentation: https://pandas.pydata.org/pandas-docs/stable/user_guide/indexing.html#returning-a-view-versus-a-copy\n",
      "  unpreprocessed['시군구'][74613] = '강서구'\n",
      "C:\\Users\\82107\\AppData\\Local\\Temp\\ipykernel_11724\\2305595081.py:9: SettingWithCopyWarning: \n",
      "A value is trying to be set on a copy of a slice from a DataFrame\n",
      "\n",
      "See the caveats in the documentation: https://pandas.pydata.org/pandas-docs/stable/user_guide/indexing.html#returning-a-view-versus-a-copy\n",
      "  unpreprocessed['시도'][76250] = '서울'\n",
      "C:\\Users\\82107\\AppData\\Local\\Temp\\ipykernel_11724\\2305595081.py:10: SettingWithCopyWarning: \n",
      "A value is trying to be set on a copy of a slice from a DataFrame\n",
      "\n",
      "See the caveats in the documentation: https://pandas.pydata.org/pandas-docs/stable/user_guide/indexing.html#returning-a-view-versus-a-copy\n",
      "  unpreprocessed['시군구'][76250] = '강동구'\n",
      "C:\\Users\\82107\\AppData\\Local\\Temp\\ipykernel_11724\\2305595081.py:11: SettingWithCopyWarning: \n",
      "A value is trying to be set on a copy of a slice from a DataFrame\n",
      "\n",
      "See the caveats in the documentation: https://pandas.pydata.org/pandas-docs/stable/user_guide/indexing.html#returning-a-view-versus-a-copy\n",
      "  unpreprocessed['시도'][76996] = '서울'\n",
      "C:\\Users\\82107\\AppData\\Local\\Temp\\ipykernel_11724\\2305595081.py:12: SettingWithCopyWarning: \n",
      "A value is trying to be set on a copy of a slice from a DataFrame\n",
      "\n",
      "See the caveats in the documentation: https://pandas.pydata.org/pandas-docs/stable/user_guide/indexing.html#returning-a-view-versus-a-copy\n",
      "  unpreprocessed['시군구'][76996] = '강서구'\n",
      "C:\\Users\\82107\\AppData\\Local\\Temp\\ipykernel_11724\\2305595081.py:13: SettingWithCopyWarning: \n",
      "A value is trying to be set on a copy of a slice from a DataFrame\n",
      "\n",
      "See the caveats in the documentation: https://pandas.pydata.org/pandas-docs/stable/user_guide/indexing.html#returning-a-view-versus-a-copy\n",
      "  unpreprocessed['시도'][77738] = '서울'\n",
      "C:\\Users\\82107\\AppData\\Local\\Temp\\ipykernel_11724\\2305595081.py:14: SettingWithCopyWarning: \n",
      "A value is trying to be set on a copy of a slice from a DataFrame\n",
      "\n",
      "See the caveats in the documentation: https://pandas.pydata.org/pandas-docs/stable/user_guide/indexing.html#returning-a-view-versus-a-copy\n",
      "  unpreprocessed['시군구'][77738] = '금천구'\n"
     ]
    }
   ],
   "source": [
    "unpreprocessed['시도'][70005] = '서울'\n",
    "unpreprocessed['시군구'][70005] = '강남구'\n",
    "unpreprocessed['시도'][73970] = '서울'\n",
    "unpreprocessed['시군구'][73970] = '강동구'\n",
    "unpreprocessed['시도'][74170] = '서울'\n",
    "unpreprocessed['시군구'][74170] = '강남구'\n",
    "unpreprocessed['시도'][74613] = '서울'\n",
    "unpreprocessed['시군구'][74613] = '강서구'\n",
    "unpreprocessed['시도'][76250] = '서울'\n",
    "unpreprocessed['시군구'][76250] = '강동구'\n",
    "unpreprocessed['시도'][76996] = '서울'\n",
    "unpreprocessed['시군구'][76996] = '강서구'\n",
    "unpreprocessed['시도'][77738] = '서울'\n",
    "unpreprocessed['시군구'][77738] = '금천구'"
   ]
  },
  {
   "cell_type": "code",
   "execution_count": 230,
   "id": "5180f8ce",
   "metadata": {},
   "outputs": [
    {
     "name": "stdout",
     "output_type": "stream",
     "text": [
      "['안양천로', '독산1동', '금천구', '서울', '경기도', '14306', '대한민국']\n"
     ]
    }
   ],
   "source": [
    "addr_list = []\n",
    "address = geocoding_reverse('37.464834\t126.884171')\n",
    "\n",
    "addr_list = str(address).split(', ')\n",
    "\n",
    "print(addr_list)"
   ]
  },
  {
   "cell_type": "code",
   "execution_count": null,
   "id": "9876b3d2",
   "metadata": {},
   "outputs": [],
   "source": [
    "index = unpreprocessed[unpreprocessed['시군구']=='광주'].index\n",
    "for i in index:\n",
    "    unpreprocessed['시도'][i] = '광주'\n",
    "    unpreprocessed['시군구'][i] = '남구'"
   ]
  },
  {
   "cell_type": "code",
   "execution_count": 233,
   "id": "68520ddf",
   "metadata": {
    "scrolled": true
   },
   "outputs": [
    {
     "data": {
      "text/html": [
       "<div>\n",
       "<style scoped>\n",
       "    .dataframe tbody tr th:only-of-type {\n",
       "        vertical-align: middle;\n",
       "    }\n",
       "\n",
       "    .dataframe tbody tr th {\n",
       "        vertical-align: top;\n",
       "    }\n",
       "\n",
       "    .dataframe thead th {\n",
       "        text-align: right;\n",
       "    }\n",
       "</style>\n",
       "<table border=\"1\" class=\"dataframe\">\n",
       "  <thead>\n",
       "    <tr style=\"text-align: right;\">\n",
       "      <th></th>\n",
       "      <th>위도</th>\n",
       "      <th>경도</th>\n",
       "      <th>구분</th>\n",
       "      <th>시도</th>\n",
       "      <th>시군구</th>\n",
       "    </tr>\n",
       "  </thead>\n",
       "  <tbody>\n",
       "    <tr>\n",
       "      <th>60624</th>\n",
       "      <td>35.837415</td>\n",
       "      <td>128.724627</td>\n",
       "      <td>신호위반 민원</td>\n",
       "      <td>경상북도</td>\n",
       "      <td>대구</td>\n",
       "    </tr>\n",
       "    <tr>\n",
       "      <th>63328</th>\n",
       "      <td>35.836472</td>\n",
       "      <td>128.717549</td>\n",
       "      <td>신호위반 민원</td>\n",
       "      <td>경상북도</td>\n",
       "      <td>대구</td>\n",
       "    </tr>\n",
       "    <tr>\n",
       "      <th>64474</th>\n",
       "      <td>35.876397</td>\n",
       "      <td>128.757630</td>\n",
       "      <td>신호위반 민원</td>\n",
       "      <td>경상북도</td>\n",
       "      <td>대구</td>\n",
       "    </tr>\n",
       "    <tr>\n",
       "      <th>68595</th>\n",
       "      <td>35.860098</td>\n",
       "      <td>128.716680</td>\n",
       "      <td>신호위반 민원</td>\n",
       "      <td>경상북도</td>\n",
       "      <td>대구</td>\n",
       "    </tr>\n",
       "  </tbody>\n",
       "</table>\n",
       "</div>"
      ],
      "text/plain": [
       "              위도          경도       구분    시도 시군구\n",
       "60624  35.837415  128.724627  신호위반 민원  경상북도  대구\n",
       "63328  35.836472  128.717549  신호위반 민원  경상북도  대구\n",
       "64474  35.876397  128.757630  신호위반 민원  경상북도  대구\n",
       "68595  35.860098  128.716680  신호위반 민원  경상북도  대구"
      ]
     },
     "execution_count": 233,
     "metadata": {},
     "output_type": "execute_result"
    }
   ],
   "source": [
    "unpreprocessed[unpreprocessed['시군구']=='대구']"
   ]
  },
  {
   "cell_type": "code",
   "execution_count": 237,
   "id": "5ebbb041",
   "metadata": {},
   "outputs": [
    {
     "name": "stdout",
     "output_type": "stream",
     "text": [
      "['경안로', '대평동', '고산3동', '수성구', '대구', '경상북도', '38624', '대한민국']\n"
     ]
    }
   ],
   "source": [
    "addr_list = []\n",
    "address = geocoding_reverse('35.860098\t128.716680')\n",
    "\n",
    "addr_list = str(address).split(', ')\n",
    "\n",
    "print(addr_list)"
   ]
  },
  {
   "cell_type": "code",
   "execution_count": 238,
   "id": "c24117b5",
   "metadata": {},
   "outputs": [
    {
     "name": "stderr",
     "output_type": "stream",
     "text": [
      "C:\\Users\\82107\\AppData\\Local\\Temp\\ipykernel_11724\\1329718530.py:1: SettingWithCopyWarning: \n",
      "A value is trying to be set on a copy of a slice from a DataFrame\n",
      "\n",
      "See the caveats in the documentation: https://pandas.pydata.org/pandas-docs/stable/user_guide/indexing.html#returning-a-view-versus-a-copy\n",
      "  unpreprocessed['시도'][60624] = '대구'\n",
      "C:\\Users\\82107\\AppData\\Local\\Temp\\ipykernel_11724\\1329718530.py:2: SettingWithCopyWarning: \n",
      "A value is trying to be set on a copy of a slice from a DataFrame\n",
      "\n",
      "See the caveats in the documentation: https://pandas.pydata.org/pandas-docs/stable/user_guide/indexing.html#returning-a-view-versus-a-copy\n",
      "  unpreprocessed['시군구'][60624] = '수성구'\n",
      "C:\\Users\\82107\\AppData\\Local\\Temp\\ipykernel_11724\\1329718530.py:3: SettingWithCopyWarning: \n",
      "A value is trying to be set on a copy of a slice from a DataFrame\n",
      "\n",
      "See the caveats in the documentation: https://pandas.pydata.org/pandas-docs/stable/user_guide/indexing.html#returning-a-view-versus-a-copy\n",
      "  unpreprocessed['시도'][63328] = '대구'\n",
      "C:\\Users\\82107\\AppData\\Local\\Temp\\ipykernel_11724\\1329718530.py:4: SettingWithCopyWarning: \n",
      "A value is trying to be set on a copy of a slice from a DataFrame\n",
      "\n",
      "See the caveats in the documentation: https://pandas.pydata.org/pandas-docs/stable/user_guide/indexing.html#returning-a-view-versus-a-copy\n",
      "  unpreprocessed['시군구'][63328] = '수성구'\n",
      "C:\\Users\\82107\\AppData\\Local\\Temp\\ipykernel_11724\\1329718530.py:5: SettingWithCopyWarning: \n",
      "A value is trying to be set on a copy of a slice from a DataFrame\n",
      "\n",
      "See the caveats in the documentation: https://pandas.pydata.org/pandas-docs/stable/user_guide/indexing.html#returning-a-view-versus-a-copy\n",
      "  unpreprocessed['시도'][64474] = '대구'\n",
      "C:\\Users\\82107\\AppData\\Local\\Temp\\ipykernel_11724\\1329718530.py:6: SettingWithCopyWarning: \n",
      "A value is trying to be set on a copy of a slice from a DataFrame\n",
      "\n",
      "See the caveats in the documentation: https://pandas.pydata.org/pandas-docs/stable/user_guide/indexing.html#returning-a-view-versus-a-copy\n",
      "  unpreprocessed['시군구'][64474] = '동구'\n",
      "C:\\Users\\82107\\AppData\\Local\\Temp\\ipykernel_11724\\1329718530.py:7: SettingWithCopyWarning: \n",
      "A value is trying to be set on a copy of a slice from a DataFrame\n",
      "\n",
      "See the caveats in the documentation: https://pandas.pydata.org/pandas-docs/stable/user_guide/indexing.html#returning-a-view-versus-a-copy\n",
      "  unpreprocessed['시도'][68595] = '대구'\n",
      "C:\\Users\\82107\\AppData\\Local\\Temp\\ipykernel_11724\\1329718530.py:8: SettingWithCopyWarning: \n",
      "A value is trying to be set on a copy of a slice from a DataFrame\n",
      "\n",
      "See the caveats in the documentation: https://pandas.pydata.org/pandas-docs/stable/user_guide/indexing.html#returning-a-view-versus-a-copy\n",
      "  unpreprocessed['시군구'][68595] = '수성구'\n"
     ]
    }
   ],
   "source": [
    "unpreprocessed['시도'][60624] = '대구'\n",
    "unpreprocessed['시군구'][60624] = '수성구'\n",
    "unpreprocessed['시도'][63328] = '대구'\n",
    "unpreprocessed['시군구'][63328] = '수성구'\n",
    "unpreprocessed['시도'][64474] = '대구'\n",
    "unpreprocessed['시군구'][64474] = '동구'\n",
    "unpreprocessed['시도'][68595] = '대구'\n",
    "unpreprocessed['시군구'][68595] = '수성구'"
   ]
  },
  {
   "cell_type": "code",
   "execution_count": 240,
   "id": "b03405a4",
   "metadata": {},
   "outputs": [],
   "source": [
    "unpreprocessed.to_csv('D.csv',  encoding='cp949', index=False)"
   ]
  }
 ],
 "metadata": {
  "kernelspec": {
   "display_name": "Python 3 (ipykernel)",
   "language": "python",
   "name": "python3"
  },
  "language_info": {
   "codemirror_mode": {
    "name": "ipython",
    "version": 3
   },
   "file_extension": ".py",
   "mimetype": "text/x-python",
   "name": "python",
   "nbconvert_exporter": "python",
   "pygments_lexer": "ipython3",
   "version": "3.9.13"
  }
 },
 "nbformat": 4,
 "nbformat_minor": 5
}
